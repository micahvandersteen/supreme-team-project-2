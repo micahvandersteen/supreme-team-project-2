{
 "cells": [
  {
   "cell_type": "code",
   "execution_count": null,
   "metadata": {},
   "outputs": [],
   "source": [
    "import pandas as pd\n",
    "import os\n",
    "import csv\n",
    "import matplotlib.pyplot as plt\n",
    "import numpy as np\n",
    "import matplotlib.patches as mpatches"
   ]
  },
  {
   "cell_type": "code",
   "execution_count": null,
   "metadata": {},
   "outputs": [],
   "source": [
    "dataFile = \"static/data/combined_data.csv\""
   ]
  },
  {
   "cell_type": "code",
   "execution_count": null,
   "metadata": {},
   "outputs": [],
   "source": [
    "mn_ed_df = pd.read_csv(dataFile)\n",
    "mn_ed_df.head()"
   ]
  },
  {
   "cell_type": "code",
   "execution_count": null,
   "metadata": {},
   "outputs": [],
   "source": [
    "mn_ed_df.drop(mn_ed_df[mn_ed_df[\"avgteachersalary\"] == 0].index, inplace = True)\n",
    "mn_ed_df[\"avgteachersalary\"] = pd.to_numeric(mn_ed_df[\"avgteachersalary\"])\n",
    "\n",
    "mn_ed_df.head()"
   ]
  },
  {
   "cell_type": "code",
   "execution_count": null,
   "metadata": {},
   "outputs": [],
   "source": [
    "mn_ed_df[\"avgteachersalary\"].describe()"
   ]
  },
  {
   "cell_type": "code",
   "execution_count": null,
   "metadata": {},
   "outputs": [],
   "source": [
    "salaries = mn_ed_df[\"avgteachersalary\"]\n",
    "fig, ax = plt.subplots(figsize=(7.1, 9.0))\n",
    "color=('#ebdef0')\n",
    "ax.set_title(\"Statewide Average: MN Teacher Salary, 2018\", fontsize=16, color=\"white\")\n",
    "ax.set_ylabel(\"Salary ($/year)\", fontsize=16, color=\"white\")\n",
    "bplot = ax.boxplot(salaries, showmeans=True, meanline=True, notch=True, showfliers=True)\n",
    "ax.yaxis.grid(True, linestyle = '-', which='major', color='#8db9d6', alpha=0.9)\n",
    "plt.setp(bplot['boxes'], color=\"#1a0f46\", linewidth=2.5)\n",
    "plt.setp(bplot['whiskers'], color=\"purple\", linewidth=2.5)\n",
    "plt.setp(bplot['fliers'], color=\"#e80e75\")\n",
    "ax.set_xticklabels([])\n",
    "ax.tick_params(labelcolor=\"white\", labelsize=14)\n",
    "plt.show\n",
    "green_dash = mpatches.Patch(color=\"green\", label = \"Statewide Mean $54,987\")\n",
    "orange_patch = mpatches.Patch(color=\"orange\", label= \"Statewide Median $54,237\")\n",
    "plt.legend(handles=[orange_patch, green_dash],loc='best')\n",
    "fig.tight_layout()\n",
    "fig.patch.set_facecolor(\"#336699\")\n",
    "plt.gcf().subplots_adjust(left=0)\n",
    "plt.savefig(\"static/salary_box_plot.png\", bbox_inches='tight')"
   ]
  },
  {
   "cell_type": "code",
   "execution_count": null,
   "metadata": {},
   "outputs": [],
   "source": []
  },
  {
   "cell_type": "code",
   "execution_count": null,
   "metadata": {},
   "outputs": [],
   "source": []
  }
 ],
 "metadata": {
  "kernelspec": {
   "display_name": "Python 3",
   "language": "python",
   "name": "python3"
  },
  "language_info": {
   "codemirror_mode": {
    "name": "ipython",
    "version": 3
   },
   "file_extension": ".py",
   "mimetype": "text/x-python",
   "name": "python",
   "nbconvert_exporter": "python",
   "pygments_lexer": "ipython3",
   "version": "3.6.9"
  }
 },
 "nbformat": 4,
 "nbformat_minor": 2
}
