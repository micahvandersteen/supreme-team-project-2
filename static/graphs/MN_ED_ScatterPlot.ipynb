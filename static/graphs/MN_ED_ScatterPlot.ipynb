{
 "cells": [
  {
   "cell_type": "code",
   "execution_count": 1,
   "metadata": {},
   "outputs": [],
   "source": [
    "import pandas as pd\n",
    "import os\n",
    "import csv\n",
    "import matplotlib.pyplot as plt\n",
    "import numpy as np\n",
    "import scipy.stats as sts\n",
    "import seaborn as sns\n",
    "import matplotlib.patches as mpatches\n",
    "import plotly.express as px \n",
    "import plotly.graph_objects as go"
   ]
  },
  {
   "cell_type": "code",
   "execution_count": 2,
   "metadata": {},
   "outputs": [],
   "source": [
    "dataFile = \"static/data/MNEducationDashboard.csv\""
   ]
  },
  {
   "cell_type": "code",
   "execution_count": 3,
   "metadata": {},
   "outputs": [
    {
     "data": {
      "text/html": [
       "<div>\n",
       "<style scoped>\n",
       "    .dataframe tbody tr th:only-of-type {\n",
       "        vertical-align: middle;\n",
       "    }\n",
       "\n",
       "    .dataframe tbody tr th {\n",
       "        vertical-align: top;\n",
       "    }\n",
       "\n",
       "    .dataframe thead th {\n",
       "        text-align: right;\n",
       "    }\n",
       "</style>\n",
       "<table border=\"1\" class=\"dataframe\">\n",
       "  <thead>\n",
       "    <tr style=\"text-align: right;\">\n",
       "      <th></th>\n",
       "      <th>id</th>\n",
       "      <th>districtname</th>\n",
       "      <th>admtotal</th>\n",
       "      <th>generalfundexpends</th>\n",
       "      <th>perpupilexpends</th>\n",
       "      <th>avgteachersalary</th>\n",
       "      <th>readingproficiency</th>\n",
       "      <th>total_enroll</th>\n",
       "      <th>female_pct</th>\n",
       "      <th>male_pct</th>\n",
       "      <th>...</th>\n",
       "      <th>nocomp_cnt</th>\n",
       "      <th>nocomp_pct</th>\n",
       "      <th>yescomp_cnt</th>\n",
       "      <th>yescomp_pct</th>\n",
       "      <th>nointernet_cnt</th>\n",
       "      <th>nointernet_pct</th>\n",
       "      <th>yesinternet_cnt</th>\n",
       "      <th>yesinternet_pct</th>\n",
       "      <th>lat</th>\n",
       "      <th>lng</th>\n",
       "    </tr>\n",
       "  </thead>\n",
       "  <tbody>\n",
       "    <tr>\n",
       "      <th>0</th>\n",
       "      <td>2799999</td>\n",
       "      <td>State of Minnesota</td>\n",
       "      <td>868137.24</td>\n",
       "      <td>9638187419</td>\n",
       "      <td>11102.15</td>\n",
       "      <td>61362</td>\n",
       "      <td>59.174286</td>\n",
       "      <td>889304</td>\n",
       "      <td>48.49</td>\n",
       "      <td>51.51</td>\n",
       "      <td>...</td>\n",
       "      <td>208684</td>\n",
       "      <td>8.792840</td>\n",
       "      <td>2164656</td>\n",
       "      <td>91.207160</td>\n",
       "      <td>283696</td>\n",
       "      <td>11.587223</td>\n",
       "      <td>2164656</td>\n",
       "      <td>88.412777</td>\n",
       "      <td>46.729600</td>\n",
       "      <td>-94.685900</td>\n",
       "    </tr>\n",
       "    <tr>\n",
       "      <th>1</th>\n",
       "      <td>2702760</td>\n",
       "      <td>Aitkin Public School District</td>\n",
       "      <td>1177.69</td>\n",
       "      <td>12036522</td>\n",
       "      <td>10220.45</td>\n",
       "      <td>55454</td>\n",
       "      <td>57.638571</td>\n",
       "      <td>1186</td>\n",
       "      <td>47.39</td>\n",
       "      <td>52.61</td>\n",
       "      <td>...</td>\n",
       "      <td>741</td>\n",
       "      <td>13.834951</td>\n",
       "      <td>4615</td>\n",
       "      <td>86.165049</td>\n",
       "      <td>1076</td>\n",
       "      <td>18.907046</td>\n",
       "      <td>4615</td>\n",
       "      <td>81.092954</td>\n",
       "      <td>46.564144</td>\n",
       "      <td>-93.648930</td>\n",
       "    </tr>\n",
       "    <tr>\n",
       "      <th>2</th>\n",
       "      <td>2721240</td>\n",
       "      <td>Minneapolis Public School District</td>\n",
       "      <td>34088.09</td>\n",
       "      <td>439046660</td>\n",
       "      <td>12879.77</td>\n",
       "      <td>70659</td>\n",
       "      <td>46.480000</td>\n",
       "      <td>35580</td>\n",
       "      <td>48.65</td>\n",
       "      <td>51.35</td>\n",
       "      <td>...</td>\n",
       "      <td>14852</td>\n",
       "      <td>7.869652</td>\n",
       "      <td>173873</td>\n",
       "      <td>92.130348</td>\n",
       "      <td>22649</td>\n",
       "      <td>11.524918</td>\n",
       "      <td>173873</td>\n",
       "      <td>88.475082</td>\n",
       "      <td>44.963324</td>\n",
       "      <td>-93.268320</td>\n",
       "    </tr>\n",
       "    <tr>\n",
       "      <th>3</th>\n",
       "      <td>2714010</td>\n",
       "      <td>Hill City Public School District</td>\n",
       "      <td>264.67</td>\n",
       "      <td>3787461</td>\n",
       "      <td>14310.13</td>\n",
       "      <td>55552</td>\n",
       "      <td>46.282857</td>\n",
       "      <td>267</td>\n",
       "      <td>50.19</td>\n",
       "      <td>49.81</td>\n",
       "      <td>...</td>\n",
       "      <td>124</td>\n",
       "      <td>14.318707</td>\n",
       "      <td>742</td>\n",
       "      <td>85.681293</td>\n",
       "      <td>196</td>\n",
       "      <td>20.895522</td>\n",
       "      <td>742</td>\n",
       "      <td>79.104478</td>\n",
       "      <td>46.952798</td>\n",
       "      <td>-93.523779</td>\n",
       "    </tr>\n",
       "    <tr>\n",
       "      <th>4</th>\n",
       "      <td>2719170</td>\n",
       "      <td>McGregor Public School District</td>\n",
       "      <td>464.30</td>\n",
       "      <td>5596677</td>\n",
       "      <td>12054.01</td>\n",
       "      <td>50071</td>\n",
       "      <td>49.258571</td>\n",
       "      <td>480</td>\n",
       "      <td>47.08</td>\n",
       "      <td>52.92</td>\n",
       "      <td>...</td>\n",
       "      <td>315</td>\n",
       "      <td>13.224181</td>\n",
       "      <td>2067</td>\n",
       "      <td>86.775819</td>\n",
       "      <td>457</td>\n",
       "      <td>18.106181</td>\n",
       "      <td>2067</td>\n",
       "      <td>81.893819</td>\n",
       "      <td>46.577144</td>\n",
       "      <td>-93.238742</td>\n",
       "    </tr>\n",
       "  </tbody>\n",
       "</table>\n",
       "<p>5 rows × 30 columns</p>\n",
       "</div>"
      ],
      "text/plain": [
       "        id                        districtname   admtotal  generalfundexpends  \\\n",
       "0  2799999                  State of Minnesota  868137.24          9638187419   \n",
       "1  2702760       Aitkin Public School District    1177.69            12036522   \n",
       "2  2721240  Minneapolis Public School District   34088.09           439046660   \n",
       "3  2714010    Hill City Public School District     264.67             3787461   \n",
       "4  2719170     McGregor Public School District     464.30             5596677   \n",
       "\n",
       "   perpupilexpends  avgteachersalary  readingproficiency  total_enroll  \\\n",
       "0         11102.15             61362           59.174286        889304   \n",
       "1         10220.45             55454           57.638571          1186   \n",
       "2         12879.77             70659           46.480000         35580   \n",
       "3         14310.13             55552           46.282857           267   \n",
       "4         12054.01             50071           49.258571           480   \n",
       "\n",
       "   female_pct  male_pct  ...  nocomp_cnt  nocomp_pct  yescomp_cnt  \\\n",
       "0       48.49     51.51  ...      208684    8.792840      2164656   \n",
       "1       47.39     52.61  ...         741   13.834951         4615   \n",
       "2       48.65     51.35  ...       14852    7.869652       173873   \n",
       "3       50.19     49.81  ...         124   14.318707          742   \n",
       "4       47.08     52.92  ...         315   13.224181         2067   \n",
       "\n",
       "   yescomp_pct  nointernet_cnt  nointernet_pct  yesinternet_cnt  \\\n",
       "0    91.207160          283696       11.587223          2164656   \n",
       "1    86.165049            1076       18.907046             4615   \n",
       "2    92.130348           22649       11.524918           173873   \n",
       "3    85.681293             196       20.895522              742   \n",
       "4    86.775819             457       18.106181             2067   \n",
       "\n",
       "   yesinternet_pct        lat        lng  \n",
       "0        88.412777  46.729600 -94.685900  \n",
       "1        81.092954  46.564144 -93.648930  \n",
       "2        88.475082  44.963324 -93.268320  \n",
       "3        79.104478  46.952798 -93.523779  \n",
       "4        81.893819  46.577144 -93.238742  \n",
       "\n",
       "[5 rows x 30 columns]"
      ]
     },
     "execution_count": 3,
     "metadata": {},
     "output_type": "execute_result"
    }
   ],
   "source": [
    "mned_df = pd.read_csv(dataFile)\n",
    "mned_df.head()"
   ]
  },
  {
   "cell_type": "code",
   "execution_count": 20,
   "metadata": {},
   "outputs": [
    {
     "data": {
      "text/html": [
       "<div>\n",
       "<style scoped>\n",
       "    .dataframe tbody tr th:only-of-type {\n",
       "        vertical-align: middle;\n",
       "    }\n",
       "\n",
       "    .dataframe tbody tr th {\n",
       "        vertical-align: top;\n",
       "    }\n",
       "\n",
       "    .dataframe thead th {\n",
       "        text-align: right;\n",
       "    }\n",
       "</style>\n",
       "<table border=\"1\" class=\"dataframe\">\n",
       "  <thead>\n",
       "    <tr style=\"text-align: right;\">\n",
       "      <th></th>\n",
       "      <th>id</th>\n",
       "      <th>District</th>\n",
       "      <th>Enrollment</th>\n",
       "      <th>General Fund Expenditures</th>\n",
       "      <th>Per Pupil Expenditures</th>\n",
       "      <th>avgteachersalary</th>\n",
       "      <th>Reading Proficiency</th>\n",
       "      <th>total_enroll</th>\n",
       "      <th>female_pct</th>\n",
       "      <th>male_pct</th>\n",
       "      <th>...</th>\n",
       "      <th>nocomp_cnt</th>\n",
       "      <th>nocomp_pct</th>\n",
       "      <th>yescomp_cnt</th>\n",
       "      <th>yescomp_pct</th>\n",
       "      <th>nointernet_cnt</th>\n",
       "      <th>nointernet_pct</th>\n",
       "      <th>yesinternet_cnt</th>\n",
       "      <th>yesinternet_pct</th>\n",
       "      <th>lat</th>\n",
       "      <th>lng</th>\n",
       "    </tr>\n",
       "  </thead>\n",
       "  <tbody>\n",
       "    <tr>\n",
       "      <th>1</th>\n",
       "      <td>2702760</td>\n",
       "      <td>Aitkin Public School District</td>\n",
       "      <td>1177.69</td>\n",
       "      <td>12036522</td>\n",
       "      <td>10220.45</td>\n",
       "      <td>55454</td>\n",
       "      <td>57.638571</td>\n",
       "      <td>1186</td>\n",
       "      <td>47.39</td>\n",
       "      <td>52.61</td>\n",
       "      <td>...</td>\n",
       "      <td>741</td>\n",
       "      <td>13.834951</td>\n",
       "      <td>4615</td>\n",
       "      <td>86.165049</td>\n",
       "      <td>1076</td>\n",
       "      <td>18.907046</td>\n",
       "      <td>4615</td>\n",
       "      <td>81.092954</td>\n",
       "      <td>46.564144</td>\n",
       "      <td>-93.648930</td>\n",
       "    </tr>\n",
       "    <tr>\n",
       "      <th>2</th>\n",
       "      <td>2721240</td>\n",
       "      <td>Minneapolis Public School District</td>\n",
       "      <td>34088.09</td>\n",
       "      <td>439046660</td>\n",
       "      <td>12879.77</td>\n",
       "      <td>70659</td>\n",
       "      <td>46.480000</td>\n",
       "      <td>35580</td>\n",
       "      <td>48.65</td>\n",
       "      <td>51.35</td>\n",
       "      <td>...</td>\n",
       "      <td>14852</td>\n",
       "      <td>7.869652</td>\n",
       "      <td>173873</td>\n",
       "      <td>92.130348</td>\n",
       "      <td>22649</td>\n",
       "      <td>11.524918</td>\n",
       "      <td>173873</td>\n",
       "      <td>88.475082</td>\n",
       "      <td>44.963324</td>\n",
       "      <td>-93.268320</td>\n",
       "    </tr>\n",
       "    <tr>\n",
       "      <th>3</th>\n",
       "      <td>2714010</td>\n",
       "      <td>Hill City Public School District</td>\n",
       "      <td>264.67</td>\n",
       "      <td>3787461</td>\n",
       "      <td>14310.13</td>\n",
       "      <td>55552</td>\n",
       "      <td>46.282857</td>\n",
       "      <td>267</td>\n",
       "      <td>50.19</td>\n",
       "      <td>49.81</td>\n",
       "      <td>...</td>\n",
       "      <td>124</td>\n",
       "      <td>14.318707</td>\n",
       "      <td>742</td>\n",
       "      <td>85.681293</td>\n",
       "      <td>196</td>\n",
       "      <td>20.895522</td>\n",
       "      <td>742</td>\n",
       "      <td>79.104478</td>\n",
       "      <td>46.952798</td>\n",
       "      <td>-93.523779</td>\n",
       "    </tr>\n",
       "    <tr>\n",
       "      <th>4</th>\n",
       "      <td>2719170</td>\n",
       "      <td>McGregor Public School District</td>\n",
       "      <td>464.30</td>\n",
       "      <td>5596677</td>\n",
       "      <td>12054.01</td>\n",
       "      <td>50071</td>\n",
       "      <td>49.258571</td>\n",
       "      <td>480</td>\n",
       "      <td>47.08</td>\n",
       "      <td>52.92</td>\n",
       "      <td>...</td>\n",
       "      <td>315</td>\n",
       "      <td>13.224181</td>\n",
       "      <td>2067</td>\n",
       "      <td>86.775819</td>\n",
       "      <td>457</td>\n",
       "      <td>18.106181</td>\n",
       "      <td>2067</td>\n",
       "      <td>81.893819</td>\n",
       "      <td>46.577144</td>\n",
       "      <td>-93.238742</td>\n",
       "    </tr>\n",
       "    <tr>\n",
       "      <th>5</th>\n",
       "      <td>2733270</td>\n",
       "      <td>South St. Paul Public School District</td>\n",
       "      <td>3419.29</td>\n",
       "      <td>34984783</td>\n",
       "      <td>10231.59</td>\n",
       "      <td>65558</td>\n",
       "      <td>45.061429</td>\n",
       "      <td>3548</td>\n",
       "      <td>48.31</td>\n",
       "      <td>51.69</td>\n",
       "      <td>...</td>\n",
       "      <td>898</td>\n",
       "      <td>10.138873</td>\n",
       "      <td>7959</td>\n",
       "      <td>89.861127</td>\n",
       "      <td>1097</td>\n",
       "      <td>12.113516</td>\n",
       "      <td>7959</td>\n",
       "      <td>87.886484</td>\n",
       "      <td>44.888027</td>\n",
       "      <td>-93.040497</td>\n",
       "    </tr>\n",
       "  </tbody>\n",
       "</table>\n",
       "<p>5 rows × 30 columns</p>\n",
       "</div>"
      ],
      "text/plain": [
       "        id                               District  Enrollment  \\\n",
       "1  2702760          Aitkin Public School District     1177.69   \n",
       "2  2721240     Minneapolis Public School District    34088.09   \n",
       "3  2714010       Hill City Public School District      264.67   \n",
       "4  2719170        McGregor Public School District      464.30   \n",
       "5  2733270  South St. Paul Public School District     3419.29   \n",
       "\n",
       "   General Fund Expenditures  Per Pupil Expenditures  avgteachersalary  \\\n",
       "1                   12036522                10220.45             55454   \n",
       "2                  439046660                12879.77             70659   \n",
       "3                    3787461                14310.13             55552   \n",
       "4                    5596677                12054.01             50071   \n",
       "5                   34984783                10231.59             65558   \n",
       "\n",
       "   Reading Proficiency  total_enroll  female_pct  male_pct  ...  nocomp_cnt  \\\n",
       "1            57.638571          1186       47.39     52.61  ...         741   \n",
       "2            46.480000         35580       48.65     51.35  ...       14852   \n",
       "3            46.282857           267       50.19     49.81  ...         124   \n",
       "4            49.258571           480       47.08     52.92  ...         315   \n",
       "5            45.061429          3548       48.31     51.69  ...         898   \n",
       "\n",
       "   nocomp_pct  yescomp_cnt  yescomp_pct  nointernet_cnt  nointernet_pct  \\\n",
       "1   13.834951         4615    86.165049            1076       18.907046   \n",
       "2    7.869652       173873    92.130348           22649       11.524918   \n",
       "3   14.318707          742    85.681293             196       20.895522   \n",
       "4   13.224181         2067    86.775819             457       18.106181   \n",
       "5   10.138873         7959    89.861127            1097       12.113516   \n",
       "\n",
       "   yesinternet_cnt  yesinternet_pct        lat        lng  \n",
       "1             4615        81.092954  46.564144 -93.648930  \n",
       "2           173873        88.475082  44.963324 -93.268320  \n",
       "3              742        79.104478  46.952798 -93.523779  \n",
       "4             2067        81.893819  46.577144 -93.238742  \n",
       "5             7959        87.886484  44.888027 -93.040497  \n",
       "\n",
       "[5 rows x 30 columns]"
      ]
     },
     "execution_count": 20,
     "metadata": {},
     "output_type": "execute_result"
    }
   ],
   "source": [
    "mned_df=mned_df.rename(columns={\"districtname\": \"District\", \"admtotal\":\"Enrollment\", \"generalfundexpends\": \"General Fund Expenditures\", \"readingproficiency\": \"Reading Proficiency\", \"perpupilexpends\": \"Per Pupil Expenditures\"})\n",
    "mned_df.head()"
   ]
  },
  {
   "cell_type": "code",
   "execution_count": 12,
   "metadata": {},
   "outputs": [
    {
     "data": {
      "text/html": [
       "<div>\n",
       "<style scoped>\n",
       "    .dataframe tbody tr th:only-of-type {\n",
       "        vertical-align: middle;\n",
       "    }\n",
       "\n",
       "    .dataframe tbody tr th {\n",
       "        vertical-align: top;\n",
       "    }\n",
       "\n",
       "    .dataframe thead th {\n",
       "        text-align: right;\n",
       "    }\n",
       "</style>\n",
       "<table border=\"1\" class=\"dataframe\">\n",
       "  <thead>\n",
       "    <tr style=\"text-align: right;\">\n",
       "      <th></th>\n",
       "      <th>id</th>\n",
       "      <th>District</th>\n",
       "      <th>admtotal</th>\n",
       "      <th>General Fund Expenditures</th>\n",
       "      <th>Per Pupil Expenditures</th>\n",
       "      <th>avgteachersalary</th>\n",
       "      <th>Reading Proficiency</th>\n",
       "      <th>total_enroll</th>\n",
       "      <th>female_pct</th>\n",
       "      <th>male_pct</th>\n",
       "      <th>...</th>\n",
       "      <th>nocomp_cnt</th>\n",
       "      <th>nocomp_pct</th>\n",
       "      <th>yescomp_cnt</th>\n",
       "      <th>yescomp_pct</th>\n",
       "      <th>nointernet_cnt</th>\n",
       "      <th>nointernet_pct</th>\n",
       "      <th>yesinternet_cnt</th>\n",
       "      <th>yesinternet_pct</th>\n",
       "      <th>lat</th>\n",
       "      <th>lng</th>\n",
       "    </tr>\n",
       "  </thead>\n",
       "  <tbody>\n",
       "    <tr>\n",
       "      <th>1</th>\n",
       "      <td>2702760</td>\n",
       "      <td>Aitkin Public School District</td>\n",
       "      <td>1177.69</td>\n",
       "      <td>12036522</td>\n",
       "      <td>10220.45</td>\n",
       "      <td>55454</td>\n",
       "      <td>57.638571</td>\n",
       "      <td>1186</td>\n",
       "      <td>47.39</td>\n",
       "      <td>52.61</td>\n",
       "      <td>...</td>\n",
       "      <td>741</td>\n",
       "      <td>13.834951</td>\n",
       "      <td>4615</td>\n",
       "      <td>86.165049</td>\n",
       "      <td>1076</td>\n",
       "      <td>18.907046</td>\n",
       "      <td>4615</td>\n",
       "      <td>81.092954</td>\n",
       "      <td>46.564144</td>\n",
       "      <td>-93.648930</td>\n",
       "    </tr>\n",
       "    <tr>\n",
       "      <th>2</th>\n",
       "      <td>2721240</td>\n",
       "      <td>Minneapolis Public School District</td>\n",
       "      <td>34088.09</td>\n",
       "      <td>439046660</td>\n",
       "      <td>12879.77</td>\n",
       "      <td>70659</td>\n",
       "      <td>46.480000</td>\n",
       "      <td>35580</td>\n",
       "      <td>48.65</td>\n",
       "      <td>51.35</td>\n",
       "      <td>...</td>\n",
       "      <td>14852</td>\n",
       "      <td>7.869652</td>\n",
       "      <td>173873</td>\n",
       "      <td>92.130348</td>\n",
       "      <td>22649</td>\n",
       "      <td>11.524918</td>\n",
       "      <td>173873</td>\n",
       "      <td>88.475082</td>\n",
       "      <td>44.963324</td>\n",
       "      <td>-93.268320</td>\n",
       "    </tr>\n",
       "    <tr>\n",
       "      <th>3</th>\n",
       "      <td>2714010</td>\n",
       "      <td>Hill City Public School District</td>\n",
       "      <td>264.67</td>\n",
       "      <td>3787461</td>\n",
       "      <td>14310.13</td>\n",
       "      <td>55552</td>\n",
       "      <td>46.282857</td>\n",
       "      <td>267</td>\n",
       "      <td>50.19</td>\n",
       "      <td>49.81</td>\n",
       "      <td>...</td>\n",
       "      <td>124</td>\n",
       "      <td>14.318707</td>\n",
       "      <td>742</td>\n",
       "      <td>85.681293</td>\n",
       "      <td>196</td>\n",
       "      <td>20.895522</td>\n",
       "      <td>742</td>\n",
       "      <td>79.104478</td>\n",
       "      <td>46.952798</td>\n",
       "      <td>-93.523779</td>\n",
       "    </tr>\n",
       "    <tr>\n",
       "      <th>4</th>\n",
       "      <td>2719170</td>\n",
       "      <td>McGregor Public School District</td>\n",
       "      <td>464.30</td>\n",
       "      <td>5596677</td>\n",
       "      <td>12054.01</td>\n",
       "      <td>50071</td>\n",
       "      <td>49.258571</td>\n",
       "      <td>480</td>\n",
       "      <td>47.08</td>\n",
       "      <td>52.92</td>\n",
       "      <td>...</td>\n",
       "      <td>315</td>\n",
       "      <td>13.224181</td>\n",
       "      <td>2067</td>\n",
       "      <td>86.775819</td>\n",
       "      <td>457</td>\n",
       "      <td>18.106181</td>\n",
       "      <td>2067</td>\n",
       "      <td>81.893819</td>\n",
       "      <td>46.577144</td>\n",
       "      <td>-93.238742</td>\n",
       "    </tr>\n",
       "    <tr>\n",
       "      <th>5</th>\n",
       "      <td>2733270</td>\n",
       "      <td>South St. Paul Public School District</td>\n",
       "      <td>3419.29</td>\n",
       "      <td>34984783</td>\n",
       "      <td>10231.59</td>\n",
       "      <td>65558</td>\n",
       "      <td>45.061429</td>\n",
       "      <td>3548</td>\n",
       "      <td>48.31</td>\n",
       "      <td>51.69</td>\n",
       "      <td>...</td>\n",
       "      <td>898</td>\n",
       "      <td>10.138873</td>\n",
       "      <td>7959</td>\n",
       "      <td>89.861127</td>\n",
       "      <td>1097</td>\n",
       "      <td>12.113516</td>\n",
       "      <td>7959</td>\n",
       "      <td>87.886484</td>\n",
       "      <td>44.888027</td>\n",
       "      <td>-93.040497</td>\n",
       "    </tr>\n",
       "  </tbody>\n",
       "</table>\n",
       "<p>5 rows × 30 columns</p>\n",
       "</div>"
      ],
      "text/plain": [
       "        id                               District  admtotal  \\\n",
       "1  2702760          Aitkin Public School District   1177.69   \n",
       "2  2721240     Minneapolis Public School District  34088.09   \n",
       "3  2714010       Hill City Public School District    264.67   \n",
       "4  2719170        McGregor Public School District    464.30   \n",
       "5  2733270  South St. Paul Public School District   3419.29   \n",
       "\n",
       "   General Fund Expenditures  Per Pupil Expenditures  avgteachersalary  \\\n",
       "1                   12036522                10220.45             55454   \n",
       "2                  439046660                12879.77             70659   \n",
       "3                    3787461                14310.13             55552   \n",
       "4                    5596677                12054.01             50071   \n",
       "5                   34984783                10231.59             65558   \n",
       "\n",
       "   Reading Proficiency  total_enroll  female_pct  male_pct  ...  nocomp_cnt  \\\n",
       "1            57.638571          1186       47.39     52.61  ...         741   \n",
       "2            46.480000         35580       48.65     51.35  ...       14852   \n",
       "3            46.282857           267       50.19     49.81  ...         124   \n",
       "4            49.258571           480       47.08     52.92  ...         315   \n",
       "5            45.061429          3548       48.31     51.69  ...         898   \n",
       "\n",
       "   nocomp_pct  yescomp_cnt  yescomp_pct  nointernet_cnt  nointernet_pct  \\\n",
       "1   13.834951         4615    86.165049            1076       18.907046   \n",
       "2    7.869652       173873    92.130348           22649       11.524918   \n",
       "3   14.318707          742    85.681293             196       20.895522   \n",
       "4   13.224181         2067    86.775819             457       18.106181   \n",
       "5   10.138873         7959    89.861127            1097       12.113516   \n",
       "\n",
       "   yesinternet_cnt  yesinternet_pct        lat        lng  \n",
       "1             4615        81.092954  46.564144 -93.648930  \n",
       "2           173873        88.475082  44.963324 -93.268320  \n",
       "3              742        79.104478  46.952798 -93.523779  \n",
       "4             2067        81.893819  46.577144 -93.238742  \n",
       "5             7959        87.886484  44.888027 -93.040497  \n",
       "\n",
       "[5 rows x 30 columns]"
      ]
     },
     "execution_count": 12,
     "metadata": {},
     "output_type": "execute_result"
    }
   ],
   "source": [
    "mned_df.drop(mned_df[mned_df[\"id\"] == 2799999].index, inplace = True)\n",
    "mned_df.head()"
   ]
  },
  {
   "cell_type": "code",
   "execution_count": 13,
   "metadata": {},
   "outputs": [],
   "source": [
    "# plt.scatter(mned_df[\"Per Pupil Expenditures\"], mned_df[\"Reading Proficiency\"])\n",
    "# plt.xlabel(\"Per Pupil Expenditures\", fontsize=14)\n",
    "# plt.ylabel(\"Reading Proficiency\", fontsize=14)\n",
    "# plt.show()"
   ]
  },
  {
   "cell_type": "code",
   "execution_count": 14,
   "metadata": {},
   "outputs": [
    {
     "ename": "AttributeError",
     "evalue": "module 'seaborn' has no attribute 'plt'",
     "output_type": "error",
     "traceback": [
      "\u001b[1;31m---------------------------------------------------------------------------\u001b[0m",
      "\u001b[1;31mAttributeError\u001b[0m                            Traceback (most recent call last)",
      "\u001b[1;32m<ipython-input-14-774c9eca9583>\u001b[0m in \u001b[0;36m<module>\u001b[1;34m\u001b[0m\n\u001b[0;32m      1\u001b[0m \u001b[0msns\u001b[0m\u001b[1;33m.\u001b[0m\u001b[0mregplot\u001b[0m\u001b[1;33m(\u001b[0m\u001b[0mx\u001b[0m\u001b[1;33m=\u001b[0m\u001b[0mmned_df\u001b[0m\u001b[1;33m[\u001b[0m\u001b[1;34m\"Per Pupil Expenditures\"\u001b[0m\u001b[1;33m]\u001b[0m\u001b[1;33m,\u001b[0m \u001b[0my\u001b[0m \u001b[1;33m=\u001b[0m \u001b[0mmned_df\u001b[0m\u001b[1;33m[\u001b[0m\u001b[1;34m\"Reading Proficiency\"\u001b[0m\u001b[1;33m]\u001b[0m\u001b[1;33m)\u001b[0m\u001b[1;33m\u001b[0m\u001b[1;33m\u001b[0m\u001b[0m\n\u001b[1;32m----> 2\u001b[1;33m \u001b[0msns\u001b[0m\u001b[1;33m.\u001b[0m\u001b[0mplt\u001b[0m\u001b[1;33m.\u001b[0m\u001b[0mshow\u001b[0m\u001b[1;33m(\u001b[0m\u001b[1;33m)\u001b[0m\u001b[1;33m\u001b[0m\u001b[1;33m\u001b[0m\u001b[0m\n\u001b[0m",
      "\u001b[1;31mAttributeError\u001b[0m: module 'seaborn' has no attribute 'plt'"
     ]
    },
    {
     "data": {
      "image/png": "[encoded data removed]",
      "text/plain": [
       "<Figure size 432x288 with 1 Axes>"
      ]
     },
     "metadata": {
      "needs_background": "light"
     },
     "output_type": "display_data"
    }
   ],
   "source": [
    "sns.regplot(x=mned_df[\"Per Pupil Expenditures\"], y = mned_df[\"Reading Proficiency\"])\n",
    "sns.plt.show()"
   ]
  },
  {
   "cell_type": "code",
   "execution_count": 15,
   "metadata": {},
   "outputs": [
    {
     "data": {
      "application/vnd.plotly.v1+json": {
       "config": {
        "plotlyServerURL": "https://plot.ly"
       },
       "data": [
        {
         "customdata": [
          [
           "Aitkin Public School District"
          ],
          [
           "Minneapolis Public School District"
          ],
          [
           "Hill City Public School District"
          ],
          [
           "McGregor Public School District"
          ],
          [
           "South St. Paul Public School District"
          ],
          [
           "Anoka-Hennepin Public School District"
          ],
          [
           "Centennial Public School District"
          ],
          [
           "Columbia Heights Public School District"
          ],
          [
           "Fridley Public School District"
          ],
          [
           "St. Francis Public School District"
          ],
          [
           "Spring Lake Park Public Schools"
          ],
          [
           "Detroit Lakes Public School District"
          ],
          [
           "Frazee-Vergas Public School District"
          ],
          [
           "Pine Point Public School District"
          ],
          [
           "Bemidji Public School District"
          ],
          [
           "Blackduck Public School District"
          ],
          [
           "Kelliher Public School District"
          ],
          [
           "Red Lake Public School District"
          ],
          [
           "Sauk Rapids-Rice Public Schools"
          ],
          [
           "Foley Public School District"
          ],
          [
           "St. Clair Public School District"
          ],
          [
           "Mankato Public School District"
          ],
          [
           "Comfrey Public School District"
          ],
          [
           "Sleepy Eye Public School District"
          ],
          [
           "Springfield Public School District"
          ],
          [
           "New Ulm Public School District"
          ],
          [
           "Barnum Public School District"
          ],
          [
           "Carlton Public School District"
          ],
          [
           "Cloquet Public School District"
          ],
          [
           "Cromwell-Wright Public Schools"
          ],
          [
           "Moose Lake Public School District"
          ],
          [
           "Esko Public School District"
          ],
          [
           "Wrenshall Public School District"
          ],
          [
           "Central Public School District"
          ],
          [
           "Waconia Public School District"
          ],
          [
           "Watertown-Mayer Public School District"
          ],
          [
           "Eastern Carver County Public Schools"
          ],
          [
           "Walker-Hackensack-Akeley School District"
          ],
          [
           "Cass Lake-Bena Public Schools"
          ],
          [
           "Pillager Public School District"
          ],
          [
           "Northland Community Schools"
          ],
          [
           "Montevideo Public School District"
          ],
          [
           "North Branch Public Schools"
          ],
          [
           "Rush City Public School District"
          ],
          [
           "Barnesville Public School District"
          ],
          [
           "Hawley Public School District"
          ],
          [
           "Moorhead Public School District"
          ],
          [
           "Bagley Public School District"
          ],
          [
           "Cook County Public Schools"
          ],
          [
           "Mountain Lake Public Schools"
          ],
          [
           "Windom Public School District"
          ],
          [
           "Brainerd Public School District"
          ],
          [
           "Crosby-Ironton Public School District"
          ],
          [
           "Pequot Lakes Public Schools"
          ],
          [
           "Burnsville Public School District"
          ],
          [
           "Farmington Public School District"
          ],
          [
           "Lakeville Public School District"
          ],
          [
           "Randolph Public School District"
          ],
          [
           "Rosemount-Apple Valley-Eagan"
          ],
          [
           "West St. Paul-Mendota Heights-Eagan"
          ],
          [
           "Inver Grove Heights Schools"
          ],
          [
           "Hastings Public School District"
          ],
          [
           "Hayfield Public School District"
          ],
          [
           "Kasson-Mantorville School District"
          ],
          [
           "Alexandria Public School District"
          ],
          [
           "Osakis Public School District"
          ],
          [
           "Chatfield Public Schools"
          ],
          [
           "Lanesboro Public School District"
          ],
          [
           "Mabel-Canton Public School District"
          ],
          [
           "Rushford-Peterson Public Schools"
          ],
          [
           "Albert Lea Public School District"
          ],
          [
           "Alden-Conger Public School District"
          ],
          [
           "Cannon Falls Public School District"
          ],
          [
           "Goodhue Public School District"
          ],
          [
           "Pine Island Public School District"
          ],
          [
           "Red Wing Public School District"
          ],
          [
           "Ashby Public School District"
          ],
          [
           "Herman-Norcross School District"
          ],
          [
           "Hopkins Public School District"
          ],
          [
           "Bloomington Public School District"
          ],
          [
           "Eden Prairie Public School District"
          ],
          [
           "Edina Public School District"
          ],
          [
           "Minnetonka Public School District"
          ],
          [
           "Westonka Public School District"
          ],
          [
           "Orono Public School District"
          ],
          [
           "Osseo Public School District"
          ],
          [
           "Richfield Public School District"
          ],
          [
           "Robbinsdale Public School District"
          ],
          [
           "St. Anthony-New Brighton Schools"
          ],
          [
           "St. Louis Park Public School District"
          ],
          [
           "Wayzata Public School District"
          ],
          [
           "Brooklyn Center School District"
          ],
          [
           "Houston Public School District"
          ],
          [
           "Spring Grove School District"
          ],
          [
           "Caledonia Public School District"
          ],
          [
           "La Crescent-Hokah School District"
          ],
          [
           "Laporte Public School District"
          ],
          [
           "Nevis Public School District"
          ],
          [
           "Park Rapids Public School District"
          ],
          [
           "Braham Public School District"
          ],
          [
           "Greenway Public School District"
          ],
          [
           "Deer River Public School District"
          ],
          [
           "Grand Rapids Public School District"
          ],
          [
           "Nashwauk-Keewatin School District"
          ],
          [
           "Heron Lake-Okabena School District"
          ],
          [
           "Mora Public School District"
          ],
          [
           "Ogilvie Public School District"
          ],
          [
           "New London-Spicer School District"
          ],
          [
           "Willmar Public School District"
          ],
          [
           "Lancaster Public School District"
          ],
          [
           "International Falls School District"
          ],
          [
           "Littlefork-Big Falls School District"
          ],
          [
           "South Koochiching School District"
          ],
          [
           "Dawson-Boyd Public School District"
          ],
          [
           "Lake Superior Public School District"
          ],
          [
           "Lake of The Woods School District"
          ],
          [
           "Cleveland Public School District"
          ],
          [
           "Hendricks Public School District"
          ],
          [
           "Ivanhoe Public School District"
          ],
          [
           "Lake Benton Public School District"
          ],
          [
           "Marshall Public School District"
          ],
          [
           "Minneota Public School District"
          ],
          [
           "Lynd Public School District"
          ],
          [
           "Hutchinson Public School District"
          ],
          [
           "Lester Prairie Public School District"
          ],
          [
           "Mahnomen Public School District"
          ],
          [
           "Waubun-Ogema-White Earth Public Schools"
          ],
          [
           "Marshall County Central Schools"
          ],
          [
           "Grygla Public School District"
          ],
          [
           "Truman Public School District"
          ],
          [
           "Eden Valley-Watkins School District"
          ],
          [
           "Litchfield Public School District"
          ],
          [
           "Dassel-Cokato Public School District"
          ],
          [
           "Isle Public School District"
          ],
          [
           "Princeton Public School District"
          ],
          [
           "Onamia Public School District"
          ],
          [
           "Little Falls Public School District"
          ],
          [
           "Pierz Public School District"
          ],
          [
           "Royalton Public School District"
          ],
          [
           "Swanville Public School District"
          ],
          [
           "Upsala Public School District"
          ],
          [
           "Austin Public School District"
          ],
          [
           "Grand Meadow Public School District"
          ],
          [
           "Lyle Public School District"
          ],
          [
           "LeRoy-Ostrander Public Schools"
          ],
          [
           "Southland Public School District"
          ],
          [
           "Fulda Public School District"
          ],
          [
           "Nicollet Public School District"
          ],
          [
           "St. Peter Public School District"
          ],
          [
           "Adrian Public School District"
          ],
          [
           "Ellsworth Public School District"
          ],
          [
           "Worthington Public School District"
          ],
          [
           "Byron Public School District"
          ],
          [
           "Dover-Eyota Public School District"
          ],
          [
           "Stewartville Public School District"
          ],
          [
           "Rochester Public School District"
          ],
          [
           "Battle Lake Public School District"
          ],
          [
           "Fergus Falls Public School District"
          ],
          [
           "Henning Public School District"
          ],
          [
           "Parkers Prairie Public School District"
          ],
          [
           "Pelican Rapids Public School District"
          ],
          [
           "Perham-Dent Public School District"
          ],
          [
           "Underwood Public School District"
          ],
          [
           "New York Mills Public School District"
          ],
          [
           "Goodridge Public School District"
          ],
          [
           "Thief River Falls School District"
          ],
          [
           "Willow River Public School District"
          ],
          [
           "Pine City Public School District"
          ],
          [
           "Edgerton Public School District"
          ],
          [
           "Climax-Shelly Public Schools"
          ],
          [
           "Crookston Public School District"
          ],
          [
           "East Grand Forks Public School District"
          ],
          [
           "Fertile-Beltrami School District"
          ],
          [
           "Fisher Public School District"
          ],
          [
           "Fosston Public School District"
          ],
          [
           "Mounds View Public School District"
          ],
          [
           "North St. Paul-Maplewood-Oakdale School District"
          ],
          [
           "Roseville Public School District"
          ],
          [
           "White Bear Lake School District"
          ],
          [
           "St. Paul Public School District"
          ],
          [
           "Red Lake Falls Public School District"
          ],
          [
           "Milroy Public School District"
          ],
          [
           "Wabasso Public School District"
          ],
          [
           "Faribault Public School District"
          ],
          [
           "Northfield Public School District"
          ],
          [
           "Hills-Beaver Creek School District"
          ],
          [
           "Badger Public School District"
          ],
          [
           "Roseau Public School District"
          ],
          [
           "Warroad Public School District"
          ],
          [
           "Chisholm Public School District"
          ],
          [
           "Ely Public School District"
          ],
          [
           "Floodwood Public School District"
          ],
          [
           "Hermantown Public School District"
          ],
          [
           "Hibbing Public School District"
          ],
          [
           "Proctor Public School District"
          ],
          [
           "Virginia Public School District"
          ],
          [
           "Nett Lake Public School District"
          ],
          [
           "Duluth Public School District"
          ],
          [
           "Mountain Iron-Buhl School District"
          ],
          [
           "Belle Plaine Public School District"
          ],
          [
           "Jordan Public School District"
          ],
          [
           "Prior Lake-Savage Area Schools"
          ],
          [
           "Shakopee Public School District"
          ],
          [
           "New Prague Area Schools"
          ],
          [
           "Becker Public School District"
          ],
          [
           "Big Lake Public School District"
          ],
          [
           "Elk River Public School District"
          ],
          [
           "Holdingford Public School District"
          ],
          [
           "Kimball Public School District"
          ],
          [
           "Melrose Public School District"
          ],
          [
           "Paynesville Public School District"
          ],
          [
           "St. Cloud Public School District"
          ],
          [
           "Sauk Centre Public School District"
          ],
          [
           "Albany Public School District"
          ],
          [
           "Sartell-St. Stephen School District"
          ],
          [
           "Rocori Public School District"
          ],
          [
           "Blooming Prairie Public School District"
          ],
          [
           "Owatonna Public School District"
          ],
          [
           "Medford Public School District"
          ],
          [
           "Hancock Public School District"
          ],
          [
           "Chokio-Alberta Public School District"
          ],
          [
           "Kerkhoven-Murdock-Sunburg"
          ],
          [
           "Benson Public School District"
          ],
          [
           "Bertha-Hewitt Public School District"
          ],
          [
           "Browerville Public School District"
          ],
          [
           "Browns Valley Public School District"
          ],
          [
           "Wheaton Area Public School District"
          ],
          [
           "Wabasha-Kellogg Public School District"
          ],
          [
           "Lake City Public School District"
          ],
          [
           "Verndale Public School District"
          ],
          [
           "Sebeka Public School District"
          ],
          [
           "Menahga Public School District"
          ],
          [
           "Waseca Public School District"
          ],
          [
           "Forest Lake Public School District"
          ],
          [
           "Mahtomedi Public School District"
          ],
          [
           "Fillmore Central"
          ],
          [
           "South Washington County School District"
          ],
          [
           "Stillwater Area Public School District"
          ],
          [
           "Butterfield Public School District"
          ],
          [
           "Madelia Public School District"
          ],
          [
           "St. James Public School District"
          ],
          [
           "Breckenridge Public School District"
          ],
          [
           "Rothsay Public School District"
          ],
          [
           "Campbell-Tintah Public School District"
          ],
          [
           "Lewiston-Altura Public School District"
          ],
          [
           "St. Charles Public School District"
          ],
          [
           "Winona Area Public School District"
          ],
          [
           "Annandale Public School District"
          ],
          [
           "Buffalo-Hanover-Montrose Public Schools"
          ],
          [
           "Delano Public School District"
          ],
          [
           "Maple Lake Public School District"
          ],
          [
           "Monticello Public School District"
          ],
          [
           "Rockford Public School District"
          ],
          [
           "St. Michael-Albertville School District"
          ],
          [
           "Canby Public School District"
          ],
          [
           "Cambridge-Isanti Public School District"
          ],
          [
           "Milaca Public School District"
          ],
          [
           "Ulen-Hitterdal Public School District"
          ],
          [
           "Lake Crystal-Wellcome Memorial"
          ],
          [
           "Triton School District"
          ],
          [
           "United South Central School District"
          ],
          [
           "Maple River School District"
          ],
          [
           "Kingsland Public School District"
          ],
          [
           "St. Louis County School District"
          ],
          [
           "Waterville-Elysian-Morristown Public School District"
          ],
          [
           "Chisago Lakes School District"
          ],
          [
           "Minnewaska School District"
          ],
          [
           "Eveleth-Gilbert School District"
          ],
          [
           "Wadena-Deer Creek School District"
          ],
          [
           "Buffalo Lake-Hector-Stewart Public Schools"
          ],
          [
           "Dilworth-Glyndon-Felton"
          ],
          [
           "Hinckley-Finlayson School District"
          ],
          [
           "Lakeview School District"
          ],
          [
           "NRHEG School District"
          ],
          [
           "Murray County Central School District"
          ],
          [
           "Staples-Motley School District"
          ],
          [
           "Kittson Central School District"
          ],
          [
           "Kenyon-Wanamingo School District"
          ],
          [
           "Pine River-Backus Public School District"
          ],
          [
           "Warren-Alvarado-Oslo School District"
          ],
          [
           "MACCRAY School District"
          ],
          [
           "Luverne Public School District"
          ],
          [
           "Yellow Medicine East"
          ],
          [
           "Norman County East School District"
          ],
          [
           "Sibley East School District"
          ],
          [
           "Clearbrook-Gonvick School District"
          ],
          [
           "West Central Area"
          ],
          [
           "Tri-County School District"
          ],
          [
           "Belgrade-Brooten-Elrosa Public School District"
          ],
          [
           "G.F.W. Public School District"
          ],
          [
           "A.C.G.C. Public School District"
          ],
          [
           "Le Sueur-Henderson School District"
          ],
          [
           "Martin County West School District"
          ],
          [
           "Norman County West School District"
          ],
          [
           "Bird Island-Olivia-Lake Lillian Public School District"
          ],
          [
           "Granada-Huntley-East Chain"
          ],
          [
           "East Central School District"
          ],
          [
           "Win-E-Mac School District"
          ],
          [
           "Greenbush-Middle River School District"
          ],
          [
           "Howard Lake-Waverly-Winsted"
          ],
          [
           "Pipestone Area School District"
          ],
          [
           "Mesabi East School District"
          ],
          [
           "Fairmont Area School District"
          ],
          [
           "Long Prairie-Grey Eagle School District"
          ],
          [
           "Cedar Mountain School District"
          ],
          [
           "Morris Area Public Schools"
          ],
          [
           "Zumbrota-Mazeppa School District"
          ],
          [
           "Janesville-Waldorf-Pemberton"
          ],
          [
           "Lac qui Parle Valley School District"
          ],
          [
           "Ada-Borup Public School District"
          ],
          [
           "Stephen-Argyle Central Schools"
          ],
          [
           "Glencoe-Silver Lake School District"
          ],
          [
           "Blue Earth Area Public Schools"
          ],
          [
           "Red Rock Central School District"
          ],
          [
           "Glenville-Emmons School District"
          ],
          [
           "Clinton-Graceville-Beardsley"
          ],
          [
           "Lake Park Audubon School District"
          ],
          [
           "Renville County West School District"
          ],
          [
           "Jackson County Central School District"
          ],
          [
           "Redwood Area School District"
          ],
          [
           "Westbrook-Walnut Grove Schools"
          ],
          [
           "Plainview-Elgin-Millville"
          ],
          [
           "RTR Public Schools"
          ],
          [
           "Ortonville Public Schools"
          ],
          [
           "Tracy Area Public School District"
          ],
          [
           "Tri-City United School District"
          ],
          [
           "Red Lake County Central Public Schools"
          ],
          [
           "Round Lake-Brewster Public Schools"
          ],
          [
           "Brandon-Evansville Public Schools"
          ]
         ],
         "hovertemplate": "Per Pupil Expenditures=%{x}<br>Reading Proficiency=%{marker.color}<br>District=%{customdata[0]}<extra></extra>",
         "legendgroup": "",
         "marker": {
          "color": [
           57.638571400000004,
           46.48,
           46.2828571,
           49.2585714,
           45.0614286,
           65.0485714,
           68.8528571,
           35.0957143,
           44.181428600000004,
           60.72571429999999,
           56.4728571,
           61.02571429999999,
           61.6714286,
           28.635,
           55.55571429999999,
           48.21,
           44.6985714,
           24.03,
           57.268571400000006,
           69.26,
           60.0714286,
           64.1842857,
           59.6433333,
           58.3171429,
           68.5971429,
           57.73571429999999,
           70.3485714,
           56.575714299999994,
           67.3271429,
           55.3514286,
           54.161428599999994,
           80.6128571,
           54.7228571,
           63.698571400000006,
           70.69428570000001,
           64.5914286,
           67.0157143,
           53.9128571,
           35.2757143,
           59.75,
           39.8033333,
           58.5785714,
           55.52,
           67.0014286,
           77.0514286,
           69.0814286,
           52.7485714,
           49.7742857,
           58.53,
           56.58428570000001,
           57.6328571,
           67.92,
           64.2871429,
           70.4228571,
           48.2771429,
           57.5828571,
           73.31,
           51.1328571,
           65.2914286,
           59.68,
           51.64,
           65.1,
           48.9057143,
           66.5071429,
           65.6257143,
           62.0785714,
           70.5128571,
           63.2571429,
           60.231428599999994,
           62.105714299999995,
           46.818571399999996,
           58.605714299999995,
           62.47428570000001,
           56.1785714,
           68.66571429999999,
           54.838571400000006,
           58.981428599999994,
           60,
           59.4985714,
           53.51571429999999,
           73.5371429,
           77.43285709999999,
           81.4842857,
           77.6071429,
           78.8314286,
           54.94571429999999,
           43.4857143,
           48.7471429,
           67.5614286,
           58.918571400000005,
           80.79571429999999,
           22.4285714,
           57.9471429,
           68.2514286,
           61.075714299999994,
           55.13,
           48.0328571,
           68.3614286,
           51.7957143,
           59.8514286,
           61.72428570000001,
           53.5571429,
           61.4971429,
           50.7628571,
           46.092857099999996,
           65.78428570000001,
           44.3028571,
           69.03,
           46.68,
           71.958,
           62.78,
           60.871428599999994,
           48.4671429,
           64.4714286,
           61.93,
           47.2957143,
           66.78428570000001,
           73.2,
           52.7366667,
           78.1825,
           58.6671429,
           73.0571429,
           40.548,
           66.31428570000001,
           55.715714299999995,
           33.2942857,
           40.8685714,
           62.401428599999996,
           52.5416667,
           57.6085714,
           67.6214286,
           65.1457143,
           72.5114286,
           53.89,
           63.41571429999999,
           36.7657143,
           48.0142857,
           61.064285700000006,
           52.4042857,
           54.4328571,
           53.244285700000006,
           43.5071429,
           53.91571429999999,
           42.0285714,
           63.8471429,
           56.45428570000001,
           53.465714299999995,
           56.3871429,
           59.4428571,
           57.6014286,
           65.7,
           44.4442857,
           76.0614286,
           63.342857099999996,
           61.1271429,
           55.3985714,
           72.18285709999999,
           64.8671429,
           64.71571429999999,
           64.7771429,
           57.25428570000001,
           61.97428570000001,
           59.61,
           60.0085714,
           48.214285700000005,
           60.30571429999999,
           58.0871429,
           55.638571400000004,
           52.6228571,
           51.8114286,
           55.4271429,
           54.564285700000006,
           71.70428570000001,
           42.4128571,
           66.3328571,
           67.5314286,
           50.79,
           56.36428570000001,
           64.88,
           39.59,
           59.0128571,
           46.2,
           55.738571400000005,
           41.67,
           68.4371429,
           67.6771429,
           69.2442857,
           64.56857140000001,
           66.94428570000001,
           59.0128571,
           63.22,
           48.578,
           71.1714286,
           67.31,
           59.70571429999999,
           67.4685714,
           56.6666667,
           62.4971429,
           63.2328571,
           63.261428599999995,
           66.2442857,
           68.2771429,
           62.3271429,
           69.8828571,
           64.8314286,
           63.1128571,
           70.02428570000001,
           66.67428570000001,
           69.8628571,
           54.6128571,
           59.9428571,
           43.7257143,
           62.33571429999999,
           68.28428570000001,
           72.1571429,
           64.53,
           63.7628571,
           53.9128571,
           52.7428571,
           67.2771429,
           48.0225,
           53.4671429,
           51.4814286,
           59.574285700000004,
           41.8114286,
           39.31,
           64.5514286,
           65.0828571,
           56.11571429999999,
           52.7028571,
           61.1185714,
           57.52428570000001,
           55.07,
           60.82,
           78.15,
           60.035714299999995,
           67.9471429,
           68.0985714,
           30.1866667,
           53.2528571,
           57.11,
           55.05428570000001,
           59.378571400000006,
           54.7375,
           63.0528571,
           64.9857143,
           48.8085714,
           66.6757143,
           65.1242857,
           79.00857140000001,
           58.98571429999999,
           66.9028571,
           67.9671429,
           76.18285709999999,
           66.8328571,
           62.12571429999999,
           58.3371429,
           53.791428599999996,
           62.4985714,
           50.0985714,
           60.744285700000006,
           66.9857143,
           62.0528571,
           54.97571429999999,
           67.18,
           65.55,
           61.4614286,
           60.7171429,
           55.878571400000006,
           64.3071429,
           62.005714299999994,
           40.7828571,
           64.71,
           58.0628571,
           65.6242857,
           48.35,
           70.4471429,
           53.331428599999995,
           55.38,
           53.871428599999994,
           52.9328571,
           60.8528571,
           53.58,
           52.9871429,
           50.6314286,
           56.32,
           69.4728571,
           66.37,
           63.77428570000001,
           61.41,
           56.511428599999995,
           52.965714299999995,
           57.52571429999999,
           88.46,
           58.15857140000001,
           47.1428571,
           51.1885714,
           66.1842857,
           59.464285700000005,
           60.3914286,
           55.47571429999999,
           55.425714299999996,
           58.14,
           38.3971429,
           57.30571429999999,
           60.9228571,
           66.02571429999999,
           53.7428571,
           52.48428570000001,
           59.52428570000001,
           62.0628571,
           60.0785714,
           54.34142859999999,
           69.02428570000001,
           46.8757143,
           76.6585714,
           60.8028571,
           54.88,
           54.3171429,
           57.7514286,
           54.8528571,
           67.1542857,
           60.691428599999995,
           58.157142900000004,
           65.64857140000001,
           57.221428599999996,
           57.55571429999999,
           48.98,
           62.244285700000006
          ],
          "coloraxis": "coloraxis",
          "symbol": "circle"
         },
         "mode": "markers",
         "name": "",
         "showlegend": false,
         "type": "scatter",
         "x": [
          10220.45,
          12879.77,
          14310.13,
          12054.01,
          10231.59,
          11220.4,
          10873.57,
          10100.52,
          11586.52,
          9860.61,
          9453,
          10561.74,
          10729.11,
          22535.75,
          11439.1,
          10675.68,
          17136.7,
          20689.53,
          9897.38,
          9594.4,
          9336.48,
          10148.28,
          13005.07,
          10495.67,
          9966.78,
          10794.37,
          11099.24,
          12234.74,
          10070.84,
          15163.58,
          10137.09,
          8599.56,
          10843.71,
          9619.29,
          10267.48,
          9712,
          11164.63,
          12033.27,
          18560.72,
          8844.63,
          18446.68,
          9598.53,
          10236.18,
          9304.44,
          9802.52,
          8878.47,
          10540.43,
          11079.35,
          12814.54,
          10920.47,
          11740.82,
          10836.53,
          10955.17,
          9009.25,
          11848.88,
          9771.54,
          11331.94,
          10015.38,
          10144.18,
          11309.12,
          10230.53,
          10871.69,
          9826.95,
          8702.65,
          10793.24,
          9080.92,
          10105.74,
          10255.07,
          11387.26,
          10748.92,
          11010.93,
          11020.18,
          10194.36,
          8891.58,
          9167.42,
          10552.71,
          8925.61,
          16466.1,
          11833.14,
          12226.93,
          11013.47,
          11676.34,
          10559.02,
          11271.41,
          11552.9,
          10540.69,
          10710.99,
          10907.2,
          10218.84,
          12680.34,
          11241.75,
          9949.75,
          9908.56,
          11568.65,
          10729.67,
          10857.41,
          11624.67,
          9883.3,
          9639.6,
          9134.69,
          12097,
          13134.86,
          11298.4,
          12532.05,
          14055.73,
          9604.18,
          10468.01,
          10034.55,
          9844.06,
          16328.87,
          11374.58,
          12443.26,
          18176.63,
          11012.37,
          11154.25,
          12120.28,
          9152.57,
          15282.84,
          10021.25,
          10341.86,
          10292.49,
          10783.75,
          11860.39,
          10380.18,
          9319.8,
          15023.09,
          12055.83,
          11603.05,
          18464.32,
          11828.78,
          9433.36,
          10427.96,
          9242.61,
          11381.96,
          9937.83,
          15906.57,
          10146.87,
          8674.1,
          8902.66,
          9566.9,
          10014.85,
          10534.81,
          11446.97,
          11268.93,
          13410.23,
          14092.35,
          13773.1,
          11049.21,
          10415.62,
          10378.53,
          13580.69,
          8340.96,
          8809.72,
          8956.89,
          8986.61,
          10758.41,
          8587.21,
          8673.99,
          11351.86,
          11818.01,
          9868.7,
          10044.86,
          9326.18,
          9066.16,
          14117.12,
          10134.44,
          11250.21,
          11333.09,
          10194.01,
          9938.79,
          11305.4,
          9252.92,
          11605.76,
          10571.61,
          11416.04,
          11489.41,
          10692.74,
          10896.66,
          11726.21,
          12217.24,
          12044.94,
          13866.64,
          10706.97,
          11867.2,
          11782.8,
          10531.91,
          14229.18,
          10253.41,
          12093.37,
          11142.27,
          12592.69,
          14184.38,
          9128.65,
          11740.49,
          11055.73,
          11508.09,
          18480.66,
          13564.28,
          13220.92,
          9345.04,
          9510.36,
          9882.96,
          9202.51,
          9428.39,
          10429.4,
          9963.28,
          10363.13,
          9127,
          9694.47,
          9969.7,
          9521.12,
          10401.34,
          10100.82,
          9701.59,
          8997.29,
          10271.13,
          9483.72,
          10542.4,
          8967.9,
          10230.07,
          14408.78,
          8850.93,
          11788.36,
          10595.15,
          9964.09,
          12361.2,
          13247.08,
          11361.95,
          9432.46,
          9010.96,
          10466.71,
          8493.34,
          10965.45,
          10329.09,
          10367.51,
          12127.08,
          10867.16,
          11167.43,
          12056.93,
          10730.69,
          10254.29,
          11532.24,
          10506.37,
          14699.55,
          9909.82,
          9678.87,
          13007.59,
          9440.61,
          10224.69,
          10316.07,
          10334.81,
          12230.26,
          10025.98,
          8641.43,
          9660.22,
          10043.27,
          10697.03,
          11538.39,
          9433.06,
          9053.83,
          11623.14,
          10723.6,
          9376.79,
          13586.96,
          11656.03,
          10618.54,
          12608.83,
          12656.1,
          9908.05,
          12155.41,
          9471.55,
          10467.4,
          10288.42,
          9526.78,
          10730.64,
          10882.52,
          15200.33,
          11331.44,
          9633.18,
          12227.6,
          11382.28,
          10117.2,
          11855.37,
          13179.88,
          9515.85,
          10323.33,
          11635.37,
          13825.01,
          10617.49,
          12299.5,
          10638.47,
          9649.15,
          10865.47,
          16064.94,
          11654.17,
          11899.86,
          10468.25,
          10855.28,
          15695.15,
          9815.99,
          10503.24,
          11318.4,
          10303.9,
          9305.91,
          11353.61,
          10017.61,
          10321,
          11290.6,
          11554.75,
          13349.47,
          14166.85,
          10081.71,
          10865.05,
          10506.12,
          12110.21,
          12602.58,
          9031.51,
          11702.39,
          10088.82,
          10824.47,
          13782.77,
          8557.61,
          11969.22,
          11830.99,
          9994.47,
          9786.27,
          11997.04,
          6597.87,
          9830.55
         ],
         "xaxis": "x",
         "y": [
          57.638571400000004,
          46.48,
          46.2828571,
          49.2585714,
          45.0614286,
          65.0485714,
          68.8528571,
          35.0957143,
          44.181428600000004,
          60.72571429999999,
          56.4728571,
          61.02571429999999,
          61.6714286,
          28.635,
          55.55571429999999,
          48.21,
          44.6985714,
          24.03,
          57.268571400000006,
          69.26,
          60.0714286,
          64.1842857,
          59.6433333,
          58.3171429,
          68.5971429,
          57.73571429999999,
          70.3485714,
          56.575714299999994,
          67.3271429,
          55.3514286,
          54.161428599999994,
          80.6128571,
          54.7228571,
          63.698571400000006,
          70.69428570000001,
          64.5914286,
          67.0157143,
          53.9128571,
          35.2757143,
          59.75,
          39.8033333,
          58.5785714,
          55.52,
          67.0014286,
          77.0514286,
          69.0814286,
          52.7485714,
          49.7742857,
          58.53,
          56.58428570000001,
          57.6328571,
          67.92,
          64.2871429,
          70.4228571,
          48.2771429,
          57.5828571,
          73.31,
          51.1328571,
          65.2914286,
          59.68,
          51.64,
          65.1,
          48.9057143,
          66.5071429,
          65.6257143,
          62.0785714,
          70.5128571,
          63.2571429,
          60.231428599999994,
          62.105714299999995,
          46.818571399999996,
          58.605714299999995,
          62.47428570000001,
          56.1785714,
          68.66571429999999,
          54.838571400000006,
          58.981428599999994,
          60,
          59.4985714,
          53.51571429999999,
          73.5371429,
          77.43285709999999,
          81.4842857,
          77.6071429,
          78.8314286,
          54.94571429999999,
          43.4857143,
          48.7471429,
          67.5614286,
          58.918571400000005,
          80.79571429999999,
          22.4285714,
          57.9471429,
          68.2514286,
          61.075714299999994,
          55.13,
          48.0328571,
          68.3614286,
          51.7957143,
          59.8514286,
          61.72428570000001,
          53.5571429,
          61.4971429,
          50.7628571,
          46.092857099999996,
          65.78428570000001,
          44.3028571,
          69.03,
          46.68,
          71.958,
          62.78,
          60.871428599999994,
          48.4671429,
          64.4714286,
          61.93,
          47.2957143,
          66.78428570000001,
          73.2,
          52.7366667,
          78.1825,
          58.6671429,
          73.0571429,
          40.548,
          66.31428570000001,
          55.715714299999995,
          33.2942857,
          40.8685714,
          62.401428599999996,
          52.5416667,
          57.6085714,
          67.6214286,
          65.1457143,
          72.5114286,
          53.89,
          63.41571429999999,
          36.7657143,
          48.0142857,
          61.064285700000006,
          52.4042857,
          54.4328571,
          53.244285700000006,
          43.5071429,
          53.91571429999999,
          42.0285714,
          63.8471429,
          56.45428570000001,
          53.465714299999995,
          56.3871429,
          59.4428571,
          57.6014286,
          65.7,
          44.4442857,
          76.0614286,
          63.342857099999996,
          61.1271429,
          55.3985714,
          72.18285709999999,
          64.8671429,
          64.71571429999999,
          64.7771429,
          57.25428570000001,
          61.97428570000001,
          59.61,
          60.0085714,
          48.214285700000005,
          60.30571429999999,
          58.0871429,
          55.638571400000004,
          52.6228571,
          51.8114286,
          55.4271429,
          54.564285700000006,
          71.70428570000001,
          42.4128571,
          66.3328571,
          67.5314286,
          50.79,
          56.36428570000001,
          64.88,
          39.59,
          59.0128571,
          46.2,
          55.738571400000005,
          41.67,
          68.4371429,
          67.6771429,
          69.2442857,
          64.56857140000001,
          66.94428570000001,
          59.0128571,
          63.22,
          48.578,
          71.1714286,
          67.31,
          59.70571429999999,
          67.4685714,
          56.6666667,
          62.4971429,
          63.2328571,
          63.261428599999995,
          66.2442857,
          68.2771429,
          62.3271429,
          69.8828571,
          64.8314286,
          63.1128571,
          70.02428570000001,
          66.67428570000001,
          69.8628571,
          54.6128571,
          59.9428571,
          43.7257143,
          62.33571429999999,
          68.28428570000001,
          72.1571429,
          64.53,
          63.7628571,
          53.9128571,
          52.7428571,
          67.2771429,
          48.0225,
          53.4671429,
          51.4814286,
          59.574285700000004,
          41.8114286,
          39.31,
          64.5514286,
          65.0828571,
          56.11571429999999,
          52.7028571,
          61.1185714,
          57.52428570000001,
          55.07,
          60.82,
          78.15,
          60.035714299999995,
          67.9471429,
          68.0985714,
          30.1866667,
          53.2528571,
          57.11,
          55.05428570000001,
          59.378571400000006,
          54.7375,
          63.0528571,
          64.9857143,
          48.8085714,
          66.6757143,
          65.1242857,
          79.00857140000001,
          58.98571429999999,
          66.9028571,
          67.9671429,
          76.18285709999999,
          66.8328571,
          62.12571429999999,
          58.3371429,
          53.791428599999996,
          62.4985714,
          50.0985714,
          60.744285700000006,
          66.9857143,
          62.0528571,
          54.97571429999999,
          67.18,
          65.55,
          61.4614286,
          60.7171429,
          55.878571400000006,
          64.3071429,
          62.005714299999994,
          40.7828571,
          64.71,
          58.0628571,
          65.6242857,
          48.35,
          70.4471429,
          53.331428599999995,
          55.38,
          53.871428599999994,
          52.9328571,
          60.8528571,
          53.58,
          52.9871429,
          50.6314286,
          56.32,
          69.4728571,
          66.37,
          63.77428570000001,
          61.41,
          56.511428599999995,
          52.965714299999995,
          57.52571429999999,
          88.46,
          58.15857140000001,
          47.1428571,
          51.1885714,
          66.1842857,
          59.464285700000005,
          60.3914286,
          55.47571429999999,
          55.425714299999996,
          58.14,
          38.3971429,
          57.30571429999999,
          60.9228571,
          66.02571429999999,
          53.7428571,
          52.48428570000001,
          59.52428570000001,
          62.0628571,
          60.0785714,
          54.34142859999999,
          69.02428570000001,
          46.8757143,
          76.6585714,
          60.8028571,
          54.88,
          54.3171429,
          57.7514286,
          54.8528571,
          67.1542857,
          60.691428599999995,
          58.157142900000004,
          65.64857140000001,
          57.221428599999996,
          57.55571429999999,
          48.98,
          62.244285700000006
         ],
         "yaxis": "y"
        },
        {
         "hovertemplate": "<b>OLS trendline</b><br>Reading Proficiency = -0.00139148 * Per Pupil Expenditures + 74.4411<br>R<sup>2</sup>=0.082448<br><br>Per Pupil Expenditures=%{x}<br>Reading Proficiency=%{y} <b>(trend)</b><extra></extra>",
         "legendgroup": "",
         "marker": {
          "symbol": "circle"
         },
         "mode": "lines",
         "name": "",
         "showlegend": false,
         "type": "scatter",
         "x": [
          6597.87,
          8340.96,
          8493.34,
          8557.61,
          8587.21,
          8599.56,
          8641.43,
          8673.99,
          8674.1,
          8702.65,
          8809.72,
          8844.63,
          8850.93,
          8878.47,
          8891.58,
          8902.66,
          8925.61,
          8956.89,
          8967.9,
          8986.61,
          8997.29,
          9009.25,
          9010.96,
          9031.51,
          9053.83,
          9066.16,
          9080.92,
          9127,
          9128.65,
          9134.69,
          9152.57,
          9167.42,
          9202.51,
          9242.61,
          9252.92,
          9304.44,
          9305.91,
          9319.8,
          9326.18,
          9336.48,
          9345.04,
          9376.79,
          9428.39,
          9432.46,
          9433.06,
          9433.36,
          9440.61,
          9453,
          9471.55,
          9483.72,
          9510.36,
          9515.85,
          9521.12,
          9526.78,
          9566.9,
          9594.4,
          9598.53,
          9604.18,
          9619.29,
          9633.18,
          9639.6,
          9649.15,
          9660.22,
          9678.87,
          9694.47,
          9701.59,
          9712,
          9771.54,
          9786.27,
          9802.52,
          9815.99,
          9826.95,
          9830.55,
          9844.06,
          9860.61,
          9868.7,
          9882.96,
          9883.3,
          9897.38,
          9908.05,
          9908.56,
          9909.82,
          9937.83,
          9938.79,
          9949.75,
          9963.28,
          9964.09,
          9966.78,
          9969.7,
          9994.47,
          10014.85,
          10015.38,
          10017.61,
          10021.25,
          10025.98,
          10034.55,
          10043.27,
          10044.86,
          10070.84,
          10081.71,
          10088.82,
          10100.52,
          10100.82,
          10105.74,
          10117.2,
          10134.44,
          10137.09,
          10144.18,
          10146.87,
          10148.28,
          10194.01,
          10194.36,
          10218.84,
          10220.45,
          10224.69,
          10230.07,
          10230.53,
          10231.59,
          10236.18,
          10253.41,
          10254.29,
          10255.07,
          10267.48,
          10271.13,
          10288.42,
          10292.49,
          10303.9,
          10316.07,
          10321,
          10323.33,
          10329.09,
          10334.81,
          10341.86,
          10363.13,
          10367.51,
          10378.53,
          10380.18,
          10401.34,
          10415.62,
          10427.96,
          10429.4,
          10466.71,
          10467.4,
          10468.01,
          10468.25,
          10495.67,
          10503.24,
          10506.12,
          10506.37,
          10531.91,
          10534.81,
          10540.43,
          10540.69,
          10542.4,
          10552.71,
          10559.02,
          10561.74,
          10571.61,
          10595.15,
          10617.49,
          10618.54,
          10638.47,
          10675.68,
          10692.74,
          10697.03,
          10706.97,
          10710.99,
          10723.6,
          10729.11,
          10729.67,
          10730.64,
          10730.69,
          10748.92,
          10758.41,
          10783.75,
          10793.24,
          10794.37,
          10824.47,
          10836.53,
          10843.71,
          10855.28,
          10857.41,
          10865.05,
          10865.47,
          10867.16,
          10871.69,
          10873.57,
          10882.52,
          10896.66,
          10907.2,
          10920.47,
          10955.17,
          10965.45,
          11010.93,
          11012.37,
          11013.47,
          11020.18,
          11049.21,
          11055.73,
          11079.35,
          11099.24,
          11142.27,
          11154.25,
          11164.63,
          11167.43,
          11220.4,
          11241.75,
          11250.21,
          11268.93,
          11271.41,
          11290.6,
          11298.4,
          11305.4,
          11309.12,
          11318.4,
          11331.44,
          11331.94,
          11333.09,
          11351.86,
          11353.61,
          11361.95,
          11374.58,
          11381.96,
          11382.28,
          11387.26,
          11416.04,
          11439.1,
          11446.97,
          11489.41,
          11508.09,
          11532.24,
          11538.39,
          11552.9,
          11554.75,
          11568.65,
          11586.52,
          11603.05,
          11605.76,
          11623.14,
          11624.67,
          11635.37,
          11654.17,
          11656.03,
          11676.34,
          11702.39,
          11726.21,
          11740.49,
          11740.82,
          11782.8,
          11788.36,
          11818.01,
          11828.78,
          11830.99,
          11833.14,
          11848.88,
          11855.37,
          11860.39,
          11867.2,
          11899.86,
          11969.22,
          11997.04,
          12033.27,
          12044.94,
          12054.01,
          12055.83,
          12056.93,
          12093.37,
          12097,
          12110.21,
          12120.28,
          12127.08,
          12155.41,
          12217.24,
          12226.93,
          12227.6,
          12230.26,
          12234.74,
          12299.5,
          12361.2,
          12443.26,
          12532.05,
          12592.69,
          12602.58,
          12608.83,
          12656.1,
          12680.34,
          12814.54,
          12879.77,
          13005.07,
          13007.59,
          13134.86,
          13179.88,
          13220.92,
          13247.08,
          13349.47,
          13410.23,
          13564.28,
          13580.69,
          13586.96,
          13773.1,
          13782.77,
          13825.01,
          13866.64,
          14055.73,
          14092.35,
          14117.12,
          14166.85,
          14184.38,
          14229.18,
          14310.13,
          14408.78,
          14699.55,
          15023.09,
          15163.58,
          15200.33,
          15282.84,
          15695.15,
          15906.57,
          16064.94,
          16328.87,
          16466.1,
          17136.7,
          18176.63,
          18446.68,
          18464.32,
          18480.66,
          18560.72,
          20689.53,
          22535.75
         ],
         "xaxis": "x",
         "y": [
          65.2603112342878,
          62.8348339537004,
          62.62280002084787,
          62.533369512484356,
          62.4921816636037,
          62.47499686854708,
          62.41673554312028,
          62.37142890935156,
          62.371275846399634,
          62.33154905296914,
          62.1825631414944,
          62.133986526480086,
          62.12522019377913,
          62.08689879654355,
          62.06865647563728,
          62.05323886193466,
          62.02130436423833,
          61.977778826637426,
          61.96245861663148,
          61.936423999991035,
          61.921562978840846,
          61.904920861522854,
          61.90254142836117,
          61.873946485979495,
          61.84288862155327,
          61.82573165612426,
          61.80519339093918,
          61.74107392889793,
          61.73877798461912,
          61.73037343707725,
          61.70549374998313,
          61.68483025147374,
          61.63600316981082,
          61.58020476642858,
          61.56585859338941,
          61.494169472634965,
          61.49212399500474,
          61.472796318621214,
          61.46391866740977,
          61.44958640918441,
          61.437675328562165,
          61.39349579471214,
          61.321695355447204,
          61.31603202622612,
          61.315197137397455,
          61.31477969298312,
          61.30469145297012,
          61.28745099865825,
          61.26163901903878,
          61.244704690630755,
          61.207635626638165,
          61.199996393855905,
          61.19266328697749,
          61.18478750236045,
          61.12896126935058,
          61.090695531370244,
          61.084948713266286,
          61.07708684346305,
          61.05606155979458,
          61.03673388341105,
          61.02780057294437,
          61.01451192575483,
          60.99910822686602,
          60.97315709910844,
          60.95144998956323,
          60.941542642129775,
          60.92705732095249,
          60.8442085195216,
          60.823711998777945,
          60.80110042633502,
          60.782357172131555,
          60.76710653619466,
          60.762097203222694,
          60.743298289763985,
          60.72026927290672,
          60.7090121885336,
          60.68916966403907,
          60.68869656036949,
          60.66910450252355,
          60.654257396187184,
          60.653547740682825,
          60.65179447414263,
          60.61281908065793,
          60.61148325853206,
          60.596232622595174,
          60.577405879508845,
          60.576278779590154,
          60.57253569467498,
          60.56847256904216,
          60.534005575232236,
          60.505647184685344,
          60.504909699553366,
          60.5018066960735,
          60.49674170384628,
          60.49015999691367,
          60.478235001477614,
          60.46610128383439,
          60.463888828438435,
          60.427738142157374,
          60.412612739544784,
          60.402719306925135,
          60.38643897476622,
          60.3860215303519,
          60.37917544195687,
          60.36322906532942,
          60.3392399263192,
          60.335552500659276,
          60.325686897667254,
          60.32194381275208,
          60.31998182400473,
          60.25634938044688,
          60.25586236196349,
          60.22179889775408,
          60.2195586127305,
          60.21365873167463,
          60.20617256184429,
          60.205532480408976,
          60.20405751014501,
          60.19767061060575,
          60.173695386409335,
          60.17247088279397,
          60.17138552731671,
          60.154117243377215,
          60.14903833633619,
          60.12497962325691,
          60.11931629403582,
          60.10343949147743,
          60.086505163069404,
          60.07964515986056,
          60.07640300824259,
          60.068388075487434,
          60.06042880198753,
          60.05061885825074,
          60.02102204927468,
          60.014927360825446,
          59.99959323600569,
          59.997297291726866,
          59.967853545702724,
          59.94798319158056,
          59.93081231133775,
          59.92880857814896,
          59.87689240782,
          59.875932285667034,
          59.875083482024564,
          59.8747495264931,
          59.83659510702324,
          59.826061592968294,
          59.822054126590714,
          59.821706256245434,
          59.78616782177206,
          59.78213252576686,
          59.77431240040506,
          59.77395061524597,
          59.77157118208429,
          59.757225009045115,
          59.74844476153035,
          59.74465993217375,
          59.730926010942255,
          59.698170539231086,
          59.667084845177236,
          59.66562378972708,
          59.637891565801695,
          59.58611454361083,
          59.562375871249216,
          59.556406416124275,
          59.54257509119611,
          59.53698133604408,
          59.519434755828364,
          59.511767693418484,
          59.51098846384507,
          59.50963872690539,
          59.50956915283634,
          59.484202447258824,
          59.470997288952155,
          59.435737150755,
          59.42253199244833,
          59.42095961848768,
          59.37907602891647,
          59.36229476346036,
          59.35230392714404,
          59.33620448756468,
          59.333240632222925,
          59.3226097144713,
          59.32202529229124,
          59.31967368875717,
          59.31337027810077,
          59.310754293104296,
          59.29830053474342,
          59.27862498801462,
          59.263958774257794,
          59.24549381633055,
          59.197209412406266,
          59.18290498380853,
          59.11962041059594,
          59.117616677407156,
          59.11608604788795,
          59.10674920782074,
          59.06635450332731,
          59.05728204472251,
          59.02441525450085,
          58.99673868983071,
          58.936863246001835,
          58.920193299056216,
          58.905749722320365,
          58.90185357445327,
          58.828146805696235,
          58.79843867820968,
          58.78666674572554,
          58.76061821427129,
          58.75716734044615,
          58.73046481274278,
          58.71961125797017,
          58.70987088830245,
          58.704694577564744,
          58.6917816303481,
          58.67363671313852,
          58.67294097244796,
          58.67134076885969,
          58.645222663336384,
          58.64278757091945,
          58.63118261620105,
          58.61360820635772,
          58.60333907376518,
          58.60289379972322,
          58.59596422244533,
          58.555917388297175,
          58.52382982764893,
          58.51287886917965,
          58.45382439936562,
          58.42783152716662,
          58.39422725181297,
          58.38566964131918,
          58.365479246479374,
          58.36290500592433,
          58.343563414727,
          58.31869764244668,
          58.29569645521704,
          58.29192554067426,
          58.267741594270674,
          58.26561262775759,
          58.25072377697978,
          58.22456392701504,
          58.221975771646186,
          58.19371478479598,
          58.15746669481824,
          58.12432160832036,
          58.1044512541982,
          58.10399206534244,
          58.04557767696372,
          58.037841040484786,
          57.996583617535066,
          57.98159736306059,
          57.97852218920835,
          57.975530504238975,
          57.953628587300415,
          57.94459787313705,
          57.937612636603916,
          57.9281366483986,
          57.882690866491764,
          57.78617771789844,
          57.74746670587614,
          57.69705333543877,
          57.68081474772129,
          57.668194011594686,
          57.66566151548108,
          57.66413088596187,
          57.61342530443446,
          57.60837422702106,
          57.58999275797668,
          57.57598054046897,
          57.566518467077465,
          57.52709779955081,
          57.44106250575719,
          57.4275790511743,
          57.42664675864896,
          57.422945418175225,
          57.41671158158788,
          57.32659924734763,
          57.24074484613355,
          57.126559884000216,
          57.003010252172054,
          56.918630821221946,
          56.904869070362835,
          56.896172311730936,
          56.83039698684618,
          56.79666747816824,
          56.60993067682417,
          56.519164346334804,
          56.344811729282554,
          56.34130519620217,
          56.16421136082916,
          56.10156686905188,
          56.0444604731714,
          56.00805932024174,
          55.865585541630566,
          55.78103913291473,
          55.56668142615577,
          55.54384721669186,
          55.53512262843234,
          55.27611228415377,
          55.2626566591985,
          55.20388048566069,
          55.145953115765366,
          54.88283790141253,
          54.831881853236524,
          54.797414859426596,
          54.72821649034433,
          54.70382382173359,
          54.64148545586016,
          54.52884503805985,
          54.391575399814,
          53.98697435863059,
          53.53677447258842,
          53.34128525335721,
          53.290148312601666,
          53.17533718384683,
          52.60161549560412,
          52.30742850201125,
          52.087059595685915,
          51.719805914771314,
          51.52885292484251,
          50.59572551067461,
          49.14868227802383,
          48.77291273105688,
          48.748366999494216,
          48.725630193726985,
          48.61422819435585,
          45.652028715449276,
          43.08304796002869
         ],
         "yaxis": "y"
        }
       ],
       "layout": {
        "coloraxis": {
         "colorbar": {
          "title": {
           "text": "Reading Proficiency"
          }
         },
         "colorscale": [
          [
           0,
           "#0d0887"
          ],
          [
           0.1111111111111111,
           "#46039f"
          ],
          [
           0.2222222222222222,
           "#7201a8"
          ],
          [
           0.3333333333333333,
           "#9c179e"
          ],
          [
           0.4444444444444444,
           "#bd3786"
          ],
          [
           0.5555555555555556,
           "#d8576b"
          ],
          [
           0.6666666666666666,
           "#ed7953"
          ],
          [
           0.7777777777777778,
           "#fb9f3a"
          ],
          [
           0.8888888888888888,
           "#fdca26"
          ],
          [
           1,
           "#f0f921"
          ]
         ]
        },
        "legend": {
         "tracegroupgap": 0
        },
        "template": {
         "data": {
          "bar": [
           {
            "error_x": {
             "color": "#2a3f5f"
            },
            "error_y": {
             "color": "#2a3f5f"
            },
            "marker": {
             "line": {
              "color": "#E5ECF6",
              "width": 0.5
             }
            },
            "type": "bar"
           }
          ],
          "barpolar": [
           {
            "marker": {
             "line": {
              "color": "#E5ECF6",
              "width": 0.5
             }
            },
            "type": "barpolar"
           }
          ],
          "carpet": [
           {
            "aaxis": {
             "endlinecolor": "#2a3f5f",
             "gridcolor": "white",
             "linecolor": "white",
             "minorgridcolor": "white",
             "startlinecolor": "#2a3f5f"
            },
            "baxis": {
             "endlinecolor": "#2a3f5f",
             "gridcolor": "white",
             "linecolor": "white",
             "minorgridcolor": "white",
             "startlinecolor": "#2a3f5f"
            },
            "type": "carpet"
           }
          ],
          "choropleth": [
           {
            "colorbar": {
             "outlinewidth": 0,
             "ticks": ""
            },
            "type": "choropleth"
           }
          ],
          "contour": [
           {
            "colorbar": {
             "outlinewidth": 0,
             "ticks": ""
            },
            "colorscale": [
             [
              0,
              "#0d0887"
             ],
             [
              0.1111111111111111,
              "#46039f"
             ],
             [
              0.2222222222222222,
              "#7201a8"
             ],
             [
              0.3333333333333333,
              "#9c179e"
             ],
             [
              0.4444444444444444,
              "#bd3786"
             ],
             [
              0.5555555555555556,
              "#d8576b"
             ],
             [
              0.6666666666666666,
              "#ed7953"
             ],
             [
              0.7777777777777778,
              "#fb9f3a"
             ],
             [
              0.8888888888888888,
              "#fdca26"
             ],
             [
              1,
              "#f0f921"
             ]
            ],
            "type": "contour"
           }
          ],
          "contourcarpet": [
           {
            "colorbar": {
             "outlinewidth": 0,
             "ticks": ""
            },
            "type": "contourcarpet"
           }
          ],
          "heatmap": [
           {
            "colorbar": {
             "outlinewidth": 0,
             "ticks": ""
            },
            "colorscale": [
             [
              0,
              "#0d0887"
             ],
             [
              0.1111111111111111,
              "#46039f"
             ],
             [
              0.2222222222222222,
              "#7201a8"
             ],
             [
              0.3333333333333333,
              "#9c179e"
             ],
             [
              0.4444444444444444,
              "#bd3786"
             ],
             [
              0.5555555555555556,
              "#d8576b"
             ],
             [
              0.6666666666666666,
              "#ed7953"
             ],
             [
              0.7777777777777778,
              "#fb9f3a"
             ],
             [
              0.8888888888888888,
              "#fdca26"
             ],
             [
              1,
              "#f0f921"
             ]
            ],
            "type": "heatmap"
           }
          ],
          "heatmapgl": [
           {
            "colorbar": {
             "outlinewidth": 0,
             "ticks": ""
            },
            "colorscale": [
             [
              0,
              "#0d0887"
             ],
             [
              0.1111111111111111,
              "#46039f"
             ],
             [
              0.2222222222222222,
              "#7201a8"
             ],
             [
              0.3333333333333333,
              "#9c179e"
             ],
             [
              0.4444444444444444,
              "#bd3786"
             ],
             [
              0.5555555555555556,
              "#d8576b"
             ],
             [
              0.6666666666666666,
              "#ed7953"
             ],
             [
              0.7777777777777778,
              "#fb9f3a"
             ],
             [
              0.8888888888888888,
              "#fdca26"
             ],
             [
              1,
              "#f0f921"
             ]
            ],
            "type": "heatmapgl"
           }
          ],
          "histogram": [
           {
            "marker": {
             "colorbar": {
              "outlinewidth": 0,
              "ticks": ""
             }
            },
            "type": "histogram"
           }
          ],
          "histogram2d": [
           {
            "colorbar": {
             "outlinewidth": 0,
             "ticks": ""
            },
            "colorscale": [
             [
              0,
              "#0d0887"
             ],
             [
              0.1111111111111111,
              "#46039f"
             ],
             [
              0.2222222222222222,
              "#7201a8"
             ],
             [
              0.3333333333333333,
              "#9c179e"
             ],
             [
              0.4444444444444444,
              "#bd3786"
             ],
             [
              0.5555555555555556,
              "#d8576b"
             ],
             [
              0.6666666666666666,
              "#ed7953"
             ],
             [
              0.7777777777777778,
              "#fb9f3a"
             ],
             [
              0.8888888888888888,
              "#fdca26"
             ],
             [
              1,
              "#f0f921"
             ]
            ],
            "type": "histogram2d"
           }
          ],
          "histogram2dcontour": [
           {
            "colorbar": {
             "outlinewidth": 0,
             "ticks": ""
            },
            "colorscale": [
             [
              0,
              "#0d0887"
             ],
             [
              0.1111111111111111,
              "#46039f"
             ],
             [
              0.2222222222222222,
              "#7201a8"
             ],
             [
              0.3333333333333333,
              "#9c179e"
             ],
             [
              0.4444444444444444,
              "#bd3786"
             ],
             [
              0.5555555555555556,
              "#d8576b"
             ],
             [
              0.6666666666666666,
              "#ed7953"
             ],
             [
              0.7777777777777778,
              "#fb9f3a"
             ],
             [
              0.8888888888888888,
              "#fdca26"
             ],
             [
              1,
              "#f0f921"
             ]
            ],
            "type": "histogram2dcontour"
           }
          ],
          "mesh3d": [
           {
            "colorbar": {
             "outlinewidth": 0,
             "ticks": ""
            },
            "type": "mesh3d"
           }
          ],
          "parcoords": [
           {
            "line": {
             "colorbar": {
              "outlinewidth": 0,
              "ticks": ""
             }
            },
            "type": "parcoords"
           }
          ],
          "pie": [
           {
            "automargin": true,
            "type": "pie"
           }
          ],
          "scatter": [
           {
            "marker": {
             "colorbar": {
              "outlinewidth": 0,
              "ticks": ""
             }
            },
            "type": "scatter"
           }
          ],
          "scatter3d": [
           {
            "line": {
             "colorbar": {
              "outlinewidth": 0,
              "ticks": ""
             }
            },
            "marker": {
             "colorbar": {
              "outlinewidth": 0,
              "ticks": ""
             }
            },
            "type": "scatter3d"
           }
          ],
          "scattercarpet": [
           {
            "marker": {
             "colorbar": {
              "outlinewidth": 0,
              "ticks": ""
             }
            },
            "type": "scattercarpet"
           }
          ],
          "scattergeo": [
           {
            "marker": {
             "colorbar": {
              "outlinewidth": 0,
              "ticks": ""
             }
            },
            "type": "scattergeo"
           }
          ],
          "scattergl": [
           {
            "marker": {
             "colorbar": {
              "outlinewidth": 0,
              "ticks": ""
             }
            },
            "type": "scattergl"
           }
          ],
          "scattermapbox": [
           {
            "marker": {
             "colorbar": {
              "outlinewidth": 0,
              "ticks": ""
             }
            },
            "type": "scattermapbox"
           }
          ],
          "scatterpolar": [
           {
            "marker": {
             "colorbar": {
              "outlinewidth": 0,
              "ticks": ""
             }
            },
            "type": "scatterpolar"
           }
          ],
          "scatterpolargl": [
           {
            "marker": {
             "colorbar": {
              "outlinewidth": 0,
              "ticks": ""
             }
            },
            "type": "scatterpolargl"
           }
          ],
          "scatterternary": [
           {
            "marker": {
             "colorbar": {
              "outlinewidth": 0,
              "ticks": ""
             }
            },
            "type": "scatterternary"
           }
          ],
          "surface": [
           {
            "colorbar": {
             "outlinewidth": 0,
             "ticks": ""
            },
            "colorscale": [
             [
              0,
              "#0d0887"
             ],
             [
              0.1111111111111111,
              "#46039f"
             ],
             [
              0.2222222222222222,
              "#7201a8"
             ],
             [
              0.3333333333333333,
              "#9c179e"
             ],
             [
              0.4444444444444444,
              "#bd3786"
             ],
             [
              0.5555555555555556,
              "#d8576b"
             ],
             [
              0.6666666666666666,
              "#ed7953"
             ],
             [
              0.7777777777777778,
              "#fb9f3a"
             ],
             [
              0.8888888888888888,
              "#fdca26"
             ],
             [
              1,
              "#f0f921"
             ]
            ],
            "type": "surface"
           }
          ],
          "table": [
           {
            "cells": {
             "fill": {
              "color": "#EBF0F8"
             },
             "line": {
              "color": "white"
             }
            },
            "header": {
             "fill": {
              "color": "#C8D4E3"
             },
             "line": {
              "color": "white"
             }
            },
            "type": "table"
           }
          ]
         },
         "layout": {
          "annotationdefaults": {
           "arrowcolor": "#2a3f5f",
           "arrowhead": 0,
           "arrowwidth": 1
          },
          "coloraxis": {
           "colorbar": {
            "outlinewidth": 0,
            "ticks": ""
           }
          },
          "colorscale": {
           "diverging": [
            [
             0,
             "#8e0152"
            ],
            [
             0.1,
             "#c51b7d"
            ],
            [
             0.2,
             "#de77ae"
            ],
            [
             0.3,
             "#f1b6da"
            ],
            [
             0.4,
             "#fde0ef"
            ],
            [
             0.5,
             "#f7f7f7"
            ],
            [
             0.6,
             "#e6f5d0"
            ],
            [
             0.7,
             "#b8e186"
            ],
            [
             0.8,
             "#7fbc41"
            ],
            [
             0.9,
             "#4d9221"
            ],
            [
             1,
             "#276419"
            ]
           ],
           "sequential": [
            [
             0,
             "#0d0887"
            ],
            [
             0.1111111111111111,
             "#46039f"
            ],
            [
             0.2222222222222222,
             "#7201a8"
            ],
            [
             0.3333333333333333,
             "#9c179e"
            ],
            [
             0.4444444444444444,
             "#bd3786"
            ],
            [
             0.5555555555555556,
             "#d8576b"
            ],
            [
             0.6666666666666666,
             "#ed7953"
            ],
            [
             0.7777777777777778,
             "#fb9f3a"
            ],
            [
             0.8888888888888888,
             "#fdca26"
            ],
            [
             1,
             "#f0f921"
            ]
           ],
           "sequentialminus": [
            [
             0,
             "#0d0887"
            ],
            [
             0.1111111111111111,
             "#46039f"
            ],
            [
             0.2222222222222222,
             "#7201a8"
            ],
            [
             0.3333333333333333,
             "#9c179e"
            ],
            [
             0.4444444444444444,
             "#bd3786"
            ],
            [
             0.5555555555555556,
             "#d8576b"
            ],
            [
             0.6666666666666666,
             "#ed7953"
            ],
            [
             0.7777777777777778,
             "#fb9f3a"
            ],
            [
             0.8888888888888888,
             "#fdca26"
            ],
            [
             1,
             "#f0f921"
            ]
           ]
          },
          "colorway": [
           "#636efa",
           "#EF553B",
           "#00cc96",
           "#ab63fa",
           "#FFA15A",
           "#19d3f3",
           "#FF6692",
           "#B6E880",
           "#FF97FF",
           "#FECB52"
          ],
          "font": {
           "color": "#2a3f5f"
          },
          "geo": {
           "bgcolor": "white",
           "lakecolor": "white",
           "landcolor": "#E5ECF6",
           "showlakes": true,
           "showland": true,
           "subunitcolor": "white"
          },
          "hoverlabel": {
           "align": "left"
          },
          "hovermode": "closest",
          "mapbox": {
           "style": "light"
          },
          "paper_bgcolor": "white",
          "plot_bgcolor": "#E5ECF6",
          "polar": {
           "angularaxis": {
            "gridcolor": "white",
            "linecolor": "white",
            "ticks": ""
           },
           "bgcolor": "#E5ECF6",
           "radialaxis": {
            "gridcolor": "white",
            "linecolor": "white",
            "ticks": ""
           }
          },
          "scene": {
           "xaxis": {
            "backgroundcolor": "#E5ECF6",
            "gridcolor": "white",
            "gridwidth": 2,
            "linecolor": "white",
            "showbackground": true,
            "ticks": "",
            "zerolinecolor": "white"
           },
           "yaxis": {
            "backgroundcolor": "#E5ECF6",
            "gridcolor": "white",
            "gridwidth": 2,
            "linecolor": "white",
            "showbackground": true,
            "ticks": "",
            "zerolinecolor": "white"
           },
           "zaxis": {
            "backgroundcolor": "#E5ECF6",
            "gridcolor": "white",
            "gridwidth": 2,
            "linecolor": "white",
            "showbackground": true,
            "ticks": "",
            "zerolinecolor": "white"
           }
          },
          "shapedefaults": {
           "line": {
            "color": "#2a3f5f"
           }
          },
          "ternary": {
           "aaxis": {
            "gridcolor": "white",
            "linecolor": "white",
            "ticks": ""
           },
           "baxis": {
            "gridcolor": "white",
            "linecolor": "white",
            "ticks": ""
           },
           "bgcolor": "#E5ECF6",
           "caxis": {
            "gridcolor": "white",
            "linecolor": "white",
            "ticks": ""
           }
          },
          "title": {
           "x": 0.05
          },
          "xaxis": {
           "automargin": true,
           "gridcolor": "white",
           "linecolor": "white",
           "ticks": "",
           "title": {
            "standoff": 15
           },
           "zerolinecolor": "white",
           "zerolinewidth": 2
          },
          "yaxis": {
           "automargin": true,
           "gridcolor": "white",
           "linecolor": "white",
           "ticks": "",
           "title": {
            "standoff": 15
           },
           "zerolinecolor": "white",
           "zerolinewidth": 2
          }
         }
        },
        "title": {
         "text": "Reading Proficiency (%) vs. Per Pupil Expenditures ($) by School District"
        },
        "xaxis": {
         "anchor": "y",
         "domain": [
          0,
          1
         ],
         "title": {
          "text": "Per Pupil Expenditures"
         }
        },
        "yaxis": {
         "anchor": "x",
         "domain": [
          0,
          1
         ],
         "title": {
          "text": "Reading Proficiency"
         }
        }
       }
      },
      "text/html": [
       "<div>\n",
       "        \n",
       "        \n",
       "            <div id=\"73c77419-8cb9-4fe6-a459-f1a74da27a51\" class=\"plotly-graph-div\" style=\"height:525px; width:100%;\"></div>\n",
       "            <script type=\"text/javascript\">\n",
       "                require([\"plotly\"], function(Plotly) {\n",
       "                    window.PLOTLYENV=window.PLOTLYENV || {};\n",
       "                    \n",
       "                if (document.getElementById(\"73c77419-8cb9-4fe6-a459-f1a74da27a51\")) {\n",
       "                    Plotly.newPlot(\n",
       "                        '73c77419-8cb9-4fe6-a459-f1a74da27a51',\n",
       "                        [{\"customdata\": [[\"Aitkin Public School District\"], [\"Minneapolis Public School District\"], [\"Hill City Public School District\"], [\"McGregor Public School District\"], [\"South St. Paul Public School District\"], [\"Anoka-Hennepin Public School District\"], [\"Centennial Public School District\"], [\"Columbia Heights Public School District\"], [\"Fridley Public School District\"], [\"St. Francis Public School District\"], [\"Spring Lake Park Public Schools\"], [\"Detroit Lakes Public School District\"], [\"Frazee-Vergas Public School District\"], [\"Pine Point Public School District\"], [\"Bemidji Public School District\"], [\"Blackduck Public School District\"], [\"Kelliher Public School District\"], [\"Red Lake Public School District\"], [\"Sauk Rapids-Rice Public Schools\"], [\"Foley Public School District\"], [\"St. Clair Public School District\"], [\"Mankato Public School District\"], [\"Comfrey Public School District\"], [\"Sleepy Eye Public School District\"], [\"Springfield Public School District\"], [\"New Ulm Public School District\"], [\"Barnum Public School District\"], [\"Carlton Public School District\"], [\"Cloquet Public School District\"], [\"Cromwell-Wright Public Schools\"], [\"Moose Lake Public School District\"], [\"Esko Public School District\"], [\"Wrenshall Public School District\"], [\"Central Public School District\"], [\"Waconia Public School District\"], [\"Watertown-Mayer Public School District\"], [\"Eastern Carver County Public Schools\"], [\"Walker-Hackensack-Akeley School District\"], [\"Cass Lake-Bena Public Schools\"], [\"Pillager Public School District\"], [\"Northland Community Schools\"], [\"Montevideo Public School District\"], [\"North Branch Public Schools\"], [\"Rush City Public School District\"], [\"Barnesville Public School District\"], [\"Hawley Public School District\"], [\"Moorhead Public School District\"], [\"Bagley Public School District\"], [\"Cook County Public Schools\"], [\"Mountain Lake Public Schools\"], [\"Windom Public School District\"], [\"Brainerd Public School District\"], [\"Crosby-Ironton Public School District\"], [\"Pequot Lakes Public Schools\"], [\"Burnsville Public School District\"], [\"Farmington Public School District\"], [\"Lakeville Public School District\"], [\"Randolph Public School District\"], [\"Rosemount-Apple Valley-Eagan\"], [\"West St. Paul-Mendota Heights-Eagan\"], [\"Inver Grove Heights Schools\"], [\"Hastings Public School District\"], [\"Hayfield Public School District\"], [\"Kasson-Mantorville School District\"], [\"Alexandria Public School District\"], [\"Osakis Public School District\"], [\"Chatfield Public Schools\"], [\"Lanesboro Public School District\"], [\"Mabel-Canton Public School District\"], [\"Rushford-Peterson Public Schools\"], [\"Albert Lea Public School District\"], [\"Alden-Conger Public School District\"], [\"Cannon Falls Public School District\"], [\"Goodhue Public School District\"], [\"Pine Island Public School District\"], [\"Red Wing Public School District\"], [\"Ashby Public School District\"], [\"Herman-Norcross School District\"], [\"Hopkins Public School District\"], [\"Bloomington Public School District\"], [\"Eden Prairie Public School District\"], [\"Edina Public School District\"], [\"Minnetonka Public School District\"], [\"Westonka Public School District\"], [\"Orono Public School District\"], [\"Osseo Public School District\"], [\"Richfield Public School District\"], [\"Robbinsdale Public School District\"], [\"St. Anthony-New Brighton Schools\"], [\"St. Louis Park Public School District\"], [\"Wayzata Public School District\"], [\"Brooklyn Center School District\"], [\"Houston Public School District\"], [\"Spring Grove School District\"], [\"Caledonia Public School District\"], [\"La Crescent-Hokah School District\"], [\"Laporte Public School District\"], [\"Nevis Public School District\"], [\"Park Rapids Public School District\"], [\"Braham Public School District\"], [\"Greenway Public School District\"], [\"Deer River Public School District\"], [\"Grand Rapids Public School District\"], [\"Nashwauk-Keewatin School District\"], [\"Heron Lake-Okabena School District\"], [\"Mora Public School District\"], [\"Ogilvie Public School District\"], [\"New London-Spicer School District\"], [\"Willmar Public School District\"], [\"Lancaster Public School District\"], [\"International Falls School District\"], [\"Littlefork-Big Falls School District\"], [\"South Koochiching School District\"], [\"Dawson-Boyd Public School District\"], [\"Lake Superior Public School District\"], [\"Lake of The Woods School District\"], [\"Cleveland Public School District\"], [\"Hendricks Public School District\"], [\"Ivanhoe Public School District\"], [\"Lake Benton Public School District\"], [\"Marshall Public School District\"], [\"Minneota Public School District\"], [\"Lynd Public School District\"], [\"Hutchinson Public School District\"], [\"Lester Prairie Public School District\"], [\"Mahnomen Public School District\"], [\"Waubun-Ogema-White Earth Public Schools\"], [\"Marshall County Central Schools\"], [\"Grygla Public School District\"], [\"Truman Public School District\"], [\"Eden Valley-Watkins School District\"], [\"Litchfield Public School District\"], [\"Dassel-Cokato Public School District\"], [\"Isle Public School District\"], [\"Princeton Public School District\"], [\"Onamia Public School District\"], [\"Little Falls Public School District\"], [\"Pierz Public School District\"], [\"Royalton Public School District\"], [\"Swanville Public School District\"], [\"Upsala Public School District\"], [\"Austin Public School District\"], [\"Grand Meadow Public School District\"], [\"Lyle Public School District\"], [\"LeRoy-Ostrander Public Schools\"], [\"Southland Public School District\"], [\"Fulda Public School District\"], [\"Nicollet Public School District\"], [\"St. Peter Public School District\"], [\"Adrian Public School District\"], [\"Ellsworth Public School District\"], [\"Worthington Public School District\"], [\"Byron Public School District\"], [\"Dover-Eyota Public School District\"], [\"Stewartville Public School District\"], [\"Rochester Public School District\"], [\"Battle Lake Public School District\"], [\"Fergus Falls Public School District\"], [\"Henning Public School District\"], [\"Parkers Prairie Public School District\"], [\"Pelican Rapids Public School District\"], [\"Perham-Dent Public School District\"], [\"Underwood Public School District\"], [\"New York Mills Public School District\"], [\"Goodridge Public School District\"], [\"Thief River Falls School District\"], [\"Willow River Public School District\"], [\"Pine City Public School District\"], [\"Edgerton Public School District\"], [\"Climax-Shelly Public Schools\"], [\"Crookston Public School District\"], [\"East Grand Forks Public School District\"], [\"Fertile-Beltrami School District\"], [\"Fisher Public School District\"], [\"Fosston Public School District\"], [\"Mounds View Public School District\"], [\"North St. Paul-Maplewood-Oakdale School District\"], [\"Roseville Public School District\"], [\"White Bear Lake School District\"], [\"St. Paul Public School District\"], [\"Red Lake Falls Public School District\"], [\"Milroy Public School District\"], [\"Wabasso Public School District\"], [\"Faribault Public School District\"], [\"Northfield Public School District\"], [\"Hills-Beaver Creek School District\"], [\"Badger Public School District\"], [\"Roseau Public School District\"], [\"Warroad Public School District\"], [\"Chisholm Public School District\"], [\"Ely Public School District\"], [\"Floodwood Public School District\"], [\"Hermantown Public School District\"], [\"Hibbing Public School District\"], [\"Proctor Public School District\"], [\"Virginia Public School District\"], [\"Nett Lake Public School District\"], [\"Duluth Public School District\"], [\"Mountain Iron-Buhl School District\"], [\"Belle Plaine Public School District\"], [\"Jordan Public School District\"], [\"Prior Lake-Savage Area Schools\"], [\"Shakopee Public School District\"], [\"New Prague Area Schools\"], [\"Becker Public School District\"], [\"Big Lake Public School District\"], [\"Elk River Public School District\"], [\"Holdingford Public School District\"], [\"Kimball Public School District\"], [\"Melrose Public School District\"], [\"Paynesville Public School District\"], [\"St. Cloud Public School District\"], [\"Sauk Centre Public School District\"], [\"Albany Public School District\"], [\"Sartell-St. Stephen School District\"], [\"Rocori Public School District\"], [\"Blooming Prairie Public School District\"], [\"Owatonna Public School District\"], [\"Medford Public School District\"], [\"Hancock Public School District\"], [\"Chokio-Alberta Public School District\"], [\"Kerkhoven-Murdock-Sunburg\"], [\"Benson Public School District\"], [\"Bertha-Hewitt Public School District\"], [\"Browerville Public School District\"], [\"Browns Valley Public School District\"], [\"Wheaton Area Public School District\"], [\"Wabasha-Kellogg Public School District\"], [\"Lake City Public School District\"], [\"Verndale Public School District\"], [\"Sebeka Public School District\"], [\"Menahga Public School District\"], [\"Waseca Public School District\"], [\"Forest Lake Public School District\"], [\"Mahtomedi Public School District\"], [\"Fillmore Central\"], [\"South Washington County School District\"], [\"Stillwater Area Public School District\"], [\"Butterfield Public School District\"], [\"Madelia Public School District\"], [\"St. James Public School District\"], [\"Breckenridge Public School District\"], [\"Rothsay Public School District\"], [\"Campbell-Tintah Public School District\"], [\"Lewiston-Altura Public School District\"], [\"St. Charles Public School District\"], [\"Winona Area Public School District\"], [\"Annandale Public School District\"], [\"Buffalo-Hanover-Montrose Public Schools\"], [\"Delano Public School District\"], [\"Maple Lake Public School District\"], [\"Monticello Public School District\"], [\"Rockford Public School District\"], [\"St. Michael-Albertville School District\"], [\"Canby Public School District\"], [\"Cambridge-Isanti Public School District\"], [\"Milaca Public School District\"], [\"Ulen-Hitterdal Public School District\"], [\"Lake Crystal-Wellcome Memorial\"], [\"Triton School District\"], [\"United South Central School District\"], [\"Maple River School District\"], [\"Kingsland Public School District\"], [\"St. Louis County School District\"], [\"Waterville-Elysian-Morristown Public School District\"], [\"Chisago Lakes School District\"], [\"Minnewaska School District\"], [\"Eveleth-Gilbert School District\"], [\"Wadena-Deer Creek School District\"], [\"Buffalo Lake-Hector-Stewart Public Schools\"], [\"Dilworth-Glyndon-Felton\"], [\"Hinckley-Finlayson School District\"], [\"Lakeview School District\"], [\"NRHEG School District\"], [\"Murray County Central School District\"], [\"Staples-Motley School District\"], [\"Kittson Central School District\"], [\"Kenyon-Wanamingo School District\"], [\"Pine River-Backus Public School District\"], [\"Warren-Alvarado-Oslo School District\"], [\"MACCRAY School District\"], [\"Luverne Public School District\"], [\"Yellow Medicine East\"], [\"Norman County East School District\"], [\"Sibley East School District\"], [\"Clearbrook-Gonvick School District\"], [\"West Central Area\"], [\"Tri-County School District\"], [\"Belgrade-Brooten-Elrosa Public School District\"], [\"G.F.W. Public School District\"], [\"A.C.G.C. Public School District\"], [\"Le Sueur-Henderson School District\"], [\"Martin County West School District\"], [\"Norman County West School District\"], [\"Bird Island-Olivia-Lake Lillian Public School District\"], [\"Granada-Huntley-East Chain\"], [\"East Central School District\"], [\"Win-E-Mac School District\"], [\"Greenbush-Middle River School District\"], [\"Howard Lake-Waverly-Winsted\"], [\"Pipestone Area School District\"], [\"Mesabi East School District\"], [\"Fairmont Area School District\"], [\"Long Prairie-Grey Eagle School District\"], [\"Cedar Mountain School District\"], [\"Morris Area Public Schools\"], [\"Zumbrota-Mazeppa School District\"], [\"Janesville-Waldorf-Pemberton\"], [\"Lac qui Parle Valley School District\"], [\"Ada-Borup Public School District\"], [\"Stephen-Argyle Central Schools\"], [\"Glencoe-Silver Lake School District\"], [\"Blue Earth Area Public Schools\"], [\"Red Rock Central School District\"], [\"Glenville-Emmons School District\"], [\"Clinton-Graceville-Beardsley\"], [\"Lake Park Audubon School District\"], [\"Renville County West School District\"], [\"Jackson County Central School District\"], [\"Redwood Area School District\"], [\"Westbrook-Walnut Grove Schools\"], [\"Plainview-Elgin-Millville\"], [\"RTR Public Schools\"], [\"Ortonville Public Schools\"], [\"Tracy Area Public School District\"], [\"Tri-City United School District\"], [\"Red Lake County Central Public Schools\"], [\"Round Lake-Brewster Public Schools\"], [\"Brandon-Evansville Public Schools\"]], \"hovertemplate\": \"Per Pupil Expenditures=%{x}<br>Reading Proficiency=%{marker.color}<br>District=%{customdata[0]}<extra></extra>\", \"legendgroup\": \"\", \"marker\": {\"color\": [57.638571400000004, 46.48, 46.2828571, 49.2585714, 45.0614286, 65.0485714, 68.8528571, 35.0957143, 44.181428600000004, 60.72571429999999, 56.4728571, 61.02571429999999, 61.6714286, 28.635, 55.55571429999999, 48.21, 44.6985714, 24.03, 57.268571400000006, 69.26, 60.0714286, 64.1842857, 59.6433333, 58.3171429, 68.5971429, 57.73571429999999, 70.3485714, 56.575714299999994, 67.3271429, 55.3514286, 54.161428599999994, 80.6128571, 54.7228571, 63.698571400000006, 70.69428570000001, 64.5914286, 67.0157143, 53.9128571, 35.2757143, 59.75, 39.8033333, 58.5785714, 55.52, 67.0014286, 77.0514286, 69.0814286, 52.7485714, 49.7742857, 58.53, 56.58428570000001, 57.6328571, 67.92, 64.2871429, 70.4228571, 48.2771429, 57.5828571, 73.31, 51.1328571, 65.2914286, 59.68, 51.64, 65.1, 48.9057143, 66.5071429, 65.6257143, 62.0785714, 70.5128571, 63.2571429, 60.231428599999994, 62.105714299999995, 46.818571399999996, 58.605714299999995, 62.47428570000001, 56.1785714, 68.66571429999999, 54.838571400000006, 58.981428599999994, 60.0, 59.4985714, 53.51571429999999, 73.5371429, 77.43285709999999, 81.4842857, 77.6071429, 78.8314286, 54.94571429999999, 43.4857143, 48.7471429, 67.5614286, 58.918571400000005, 80.79571429999999, 22.4285714, 57.9471429, 68.2514286, 61.075714299999994, 55.13, 48.0328571, 68.3614286, 51.7957143, 59.8514286, 61.72428570000001, 53.5571429, 61.4971429, 50.7628571, 46.092857099999996, 65.78428570000001, 44.3028571, 69.03, 46.68, 71.958, 62.78, 60.871428599999994, 48.4671429, 64.4714286, 61.93, 47.2957143, 66.78428570000001, 73.2, 52.7366667, 78.1825, 58.6671429, 73.0571429, 40.548, 66.31428570000001, 55.715714299999995, 33.2942857, 40.8685714, 62.401428599999996, 52.5416667, 57.6085714, 67.6214286, 65.1457143, 72.5114286, 53.89, 63.41571429999999, 36.7657143, 48.0142857, 61.064285700000006, 52.4042857, 54.4328571, 53.244285700000006, 43.5071429, 53.91571429999999, 42.0285714, 63.8471429, 56.45428570000001, 53.465714299999995, 56.3871429, 59.4428571, 57.6014286, 65.7, 44.4442857, 76.0614286, 63.342857099999996, 61.1271429, 55.3985714, 72.18285709999999, 64.8671429, 64.71571429999999, 64.7771429, 57.25428570000001, 61.97428570000001, 59.61, 60.0085714, 48.214285700000005, 60.30571429999999, 58.0871429, 55.638571400000004, 52.6228571, 51.8114286, 55.4271429, 54.564285700000006, 71.70428570000001, 42.4128571, 66.3328571, 67.5314286, 50.79, 56.36428570000001, 64.88, 39.59, 59.0128571, 46.2, 55.738571400000005, 41.67, 68.4371429, 67.6771429, 69.2442857, 64.56857140000001, 66.94428570000001, 59.0128571, 63.22, 48.578, 71.1714286, 67.31, 59.70571429999999, 67.4685714, 56.6666667, 62.4971429, 63.2328571, 63.261428599999995, 66.2442857, 68.2771429, 62.3271429, 69.8828571, 64.8314286, 63.1128571, 70.02428570000001, 66.67428570000001, 69.8628571, 54.6128571, 59.9428571, 43.7257143, 62.33571429999999, 68.28428570000001, 72.1571429, 64.53, 63.7628571, 53.9128571, 52.7428571, 67.2771429, 48.0225, 53.4671429, 51.4814286, 59.574285700000004, 41.8114286, 39.31, 64.5514286, 65.0828571, 56.11571429999999, 52.7028571, 61.1185714, 57.52428570000001, 55.07, 60.82, 78.15, 60.035714299999995, 67.9471429, 68.0985714, 30.1866667, 53.2528571, 57.11, 55.05428570000001, 59.378571400000006, 54.7375, 63.0528571, 64.9857143, 48.8085714, 66.6757143, 65.1242857, 79.00857140000001, 58.98571429999999, 66.9028571, 67.9671429, 76.18285709999999, 66.8328571, 62.12571429999999, 58.3371429, 53.791428599999996, 62.4985714, 50.0985714, 60.744285700000006, 66.9857143, 62.0528571, 54.97571429999999, 67.18, 65.55, 61.4614286, 60.7171429, 55.878571400000006, 64.3071429, 62.005714299999994, 40.7828571, 64.71, 58.0628571, 65.6242857, 48.35, 70.4471429, 53.331428599999995, 55.38, 53.871428599999994, 52.9328571, 60.8528571, 53.58, 52.9871429, 50.6314286, 56.32, 69.4728571, 66.37, 63.77428570000001, 61.41, 56.511428599999995, 52.965714299999995, 57.52571429999999, 88.46, 58.15857140000001, 47.1428571, 51.1885714, 66.1842857, 59.464285700000005, 60.3914286, 55.47571429999999, 55.425714299999996, 58.14, 38.3971429, 57.30571429999999, 60.9228571, 66.02571429999999, 53.7428571, 52.48428570000001, 59.52428570000001, 62.0628571, 60.0785714, 54.34142859999999, 69.02428570000001, 46.8757143, 76.6585714, 60.8028571, 54.88, 54.3171429, 57.7514286, 54.8528571, 67.1542857, 60.691428599999995, 58.157142900000004, 65.64857140000001, 57.221428599999996, 57.55571429999999, 48.98, 62.244285700000006], \"coloraxis\": \"coloraxis\", \"symbol\": \"circle\"}, \"mode\": \"markers\", \"name\": \"\", \"showlegend\": false, \"type\": \"scatter\", \"x\": [10220.45, 12879.77, 14310.13, 12054.01, 10231.59, 11220.4, 10873.57, 10100.52, 11586.52, 9860.61, 9453.0, 10561.74, 10729.11, 22535.75, 11439.1, 10675.68, 17136.7, 20689.53, 9897.38, 9594.4, 9336.48, 10148.28, 13005.07, 10495.67, 9966.78, 10794.37, 11099.24, 12234.74, 10070.84, 15163.58, 10137.09, 8599.56, 10843.71, 9619.29, 10267.48, 9712.0, 11164.63, 12033.27, 18560.72, 8844.63, 18446.68, 9598.53, 10236.18, 9304.44, 9802.52, 8878.47, 10540.43, 11079.35, 12814.54, 10920.47, 11740.82, 10836.53, 10955.17, 9009.25, 11848.88, 9771.54, 11331.94, 10015.38, 10144.18, 11309.12, 10230.53, 10871.69, 9826.95, 8702.65, 10793.24, 9080.92, 10105.74, 10255.07, 11387.26, 10748.92, 11010.93, 11020.18, 10194.36, 8891.58, 9167.42, 10552.71, 8925.61, 16466.1, 11833.14, 12226.93, 11013.47, 11676.34, 10559.02, 11271.41, 11552.9, 10540.69, 10710.99, 10907.2, 10218.84, 12680.34, 11241.75, 9949.75, 9908.56, 11568.65, 10729.67, 10857.41, 11624.67, 9883.3, 9639.6, 9134.69, 12097.0, 13134.86, 11298.4, 12532.05, 14055.73, 9604.18, 10468.01, 10034.55, 9844.06, 16328.87, 11374.58, 12443.26, 18176.63, 11012.37, 11154.25, 12120.28, 9152.57, 15282.84, 10021.25, 10341.86, 10292.49, 10783.75, 11860.39, 10380.18, 9319.8, 15023.09, 12055.83, 11603.05, 18464.32, 11828.78, 9433.36, 10427.96, 9242.61, 11381.96, 9937.83, 15906.57, 10146.87, 8674.1, 8902.66, 9566.9, 10014.85, 10534.81, 11446.97, 11268.93, 13410.23, 14092.35, 13773.1, 11049.21, 10415.62, 10378.53, 13580.69, 8340.96, 8809.72, 8956.89, 8986.61, 10758.41, 8587.21, 8673.99, 11351.86, 11818.01, 9868.7, 10044.86, 9326.18, 9066.16, 14117.12, 10134.44, 11250.21, 11333.09, 10194.01, 9938.79, 11305.4, 9252.92, 11605.76, 10571.61, 11416.04, 11489.41, 10692.74, 10896.66, 11726.21, 12217.24, 12044.94, 13866.64, 10706.97, 11867.2, 11782.8, 10531.91, 14229.18, 10253.41, 12093.37, 11142.27, 12592.69, 14184.38, 9128.65, 11740.49, 11055.73, 11508.09, 18480.66, 13564.28, 13220.92, 9345.04, 9510.36, 9882.96, 9202.51, 9428.39, 10429.4, 9963.28, 10363.13, 9127.0, 9694.47, 9969.7, 9521.12, 10401.34, 10100.82, 9701.59, 8997.29, 10271.13, 9483.72, 10542.4, 8967.9, 10230.07, 14408.78, 8850.93, 11788.36, 10595.15, 9964.09, 12361.2, 13247.08, 11361.95, 9432.46, 9010.96, 10466.71, 8493.34, 10965.45, 10329.09, 10367.51, 12127.08, 10867.16, 11167.43, 12056.93, 10730.69, 10254.29, 11532.24, 10506.37, 14699.55, 9909.82, 9678.87, 13007.59, 9440.61, 10224.69, 10316.07, 10334.81, 12230.26, 10025.98, 8641.43, 9660.22, 10043.27, 10697.03, 11538.39, 9433.06, 9053.83, 11623.14, 10723.6, 9376.79, 13586.96, 11656.03, 10618.54, 12608.83, 12656.1, 9908.05, 12155.41, 9471.55, 10467.4, 10288.42, 9526.78, 10730.64, 10882.52, 15200.33, 11331.44, 9633.18, 12227.6, 11382.28, 10117.2, 11855.37, 13179.88, 9515.85, 10323.33, 11635.37, 13825.01, 10617.49, 12299.5, 10638.47, 9649.15, 10865.47, 16064.94, 11654.17, 11899.86, 10468.25, 10855.28, 15695.15, 9815.99, 10503.24, 11318.4, 10303.9, 9305.91, 11353.61, 10017.61, 10321.0, 11290.6, 11554.75, 13349.47, 14166.85, 10081.71, 10865.05, 10506.12, 12110.21, 12602.58, 9031.51, 11702.39, 10088.82, 10824.47, 13782.77, 8557.61, 11969.22, 11830.99, 9994.47, 9786.27, 11997.04, 6597.87, 9830.55], \"xaxis\": \"x\", \"y\": [57.638571400000004, 46.48, 46.2828571, 49.2585714, 45.0614286, 65.0485714, 68.8528571, 35.0957143, 44.181428600000004, 60.72571429999999, 56.4728571, 61.02571429999999, 61.6714286, 28.635, 55.55571429999999, 48.21, 44.6985714, 24.03, 57.268571400000006, 69.26, 60.0714286, 64.1842857, 59.6433333, 58.3171429, 68.5971429, 57.73571429999999, 70.3485714, 56.575714299999994, 67.3271429, 55.3514286, 54.161428599999994, 80.6128571, 54.7228571, 63.698571400000006, 70.69428570000001, 64.5914286, 67.0157143, 53.9128571, 35.2757143, 59.75, 39.8033333, 58.5785714, 55.52, 67.0014286, 77.0514286, 69.0814286, 52.7485714, 49.7742857, 58.53, 56.58428570000001, 57.6328571, 67.92, 64.2871429, 70.4228571, 48.2771429, 57.5828571, 73.31, 51.1328571, 65.2914286, 59.68, 51.64, 65.1, 48.9057143, 66.5071429, 65.6257143, 62.0785714, 70.5128571, 63.2571429, 60.231428599999994, 62.105714299999995, 46.818571399999996, 58.605714299999995, 62.47428570000001, 56.1785714, 68.66571429999999, 54.838571400000006, 58.981428599999994, 60.0, 59.4985714, 53.51571429999999, 73.5371429, 77.43285709999999, 81.4842857, 77.6071429, 78.8314286, 54.94571429999999, 43.4857143, 48.7471429, 67.5614286, 58.918571400000005, 80.79571429999999, 22.4285714, 57.9471429, 68.2514286, 61.075714299999994, 55.13, 48.0328571, 68.3614286, 51.7957143, 59.8514286, 61.72428570000001, 53.5571429, 61.4971429, 50.7628571, 46.092857099999996, 65.78428570000001, 44.3028571, 69.03, 46.68, 71.958, 62.78, 60.871428599999994, 48.4671429, 64.4714286, 61.93, 47.2957143, 66.78428570000001, 73.2, 52.7366667, 78.1825, 58.6671429, 73.0571429, 40.548, 66.31428570000001, 55.715714299999995, 33.2942857, 40.8685714, 62.401428599999996, 52.5416667, 57.6085714, 67.6214286, 65.1457143, 72.5114286, 53.89, 63.41571429999999, 36.7657143, 48.0142857, 61.064285700000006, 52.4042857, 54.4328571, 53.244285700000006, 43.5071429, 53.91571429999999, 42.0285714, 63.8471429, 56.45428570000001, 53.465714299999995, 56.3871429, 59.4428571, 57.6014286, 65.7, 44.4442857, 76.0614286, 63.342857099999996, 61.1271429, 55.3985714, 72.18285709999999, 64.8671429, 64.71571429999999, 64.7771429, 57.25428570000001, 61.97428570000001, 59.61, 60.0085714, 48.214285700000005, 60.30571429999999, 58.0871429, 55.638571400000004, 52.6228571, 51.8114286, 55.4271429, 54.564285700000006, 71.70428570000001, 42.4128571, 66.3328571, 67.5314286, 50.79, 56.36428570000001, 64.88, 39.59, 59.0128571, 46.2, 55.738571400000005, 41.67, 68.4371429, 67.6771429, 69.2442857, 64.56857140000001, 66.94428570000001, 59.0128571, 63.22, 48.578, 71.1714286, 67.31, 59.70571429999999, 67.4685714, 56.6666667, 62.4971429, 63.2328571, 63.261428599999995, 66.2442857, 68.2771429, 62.3271429, 69.8828571, 64.8314286, 63.1128571, 70.02428570000001, 66.67428570000001, 69.8628571, 54.6128571, 59.9428571, 43.7257143, 62.33571429999999, 68.28428570000001, 72.1571429, 64.53, 63.7628571, 53.9128571, 52.7428571, 67.2771429, 48.0225, 53.4671429, 51.4814286, 59.574285700000004, 41.8114286, 39.31, 64.5514286, 65.0828571, 56.11571429999999, 52.7028571, 61.1185714, 57.52428570000001, 55.07, 60.82, 78.15, 60.035714299999995, 67.9471429, 68.0985714, 30.1866667, 53.2528571, 57.11, 55.05428570000001, 59.378571400000006, 54.7375, 63.0528571, 64.9857143, 48.8085714, 66.6757143, 65.1242857, 79.00857140000001, 58.98571429999999, 66.9028571, 67.9671429, 76.18285709999999, 66.8328571, 62.12571429999999, 58.3371429, 53.791428599999996, 62.4985714, 50.0985714, 60.744285700000006, 66.9857143, 62.0528571, 54.97571429999999, 67.18, 65.55, 61.4614286, 60.7171429, 55.878571400000006, 64.3071429, 62.005714299999994, 40.7828571, 64.71, 58.0628571, 65.6242857, 48.35, 70.4471429, 53.331428599999995, 55.38, 53.871428599999994, 52.9328571, 60.8528571, 53.58, 52.9871429, 50.6314286, 56.32, 69.4728571, 66.37, 63.77428570000001, 61.41, 56.511428599999995, 52.965714299999995, 57.52571429999999, 88.46, 58.15857140000001, 47.1428571, 51.1885714, 66.1842857, 59.464285700000005, 60.3914286, 55.47571429999999, 55.425714299999996, 58.14, 38.3971429, 57.30571429999999, 60.9228571, 66.02571429999999, 53.7428571, 52.48428570000001, 59.52428570000001, 62.0628571, 60.0785714, 54.34142859999999, 69.02428570000001, 46.8757143, 76.6585714, 60.8028571, 54.88, 54.3171429, 57.7514286, 54.8528571, 67.1542857, 60.691428599999995, 58.157142900000004, 65.64857140000001, 57.221428599999996, 57.55571429999999, 48.98, 62.244285700000006], \"yaxis\": \"y\"}, {\"hovertemplate\": \"<b>OLS trendline</b><br>Reading Proficiency = -0.00139148 * Per Pupil Expenditures + 74.4411<br>R<sup>2</sup>=0.082448<br><br>Per Pupil Expenditures=%{x}<br>Reading Proficiency=%{y} <b>(trend)</b><extra></extra>\", \"legendgroup\": \"\", \"marker\": {\"symbol\": \"circle\"}, \"mode\": \"lines\", \"name\": \"\", \"showlegend\": false, \"type\": \"scatter\", \"x\": [6597.87, 8340.96, 8493.34, 8557.61, 8587.21, 8599.56, 8641.43, 8673.99, 8674.1, 8702.65, 8809.72, 8844.63, 8850.93, 8878.47, 8891.58, 8902.66, 8925.61, 8956.89, 8967.9, 8986.61, 8997.29, 9009.25, 9010.96, 9031.51, 9053.83, 9066.16, 9080.92, 9127.0, 9128.65, 9134.69, 9152.57, 9167.42, 9202.51, 9242.61, 9252.92, 9304.44, 9305.91, 9319.8, 9326.18, 9336.48, 9345.04, 9376.79, 9428.39, 9432.46, 9433.06, 9433.36, 9440.61, 9453.0, 9471.55, 9483.72, 9510.36, 9515.85, 9521.12, 9526.78, 9566.9, 9594.4, 9598.53, 9604.18, 9619.29, 9633.18, 9639.6, 9649.15, 9660.22, 9678.87, 9694.47, 9701.59, 9712.0, 9771.54, 9786.27, 9802.52, 9815.99, 9826.95, 9830.55, 9844.06, 9860.61, 9868.7, 9882.96, 9883.3, 9897.38, 9908.05, 9908.56, 9909.82, 9937.83, 9938.79, 9949.75, 9963.28, 9964.09, 9966.78, 9969.7, 9994.47, 10014.85, 10015.38, 10017.61, 10021.25, 10025.98, 10034.55, 10043.27, 10044.86, 10070.84, 10081.71, 10088.82, 10100.52, 10100.82, 10105.74, 10117.2, 10134.44, 10137.09, 10144.18, 10146.87, 10148.28, 10194.01, 10194.36, 10218.84, 10220.45, 10224.69, 10230.07, 10230.53, 10231.59, 10236.18, 10253.41, 10254.29, 10255.07, 10267.48, 10271.13, 10288.42, 10292.49, 10303.9, 10316.07, 10321.0, 10323.33, 10329.09, 10334.81, 10341.86, 10363.13, 10367.51, 10378.53, 10380.18, 10401.34, 10415.62, 10427.96, 10429.4, 10466.71, 10467.4, 10468.01, 10468.25, 10495.67, 10503.24, 10506.12, 10506.37, 10531.91, 10534.81, 10540.43, 10540.69, 10542.4, 10552.71, 10559.02, 10561.74, 10571.61, 10595.15, 10617.49, 10618.54, 10638.47, 10675.68, 10692.74, 10697.03, 10706.97, 10710.99, 10723.6, 10729.11, 10729.67, 10730.64, 10730.69, 10748.92, 10758.41, 10783.75, 10793.24, 10794.37, 10824.47, 10836.53, 10843.71, 10855.28, 10857.41, 10865.05, 10865.47, 10867.16, 10871.69, 10873.57, 10882.52, 10896.66, 10907.2, 10920.47, 10955.17, 10965.45, 11010.93, 11012.37, 11013.47, 11020.18, 11049.21, 11055.73, 11079.35, 11099.24, 11142.27, 11154.25, 11164.63, 11167.43, 11220.4, 11241.75, 11250.21, 11268.93, 11271.41, 11290.6, 11298.4, 11305.4, 11309.12, 11318.4, 11331.44, 11331.94, 11333.09, 11351.86, 11353.61, 11361.95, 11374.58, 11381.96, 11382.28, 11387.26, 11416.04, 11439.1, 11446.97, 11489.41, 11508.09, 11532.24, 11538.39, 11552.9, 11554.75, 11568.65, 11586.52, 11603.05, 11605.76, 11623.14, 11624.67, 11635.37, 11654.17, 11656.03, 11676.34, 11702.39, 11726.21, 11740.49, 11740.82, 11782.8, 11788.36, 11818.01, 11828.78, 11830.99, 11833.14, 11848.88, 11855.37, 11860.39, 11867.2, 11899.86, 11969.22, 11997.04, 12033.27, 12044.94, 12054.01, 12055.83, 12056.93, 12093.37, 12097.0, 12110.21, 12120.28, 12127.08, 12155.41, 12217.24, 12226.93, 12227.6, 12230.26, 12234.74, 12299.5, 12361.2, 12443.26, 12532.05, 12592.69, 12602.58, 12608.83, 12656.1, 12680.34, 12814.54, 12879.77, 13005.07, 13007.59, 13134.86, 13179.88, 13220.92, 13247.08, 13349.47, 13410.23, 13564.28, 13580.69, 13586.96, 13773.1, 13782.77, 13825.01, 13866.64, 14055.73, 14092.35, 14117.12, 14166.85, 14184.38, 14229.18, 14310.13, 14408.78, 14699.55, 15023.09, 15163.58, 15200.33, 15282.84, 15695.15, 15906.57, 16064.94, 16328.87, 16466.1, 17136.7, 18176.63, 18446.68, 18464.32, 18480.66, 18560.72, 20689.53, 22535.75], \"xaxis\": \"x\", \"y\": [65.2603112342878, 62.8348339537004, 62.62280002084787, 62.533369512484356, 62.4921816636037, 62.47499686854708, 62.41673554312028, 62.37142890935156, 62.371275846399634, 62.33154905296914, 62.1825631414944, 62.133986526480086, 62.12522019377913, 62.08689879654355, 62.06865647563728, 62.05323886193466, 62.02130436423833, 61.977778826637426, 61.96245861663148, 61.936423999991035, 61.921562978840846, 61.904920861522854, 61.90254142836117, 61.873946485979495, 61.84288862155327, 61.82573165612426, 61.80519339093918, 61.74107392889793, 61.73877798461912, 61.73037343707725, 61.70549374998313, 61.68483025147374, 61.63600316981082, 61.58020476642858, 61.56585859338941, 61.494169472634965, 61.49212399500474, 61.472796318621214, 61.46391866740977, 61.44958640918441, 61.437675328562165, 61.39349579471214, 61.321695355447204, 61.31603202622612, 61.315197137397455, 61.31477969298312, 61.30469145297012, 61.28745099865825, 61.26163901903878, 61.244704690630755, 61.207635626638165, 61.199996393855905, 61.19266328697749, 61.18478750236045, 61.12896126935058, 61.090695531370244, 61.084948713266286, 61.07708684346305, 61.05606155979458, 61.03673388341105, 61.02780057294437, 61.01451192575483, 60.99910822686602, 60.97315709910844, 60.95144998956323, 60.941542642129775, 60.92705732095249, 60.8442085195216, 60.823711998777945, 60.80110042633502, 60.782357172131555, 60.76710653619466, 60.762097203222694, 60.743298289763985, 60.72026927290672, 60.7090121885336, 60.68916966403907, 60.68869656036949, 60.66910450252355, 60.654257396187184, 60.653547740682825, 60.65179447414263, 60.61281908065793, 60.61148325853206, 60.596232622595174, 60.577405879508845, 60.576278779590154, 60.57253569467498, 60.56847256904216, 60.534005575232236, 60.505647184685344, 60.504909699553366, 60.5018066960735, 60.49674170384628, 60.49015999691367, 60.478235001477614, 60.46610128383439, 60.463888828438435, 60.427738142157374, 60.412612739544784, 60.402719306925135, 60.38643897476622, 60.3860215303519, 60.37917544195687, 60.36322906532942, 60.3392399263192, 60.335552500659276, 60.325686897667254, 60.32194381275208, 60.31998182400473, 60.25634938044688, 60.25586236196349, 60.22179889775408, 60.2195586127305, 60.21365873167463, 60.20617256184429, 60.205532480408976, 60.20405751014501, 60.19767061060575, 60.173695386409335, 60.17247088279397, 60.17138552731671, 60.154117243377215, 60.14903833633619, 60.12497962325691, 60.11931629403582, 60.10343949147743, 60.086505163069404, 60.07964515986056, 60.07640300824259, 60.068388075487434, 60.06042880198753, 60.05061885825074, 60.02102204927468, 60.014927360825446, 59.99959323600569, 59.997297291726866, 59.967853545702724, 59.94798319158056, 59.93081231133775, 59.92880857814896, 59.87689240782, 59.875932285667034, 59.875083482024564, 59.8747495264931, 59.83659510702324, 59.826061592968294, 59.822054126590714, 59.821706256245434, 59.78616782177206, 59.78213252576686, 59.77431240040506, 59.77395061524597, 59.77157118208429, 59.757225009045115, 59.74844476153035, 59.74465993217375, 59.730926010942255, 59.698170539231086, 59.667084845177236, 59.66562378972708, 59.637891565801695, 59.58611454361083, 59.562375871249216, 59.556406416124275, 59.54257509119611, 59.53698133604408, 59.519434755828364, 59.511767693418484, 59.51098846384507, 59.50963872690539, 59.50956915283634, 59.484202447258824, 59.470997288952155, 59.435737150755, 59.42253199244833, 59.42095961848768, 59.37907602891647, 59.36229476346036, 59.35230392714404, 59.33620448756468, 59.333240632222925, 59.3226097144713, 59.32202529229124, 59.31967368875717, 59.31337027810077, 59.310754293104296, 59.29830053474342, 59.27862498801462, 59.263958774257794, 59.24549381633055, 59.197209412406266, 59.18290498380853, 59.11962041059594, 59.117616677407156, 59.11608604788795, 59.10674920782074, 59.06635450332731, 59.05728204472251, 59.02441525450085, 58.99673868983071, 58.936863246001835, 58.920193299056216, 58.905749722320365, 58.90185357445327, 58.828146805696235, 58.79843867820968, 58.78666674572554, 58.76061821427129, 58.75716734044615, 58.73046481274278, 58.71961125797017, 58.70987088830245, 58.704694577564744, 58.6917816303481, 58.67363671313852, 58.67294097244796, 58.67134076885969, 58.645222663336384, 58.64278757091945, 58.63118261620105, 58.61360820635772, 58.60333907376518, 58.60289379972322, 58.59596422244533, 58.555917388297175, 58.52382982764893, 58.51287886917965, 58.45382439936562, 58.42783152716662, 58.39422725181297, 58.38566964131918, 58.365479246479374, 58.36290500592433, 58.343563414727, 58.31869764244668, 58.29569645521704, 58.29192554067426, 58.267741594270674, 58.26561262775759, 58.25072377697978, 58.22456392701504, 58.221975771646186, 58.19371478479598, 58.15746669481824, 58.12432160832036, 58.1044512541982, 58.10399206534244, 58.04557767696372, 58.037841040484786, 57.996583617535066, 57.98159736306059, 57.97852218920835, 57.975530504238975, 57.953628587300415, 57.94459787313705, 57.937612636603916, 57.9281366483986, 57.882690866491764, 57.78617771789844, 57.74746670587614, 57.69705333543877, 57.68081474772129, 57.668194011594686, 57.66566151548108, 57.66413088596187, 57.61342530443446, 57.60837422702106, 57.58999275797668, 57.57598054046897, 57.566518467077465, 57.52709779955081, 57.44106250575719, 57.4275790511743, 57.42664675864896, 57.422945418175225, 57.41671158158788, 57.32659924734763, 57.24074484613355, 57.126559884000216, 57.003010252172054, 56.918630821221946, 56.904869070362835, 56.896172311730936, 56.83039698684618, 56.79666747816824, 56.60993067682417, 56.519164346334804, 56.344811729282554, 56.34130519620217, 56.16421136082916, 56.10156686905188, 56.0444604731714, 56.00805932024174, 55.865585541630566, 55.78103913291473, 55.56668142615577, 55.54384721669186, 55.53512262843234, 55.27611228415377, 55.2626566591985, 55.20388048566069, 55.145953115765366, 54.88283790141253, 54.831881853236524, 54.797414859426596, 54.72821649034433, 54.70382382173359, 54.64148545586016, 54.52884503805985, 54.391575399814, 53.98697435863059, 53.53677447258842, 53.34128525335721, 53.290148312601666, 53.17533718384683, 52.60161549560412, 52.30742850201125, 52.087059595685915, 51.719805914771314, 51.52885292484251, 50.59572551067461, 49.14868227802383, 48.77291273105688, 48.748366999494216, 48.725630193726985, 48.61422819435585, 45.652028715449276, 43.08304796002869], \"yaxis\": \"y\"}],\n",
       "                        {\"coloraxis\": {\"colorbar\": {\"title\": {\"text\": \"Reading Proficiency\"}}, \"colorscale\": [[0.0, \"#0d0887\"], [0.1111111111111111, \"#46039f\"], [0.2222222222222222, \"#7201a8\"], [0.3333333333333333, \"#9c179e\"], [0.4444444444444444, \"#bd3786\"], [0.5555555555555556, \"#d8576b\"], [0.6666666666666666, \"#ed7953\"], [0.7777777777777778, \"#fb9f3a\"], [0.8888888888888888, \"#fdca26\"], [1.0, \"#f0f921\"]]}, \"legend\": {\"tracegroupgap\": 0}, \"template\": {\"data\": {\"bar\": [{\"error_x\": {\"color\": \"#2a3f5f\"}, \"error_y\": {\"color\": \"#2a3f5f\"}, \"marker\": {\"line\": {\"color\": \"#E5ECF6\", \"width\": 0.5}}, \"type\": \"bar\"}], \"barpolar\": [{\"marker\": {\"line\": {\"color\": \"#E5ECF6\", \"width\": 0.5}}, \"type\": \"barpolar\"}], \"carpet\": [{\"aaxis\": {\"endlinecolor\": \"#2a3f5f\", \"gridcolor\": \"white\", \"linecolor\": \"white\", \"minorgridcolor\": \"white\", \"startlinecolor\": \"#2a3f5f\"}, \"baxis\": {\"endlinecolor\": \"#2a3f5f\", \"gridcolor\": \"white\", \"linecolor\": \"white\", \"minorgridcolor\": \"white\", \"startlinecolor\": \"#2a3f5f\"}, \"type\": \"carpet\"}], \"choropleth\": [{\"colorbar\": {\"outlinewidth\": 0, \"ticks\": \"\"}, \"type\": \"choropleth\"}], \"contour\": [{\"colorbar\": {\"outlinewidth\": 0, \"ticks\": \"\"}, \"colorscale\": [[0.0, \"#0d0887\"], [0.1111111111111111, \"#46039f\"], [0.2222222222222222, \"#7201a8\"], [0.3333333333333333, \"#9c179e\"], [0.4444444444444444, \"#bd3786\"], [0.5555555555555556, \"#d8576b\"], [0.6666666666666666, \"#ed7953\"], [0.7777777777777778, \"#fb9f3a\"], [0.8888888888888888, \"#fdca26\"], [1.0, \"#f0f921\"]], \"type\": \"contour\"}], \"contourcarpet\": [{\"colorbar\": {\"outlinewidth\": 0, \"ticks\": \"\"}, \"type\": \"contourcarpet\"}], \"heatmap\": [{\"colorbar\": {\"outlinewidth\": 0, \"ticks\": \"\"}, \"colorscale\": [[0.0, \"#0d0887\"], [0.1111111111111111, \"#46039f\"], [0.2222222222222222, \"#7201a8\"], [0.3333333333333333, \"#9c179e\"], [0.4444444444444444, \"#bd3786\"], [0.5555555555555556, \"#d8576b\"], [0.6666666666666666, \"#ed7953\"], [0.7777777777777778, \"#fb9f3a\"], [0.8888888888888888, \"#fdca26\"], [1.0, \"#f0f921\"]], \"type\": \"heatmap\"}], \"heatmapgl\": [{\"colorbar\": {\"outlinewidth\": 0, \"ticks\": \"\"}, \"colorscale\": [[0.0, \"#0d0887\"], [0.1111111111111111, \"#46039f\"], [0.2222222222222222, \"#7201a8\"], [0.3333333333333333, \"#9c179e\"], [0.4444444444444444, \"#bd3786\"], [0.5555555555555556, \"#d8576b\"], [0.6666666666666666, \"#ed7953\"], [0.7777777777777778, \"#fb9f3a\"], [0.8888888888888888, \"#fdca26\"], [1.0, \"#f0f921\"]], \"type\": \"heatmapgl\"}], \"histogram\": [{\"marker\": {\"colorbar\": {\"outlinewidth\": 0, \"ticks\": \"\"}}, \"type\": \"histogram\"}], \"histogram2d\": [{\"colorbar\": {\"outlinewidth\": 0, \"ticks\": \"\"}, \"colorscale\": [[0.0, \"#0d0887\"], [0.1111111111111111, \"#46039f\"], [0.2222222222222222, \"#7201a8\"], [0.3333333333333333, \"#9c179e\"], [0.4444444444444444, \"#bd3786\"], [0.5555555555555556, \"#d8576b\"], [0.6666666666666666, \"#ed7953\"], [0.7777777777777778, \"#fb9f3a\"], [0.8888888888888888, \"#fdca26\"], [1.0, \"#f0f921\"]], \"type\": \"histogram2d\"}], \"histogram2dcontour\": [{\"colorbar\": {\"outlinewidth\": 0, \"ticks\": \"\"}, \"colorscale\": [[0.0, \"#0d0887\"], [0.1111111111111111, \"#46039f\"], [0.2222222222222222, \"#7201a8\"], [0.3333333333333333, \"#9c179e\"], [0.4444444444444444, \"#bd3786\"], [0.5555555555555556, \"#d8576b\"], [0.6666666666666666, \"#ed7953\"], [0.7777777777777778, \"#fb9f3a\"], [0.8888888888888888, \"#fdca26\"], [1.0, \"#f0f921\"]], \"type\": \"histogram2dcontour\"}], \"mesh3d\": [{\"colorbar\": {\"outlinewidth\": 0, \"ticks\": \"\"}, \"type\": \"mesh3d\"}], \"parcoords\": [{\"line\": {\"colorbar\": {\"outlinewidth\": 0, \"ticks\": \"\"}}, \"type\": \"parcoords\"}], \"pie\": [{\"automargin\": true, \"type\": \"pie\"}], \"scatter\": [{\"marker\": {\"colorbar\": {\"outlinewidth\": 0, \"ticks\": \"\"}}, \"type\": \"scatter\"}], \"scatter3d\": [{\"line\": {\"colorbar\": {\"outlinewidth\": 0, \"ticks\": \"\"}}, \"marker\": {\"colorbar\": {\"outlinewidth\": 0, \"ticks\": \"\"}}, \"type\": \"scatter3d\"}], \"scattercarpet\": [{\"marker\": {\"colorbar\": {\"outlinewidth\": 0, \"ticks\": \"\"}}, \"type\": \"scattercarpet\"}], \"scattergeo\": [{\"marker\": {\"colorbar\": {\"outlinewidth\": 0, \"ticks\": \"\"}}, \"type\": \"scattergeo\"}], \"scattergl\": [{\"marker\": {\"colorbar\": {\"outlinewidth\": 0, \"ticks\": \"\"}}, \"type\": \"scattergl\"}], \"scattermapbox\": [{\"marker\": {\"colorbar\": {\"outlinewidth\": 0, \"ticks\": \"\"}}, \"type\": \"scattermapbox\"}], \"scatterpolar\": [{\"marker\": {\"colorbar\": {\"outlinewidth\": 0, \"ticks\": \"\"}}, \"type\": \"scatterpolar\"}], \"scatterpolargl\": [{\"marker\": {\"colorbar\": {\"outlinewidth\": 0, \"ticks\": \"\"}}, \"type\": \"scatterpolargl\"}], \"scatterternary\": [{\"marker\": {\"colorbar\": {\"outlinewidth\": 0, \"ticks\": \"\"}}, \"type\": \"scatterternary\"}], \"surface\": [{\"colorbar\": {\"outlinewidth\": 0, \"ticks\": \"\"}, \"colorscale\": [[0.0, \"#0d0887\"], [0.1111111111111111, \"#46039f\"], [0.2222222222222222, \"#7201a8\"], [0.3333333333333333, \"#9c179e\"], [0.4444444444444444, \"#bd3786\"], [0.5555555555555556, \"#d8576b\"], [0.6666666666666666, \"#ed7953\"], [0.7777777777777778, \"#fb9f3a\"], [0.8888888888888888, \"#fdca26\"], [1.0, \"#f0f921\"]], \"type\": \"surface\"}], \"table\": [{\"cells\": {\"fill\": {\"color\": \"#EBF0F8\"}, \"line\": {\"color\": \"white\"}}, \"header\": {\"fill\": {\"color\": \"#C8D4E3\"}, \"line\": {\"color\": \"white\"}}, \"type\": \"table\"}]}, \"layout\": {\"annotationdefaults\": {\"arrowcolor\": \"#2a3f5f\", \"arrowhead\": 0, \"arrowwidth\": 1}, \"coloraxis\": {\"colorbar\": {\"outlinewidth\": 0, \"ticks\": \"\"}}, \"colorscale\": {\"diverging\": [[0, \"#8e0152\"], [0.1, \"#c51b7d\"], [0.2, \"#de77ae\"], [0.3, \"#f1b6da\"], [0.4, \"#fde0ef\"], [0.5, \"#f7f7f7\"], [0.6, \"#e6f5d0\"], [0.7, \"#b8e186\"], [0.8, \"#7fbc41\"], [0.9, \"#4d9221\"], [1, \"#276419\"]], \"sequential\": [[0.0, \"#0d0887\"], [0.1111111111111111, \"#46039f\"], [0.2222222222222222, \"#7201a8\"], [0.3333333333333333, \"#9c179e\"], [0.4444444444444444, \"#bd3786\"], [0.5555555555555556, \"#d8576b\"], [0.6666666666666666, \"#ed7953\"], [0.7777777777777778, \"#fb9f3a\"], [0.8888888888888888, \"#fdca26\"], [1.0, \"#f0f921\"]], \"sequentialminus\": [[0.0, \"#0d0887\"], [0.1111111111111111, \"#46039f\"], [0.2222222222222222, \"#7201a8\"], [0.3333333333333333, \"#9c179e\"], [0.4444444444444444, \"#bd3786\"], [0.5555555555555556, \"#d8576b\"], [0.6666666666666666, \"#ed7953\"], [0.7777777777777778, \"#fb9f3a\"], [0.8888888888888888, \"#fdca26\"], [1.0, \"#f0f921\"]]}, \"colorway\": [\"#636efa\", \"#EF553B\", \"#00cc96\", \"#ab63fa\", \"#FFA15A\", \"#19d3f3\", \"#FF6692\", \"#B6E880\", \"#FF97FF\", \"#FECB52\"], \"font\": {\"color\": \"#2a3f5f\"}, \"geo\": {\"bgcolor\": \"white\", \"lakecolor\": \"white\", \"landcolor\": \"#E5ECF6\", \"showlakes\": true, \"showland\": true, \"subunitcolor\": \"white\"}, \"hoverlabel\": {\"align\": \"left\"}, \"hovermode\": \"closest\", \"mapbox\": {\"style\": \"light\"}, \"paper_bgcolor\": \"white\", \"plot_bgcolor\": \"#E5ECF6\", \"polar\": {\"angularaxis\": {\"gridcolor\": \"white\", \"linecolor\": \"white\", \"ticks\": \"\"}, \"bgcolor\": \"#E5ECF6\", \"radialaxis\": {\"gridcolor\": \"white\", \"linecolor\": \"white\", \"ticks\": \"\"}}, \"scene\": {\"xaxis\": {\"backgroundcolor\": \"#E5ECF6\", \"gridcolor\": \"white\", \"gridwidth\": 2, \"linecolor\": \"white\", \"showbackground\": true, \"ticks\": \"\", \"zerolinecolor\": \"white\"}, \"yaxis\": {\"backgroundcolor\": \"#E5ECF6\", \"gridcolor\": \"white\", \"gridwidth\": 2, \"linecolor\": \"white\", \"showbackground\": true, \"ticks\": \"\", \"zerolinecolor\": \"white\"}, \"zaxis\": {\"backgroundcolor\": \"#E5ECF6\", \"gridcolor\": \"white\", \"gridwidth\": 2, \"linecolor\": \"white\", \"showbackground\": true, \"ticks\": \"\", \"zerolinecolor\": \"white\"}}, \"shapedefaults\": {\"line\": {\"color\": \"#2a3f5f\"}}, \"ternary\": {\"aaxis\": {\"gridcolor\": \"white\", \"linecolor\": \"white\", \"ticks\": \"\"}, \"baxis\": {\"gridcolor\": \"white\", \"linecolor\": \"white\", \"ticks\": \"\"}, \"bgcolor\": \"#E5ECF6\", \"caxis\": {\"gridcolor\": \"white\", \"linecolor\": \"white\", \"ticks\": \"\"}}, \"title\": {\"x\": 0.05}, \"xaxis\": {\"automargin\": true, \"gridcolor\": \"white\", \"linecolor\": \"white\", \"ticks\": \"\", \"title\": {\"standoff\": 15}, \"zerolinecolor\": \"white\", \"zerolinewidth\": 2}, \"yaxis\": {\"automargin\": true, \"gridcolor\": \"white\", \"linecolor\": \"white\", \"ticks\": \"\", \"title\": {\"standoff\": 15}, \"zerolinecolor\": \"white\", \"zerolinewidth\": 2}}}, \"title\": {\"text\": \"Reading Proficiency (%) vs. Per Pupil Expenditures ($) by School District\"}, \"xaxis\": {\"anchor\": \"y\", \"domain\": [0.0, 1.0], \"title\": {\"text\": \"Per Pupil Expenditures\"}}, \"yaxis\": {\"anchor\": \"x\", \"domain\": [0.0, 1.0], \"title\": {\"text\": \"Reading Proficiency\"}}},\n",
       "                        {\"responsive\": true}\n",
       "                    ).then(function(){\n",
       "                            \n",
       "var gd = document.getElementById('73c77419-8cb9-4fe6-a459-f1a74da27a51');\n",
       "var x = new MutationObserver(function (mutations, observer) {{\n",
       "        var display = window.getComputedStyle(gd).display;\n",
       "        if (!display || display === 'none') {{\n",
       "            console.log([gd, 'removed!']);\n",
       "            Plotly.purge(gd);\n",
       "            observer.disconnect();\n",
       "        }}\n",
       "}});\n",
       "\n",
       "// Listen for the removal of the full notebook cells\n",
       "var notebookContainer = gd.closest('#notebook-container');\n",
       "if (notebookContainer) {{\n",
       "    x.observe(notebookContainer, {childList: true});\n",
       "}}\n",
       "\n",
       "// Listen for the clearing of the current output cell\n",
       "var outputEl = gd.closest('.output');\n",
       "if (outputEl) {{\n",
       "    x.observe(outputEl, {childList: true});\n",
       "}}\n",
       "\n",
       "                        })\n",
       "                };\n",
       "                });\n",
       "            </script>\n",
       "        </div>"
      ]
     },
     "metadata": {},
     "output_type": "display_data"
    },
    {
     "data": {
      "text/plain": [
       "<Figure size 432x288 with 0 Axes>"
      ]
     },
     "metadata": {},
     "output_type": "display_data"
    }
   ],
   "source": [
    "import plotly.express as px\n",
    "\n",
    "# Use directly Columns as argument. You can use tab completion for this!\n",
    "fig = px.scatter(mned_df, x=mned_df[\"Per Pupil Expenditures\"], y=mned_df[\"Reading Proficiency\"], color=mned_df[\"Reading Proficiency\"], hover_data=[mned_df[\"District\"]], title=\"Reading Proficiency (%) vs. Per Pupil Expenditures ($) by School District\", trendline=\"ols\")\n",
    "fig.show()\n",
    "plt.savefig(\"static/images/readProfvsPerPupilExpend.png\")"
   ]
  },
  {
   "cell_type": "code",
   "execution_count": 16,
   "metadata": {},
   "outputs": [],
   "source": [
    "with open('scatterplot.html', 'w') as f:\n",
    "    f.write(fig.to_html(include_plotlyjs='cdn'))"
   ]
  },
  {
   "cell_type": "code",
   "execution_count": 18,
   "metadata": {},
   "outputs": [
    {
     "data": {
      "application/vnd.plotly.v1+json": {
       "config": {
        "plotlyServerURL": "https://plot.ly"
       },
       "data": [
        {
         "customdata": [
          [
           "Aitkin Public School District"
          ],
          [
           "Minneapolis Public School District"
          ],
          [
           "Hill City Public School District"
          ],
          [
           "McGregor Public School District"
          ],
          [
           "South St. Paul Public School District"
          ],
          [
           "Anoka-Hennepin Public School District"
          ],
          [
           "Centennial Public School District"
          ],
          [
           "Columbia Heights Public School District"
          ],
          [
           "Fridley Public School District"
          ],
          [
           "St. Francis Public School District"
          ],
          [
           "Spring Lake Park Public Schools"
          ],
          [
           "Detroit Lakes Public School District"
          ],
          [
           "Frazee-Vergas Public School District"
          ],
          [
           "Pine Point Public School District"
          ],
          [
           "Bemidji Public School District"
          ],
          [
           "Blackduck Public School District"
          ],
          [
           "Kelliher Public School District"
          ],
          [
           "Red Lake Public School District"
          ],
          [
           "Sauk Rapids-Rice Public Schools"
          ],
          [
           "Foley Public School District"
          ],
          [
           "St. Clair Public School District"
          ],
          [
           "Mankato Public School District"
          ],
          [
           "Comfrey Public School District"
          ],
          [
           "Sleepy Eye Public School District"
          ],
          [
           "Springfield Public School District"
          ],
          [
           "New Ulm Public School District"
          ],
          [
           "Barnum Public School District"
          ],
          [
           "Carlton Public School District"
          ],
          [
           "Cloquet Public School District"
          ],
          [
           "Cromwell-Wright Public Schools"
          ],
          [
           "Moose Lake Public School District"
          ],
          [
           "Esko Public School District"
          ],
          [
           "Wrenshall Public School District"
          ],
          [
           "Central Public School District"
          ],
          [
           "Waconia Public School District"
          ],
          [
           "Watertown-Mayer Public School District"
          ],
          [
           "Eastern Carver County Public Schools"
          ],
          [
           "Walker-Hackensack-Akeley School District"
          ],
          [
           "Cass Lake-Bena Public Schools"
          ],
          [
           "Pillager Public School District"
          ],
          [
           "Northland Community Schools"
          ],
          [
           "Montevideo Public School District"
          ],
          [
           "North Branch Public Schools"
          ],
          [
           "Rush City Public School District"
          ],
          [
           "Barnesville Public School District"
          ],
          [
           "Hawley Public School District"
          ],
          [
           "Moorhead Public School District"
          ],
          [
           "Bagley Public School District"
          ],
          [
           "Cook County Public Schools"
          ],
          [
           "Mountain Lake Public Schools"
          ],
          [
           "Windom Public School District"
          ],
          [
           "Brainerd Public School District"
          ],
          [
           "Crosby-Ironton Public School District"
          ],
          [
           "Pequot Lakes Public Schools"
          ],
          [
           "Burnsville Public School District"
          ],
          [
           "Farmington Public School District"
          ],
          [
           "Lakeville Public School District"
          ],
          [
           "Randolph Public School District"
          ],
          [
           "Rosemount-Apple Valley-Eagan"
          ],
          [
           "West St. Paul-Mendota Heights-Eagan"
          ],
          [
           "Inver Grove Heights Schools"
          ],
          [
           "Hastings Public School District"
          ],
          [
           "Hayfield Public School District"
          ],
          [
           "Kasson-Mantorville School District"
          ],
          [
           "Alexandria Public School District"
          ],
          [
           "Osakis Public School District"
          ],
          [
           "Chatfield Public Schools"
          ],
          [
           "Lanesboro Public School District"
          ],
          [
           "Mabel-Canton Public School District"
          ],
          [
           "Rushford-Peterson Public Schools"
          ],
          [
           "Albert Lea Public School District"
          ],
          [
           "Alden-Conger Public School District"
          ],
          [
           "Cannon Falls Public School District"
          ],
          [
           "Goodhue Public School District"
          ],
          [
           "Pine Island Public School District"
          ],
          [
           "Red Wing Public School District"
          ],
          [
           "Ashby Public School District"
          ],
          [
           "Herman-Norcross School District"
          ],
          [
           "Hopkins Public School District"
          ],
          [
           "Bloomington Public School District"
          ],
          [
           "Eden Prairie Public School District"
          ],
          [
           "Edina Public School District"
          ],
          [
           "Minnetonka Public School District"
          ],
          [
           "Westonka Public School District"
          ],
          [
           "Orono Public School District"
          ],
          [
           "Osseo Public School District"
          ],
          [
           "Richfield Public School District"
          ],
          [
           "Robbinsdale Public School District"
          ],
          [
           "St. Anthony-New Brighton Schools"
          ],
          [
           "St. Louis Park Public School District"
          ],
          [
           "Wayzata Public School District"
          ],
          [
           "Brooklyn Center School District"
          ],
          [
           "Houston Public School District"
          ],
          [
           "Spring Grove School District"
          ],
          [
           "Caledonia Public School District"
          ],
          [
           "La Crescent-Hokah School District"
          ],
          [
           "Laporte Public School District"
          ],
          [
           "Nevis Public School District"
          ],
          [
           "Park Rapids Public School District"
          ],
          [
           "Braham Public School District"
          ],
          [
           "Greenway Public School District"
          ],
          [
           "Deer River Public School District"
          ],
          [
           "Grand Rapids Public School District"
          ],
          [
           "Nashwauk-Keewatin School District"
          ],
          [
           "Heron Lake-Okabena School District"
          ],
          [
           "Mora Public School District"
          ],
          [
           "Ogilvie Public School District"
          ],
          [
           "New London-Spicer School District"
          ],
          [
           "Willmar Public School District"
          ],
          [
           "Lancaster Public School District"
          ],
          [
           "International Falls School District"
          ],
          [
           "Littlefork-Big Falls School District"
          ],
          [
           "South Koochiching School District"
          ],
          [
           "Dawson-Boyd Public School District"
          ],
          [
           "Lake Superior Public School District"
          ],
          [
           "Lake of The Woods School District"
          ],
          [
           "Cleveland Public School District"
          ],
          [
           "Hendricks Public School District"
          ],
          [
           "Ivanhoe Public School District"
          ],
          [
           "Lake Benton Public School District"
          ],
          [
           "Marshall Public School District"
          ],
          [
           "Minneota Public School District"
          ],
          [
           "Lynd Public School District"
          ],
          [
           "Hutchinson Public School District"
          ],
          [
           "Lester Prairie Public School District"
          ],
          [
           "Mahnomen Public School District"
          ],
          [
           "Waubun-Ogema-White Earth Public Schools"
          ],
          [
           "Marshall County Central Schools"
          ],
          [
           "Grygla Public School District"
          ],
          [
           "Truman Public School District"
          ],
          [
           "Eden Valley-Watkins School District"
          ],
          [
           "Litchfield Public School District"
          ],
          [
           "Dassel-Cokato Public School District"
          ],
          [
           "Isle Public School District"
          ],
          [
           "Princeton Public School District"
          ],
          [
           "Onamia Public School District"
          ],
          [
           "Little Falls Public School District"
          ],
          [
           "Pierz Public School District"
          ],
          [
           "Royalton Public School District"
          ],
          [
           "Swanville Public School District"
          ],
          [
           "Upsala Public School District"
          ],
          [
           "Austin Public School District"
          ],
          [
           "Grand Meadow Public School District"
          ],
          [
           "Lyle Public School District"
          ],
          [
           "LeRoy-Ostrander Public Schools"
          ],
          [
           "Southland Public School District"
          ],
          [
           "Fulda Public School District"
          ],
          [
           "Nicollet Public School District"
          ],
          [
           "St. Peter Public School District"
          ],
          [
           "Adrian Public School District"
          ],
          [
           "Ellsworth Public School District"
          ],
          [
           "Worthington Public School District"
          ],
          [
           "Byron Public School District"
          ],
          [
           "Dover-Eyota Public School District"
          ],
          [
           "Stewartville Public School District"
          ],
          [
           "Rochester Public School District"
          ],
          [
           "Battle Lake Public School District"
          ],
          [
           "Fergus Falls Public School District"
          ],
          [
           "Henning Public School District"
          ],
          [
           "Parkers Prairie Public School District"
          ],
          [
           "Pelican Rapids Public School District"
          ],
          [
           "Perham-Dent Public School District"
          ],
          [
           "Underwood Public School District"
          ],
          [
           "New York Mills Public School District"
          ],
          [
           "Goodridge Public School District"
          ],
          [
           "Thief River Falls School District"
          ],
          [
           "Willow River Public School District"
          ],
          [
           "Pine City Public School District"
          ],
          [
           "Edgerton Public School District"
          ],
          [
           "Climax-Shelly Public Schools"
          ],
          [
           "Crookston Public School District"
          ],
          [
           "East Grand Forks Public School District"
          ],
          [
           "Fertile-Beltrami School District"
          ],
          [
           "Fisher Public School District"
          ],
          [
           "Fosston Public School District"
          ],
          [
           "Mounds View Public School District"
          ],
          [
           "North St. Paul-Maplewood-Oakdale School District"
          ],
          [
           "Roseville Public School District"
          ],
          [
           "White Bear Lake School District"
          ],
          [
           "St. Paul Public School District"
          ],
          [
           "Red Lake Falls Public School District"
          ],
          [
           "Milroy Public School District"
          ],
          [
           "Wabasso Public School District"
          ],
          [
           "Faribault Public School District"
          ],
          [
           "Northfield Public School District"
          ],
          [
           "Hills-Beaver Creek School District"
          ],
          [
           "Badger Public School District"
          ],
          [
           "Roseau Public School District"
          ],
          [
           "Warroad Public School District"
          ],
          [
           "Chisholm Public School District"
          ],
          [
           "Ely Public School District"
          ],
          [
           "Floodwood Public School District"
          ],
          [
           "Hermantown Public School District"
          ],
          [
           "Hibbing Public School District"
          ],
          [
           "Proctor Public School District"
          ],
          [
           "Virginia Public School District"
          ],
          [
           "Nett Lake Public School District"
          ],
          [
           "Duluth Public School District"
          ],
          [
           "Mountain Iron-Buhl School District"
          ],
          [
           "Belle Plaine Public School District"
          ],
          [
           "Jordan Public School District"
          ],
          [
           "Prior Lake-Savage Area Schools"
          ],
          [
           "Shakopee Public School District"
          ],
          [
           "New Prague Area Schools"
          ],
          [
           "Becker Public School District"
          ],
          [
           "Big Lake Public School District"
          ],
          [
           "Elk River Public School District"
          ],
          [
           "Holdingford Public School District"
          ],
          [
           "Kimball Public School District"
          ],
          [
           "Melrose Public School District"
          ],
          [
           "Paynesville Public School District"
          ],
          [
           "St. Cloud Public School District"
          ],
          [
           "Sauk Centre Public School District"
          ],
          [
           "Albany Public School District"
          ],
          [
           "Sartell-St. Stephen School District"
          ],
          [
           "Rocori Public School District"
          ],
          [
           "Blooming Prairie Public School District"
          ],
          [
           "Owatonna Public School District"
          ],
          [
           "Medford Public School District"
          ],
          [
           "Hancock Public School District"
          ],
          [
           "Chokio-Alberta Public School District"
          ],
          [
           "Kerkhoven-Murdock-Sunburg"
          ],
          [
           "Benson Public School District"
          ],
          [
           "Bertha-Hewitt Public School District"
          ],
          [
           "Browerville Public School District"
          ],
          [
           "Browns Valley Public School District"
          ],
          [
           "Wheaton Area Public School District"
          ],
          [
           "Wabasha-Kellogg Public School District"
          ],
          [
           "Lake City Public School District"
          ],
          [
           "Verndale Public School District"
          ],
          [
           "Sebeka Public School District"
          ],
          [
           "Menahga Public School District"
          ],
          [
           "Waseca Public School District"
          ],
          [
           "Forest Lake Public School District"
          ],
          [
           "Mahtomedi Public School District"
          ],
          [
           "Fillmore Central"
          ],
          [
           "South Washington County School District"
          ],
          [
           "Stillwater Area Public School District"
          ],
          [
           "Butterfield Public School District"
          ],
          [
           "Madelia Public School District"
          ],
          [
           "St. James Public School District"
          ],
          [
           "Breckenridge Public School District"
          ],
          [
           "Rothsay Public School District"
          ],
          [
           "Campbell-Tintah Public School District"
          ],
          [
           "Lewiston-Altura Public School District"
          ],
          [
           "St. Charles Public School District"
          ],
          [
           "Winona Area Public School District"
          ],
          [
           "Annandale Public School District"
          ],
          [
           "Buffalo-Hanover-Montrose Public Schools"
          ],
          [
           "Delano Public School District"
          ],
          [
           "Maple Lake Public School District"
          ],
          [
           "Monticello Public School District"
          ],
          [
           "Rockford Public School District"
          ],
          [
           "St. Michael-Albertville School District"
          ],
          [
           "Canby Public School District"
          ],
          [
           "Cambridge-Isanti Public School District"
          ],
          [
           "Milaca Public School District"
          ],
          [
           "Ulen-Hitterdal Public School District"
          ],
          [
           "Lake Crystal-Wellcome Memorial"
          ],
          [
           "Triton School District"
          ],
          [
           "United South Central School District"
          ],
          [
           "Maple River School District"
          ],
          [
           "Kingsland Public School District"
          ],
          [
           "St. Louis County School District"
          ],
          [
           "Waterville-Elysian-Morristown Public School District"
          ],
          [
           "Chisago Lakes School District"
          ],
          [
           "Minnewaska School District"
          ],
          [
           "Eveleth-Gilbert School District"
          ],
          [
           "Wadena-Deer Creek School District"
          ],
          [
           "Buffalo Lake-Hector-Stewart Public Schools"
          ],
          [
           "Dilworth-Glyndon-Felton"
          ],
          [
           "Hinckley-Finlayson School District"
          ],
          [
           "Lakeview School District"
          ],
          [
           "NRHEG School District"
          ],
          [
           "Murray County Central School District"
          ],
          [
           "Staples-Motley School District"
          ],
          [
           "Kittson Central School District"
          ],
          [
           "Kenyon-Wanamingo School District"
          ],
          [
           "Pine River-Backus Public School District"
          ],
          [
           "Warren-Alvarado-Oslo School District"
          ],
          [
           "MACCRAY School District"
          ],
          [
           "Luverne Public School District"
          ],
          [
           "Yellow Medicine East"
          ],
          [
           "Norman County East School District"
          ],
          [
           "Sibley East School District"
          ],
          [
           "Clearbrook-Gonvick School District"
          ],
          [
           "West Central Area"
          ],
          [
           "Tri-County School District"
          ],
          [
           "Belgrade-Brooten-Elrosa Public School District"
          ],
          [
           "G.F.W. Public School District"
          ],
          [
           "A.C.G.C. Public School District"
          ],
          [
           "Le Sueur-Henderson School District"
          ],
          [
           "Martin County West School District"
          ],
          [
           "Norman County West School District"
          ],
          [
           "Bird Island-Olivia-Lake Lillian Public School District"
          ],
          [
           "Granada-Huntley-East Chain"
          ],
          [
           "East Central School District"
          ],
          [
           "Win-E-Mac School District"
          ],
          [
           "Greenbush-Middle River School District"
          ],
          [
           "Howard Lake-Waverly-Winsted"
          ],
          [
           "Pipestone Area School District"
          ],
          [
           "Mesabi East School District"
          ],
          [
           "Fairmont Area School District"
          ],
          [
           "Long Prairie-Grey Eagle School District"
          ],
          [
           "Cedar Mountain School District"
          ],
          [
           "Morris Area Public Schools"
          ],
          [
           "Zumbrota-Mazeppa School District"
          ],
          [
           "Janesville-Waldorf-Pemberton"
          ],
          [
           "Lac qui Parle Valley School District"
          ],
          [
           "Ada-Borup Public School District"
          ],
          [
           "Stephen-Argyle Central Schools"
          ],
          [
           "Glencoe-Silver Lake School District"
          ],
          [
           "Blue Earth Area Public Schools"
          ],
          [
           "Red Rock Central School District"
          ],
          [
           "Glenville-Emmons School District"
          ],
          [
           "Clinton-Graceville-Beardsley"
          ],
          [
           "Lake Park Audubon School District"
          ],
          [
           "Renville County West School District"
          ],
          [
           "Jackson County Central School District"
          ],
          [
           "Redwood Area School District"
          ],
          [
           "Westbrook-Walnut Grove Schools"
          ],
          [
           "Plainview-Elgin-Millville"
          ],
          [
           "RTR Public Schools"
          ],
          [
           "Ortonville Public Schools"
          ],
          [
           "Tracy Area Public School District"
          ],
          [
           "Tri-City United School District"
          ],
          [
           "Red Lake County Central Public Schools"
          ],
          [
           "Round Lake-Brewster Public Schools"
          ],
          [
           "Brandon-Evansville Public Schools"
          ]
         ],
         "hovertemplate": "General Fund Expenditures=%{x}<br>Reading Proficiency=%{marker.color}<br>District=%{customdata[0]}<extra></extra>",
         "legendgroup": "",
         "marker": {
          "color": [
           57.638571400000004,
           46.48,
           46.2828571,
           49.2585714,
           45.0614286,
           65.0485714,
           68.8528571,
           35.0957143,
           44.181428600000004,
           60.72571429999999,
           56.4728571,
           61.02571429999999,
           61.6714286,
           28.635,
           55.55571429999999,
           48.21,
           44.6985714,
           24.03,
           57.268571400000006,
           69.26,
           60.0714286,
           64.1842857,
           59.6433333,
           58.3171429,
           68.5971429,
           57.73571429999999,
           70.3485714,
           56.575714299999994,
           67.3271429,
           55.3514286,
           54.161428599999994,
           80.6128571,
           54.7228571,
           63.698571400000006,
           70.69428570000001,
           64.5914286,
           67.0157143,
           53.9128571,
           35.2757143,
           59.75,
           39.8033333,
           58.5785714,
           55.52,
           67.0014286,
           77.0514286,
           69.0814286,
           52.7485714,
           49.7742857,
           58.53,
           56.58428570000001,
           57.6328571,
           67.92,
           64.2871429,
           70.4228571,
           48.2771429,
           57.5828571,
           73.31,
           51.1328571,
           65.2914286,
           59.68,
           51.64,
           65.1,
           48.9057143,
           66.5071429,
           65.6257143,
           62.0785714,
           70.5128571,
           63.2571429,
           60.231428599999994,
           62.105714299999995,
           46.818571399999996,
           58.605714299999995,
           62.47428570000001,
           56.1785714,
           68.66571429999999,
           54.838571400000006,
           58.981428599999994,
           60,
           59.4985714,
           53.51571429999999,
           73.5371429,
           77.43285709999999,
           81.4842857,
           77.6071429,
           78.8314286,
           54.94571429999999,
           43.4857143,
           48.7471429,
           67.5614286,
           58.918571400000005,
           80.79571429999999,
           22.4285714,
           57.9471429,
           68.2514286,
           61.075714299999994,
           55.13,
           48.0328571,
           68.3614286,
           51.7957143,
           59.8514286,
           61.72428570000001,
           53.5571429,
           61.4971429,
           50.7628571,
           46.092857099999996,
           65.78428570000001,
           44.3028571,
           69.03,
           46.68,
           71.958,
           62.78,
           60.871428599999994,
           48.4671429,
           64.4714286,
           61.93,
           47.2957143,
           66.78428570000001,
           73.2,
           52.7366667,
           78.1825,
           58.6671429,
           73.0571429,
           40.548,
           66.31428570000001,
           55.715714299999995,
           33.2942857,
           40.8685714,
           62.401428599999996,
           52.5416667,
           57.6085714,
           67.6214286,
           65.1457143,
           72.5114286,
           53.89,
           63.41571429999999,
           36.7657143,
           48.0142857,
           61.064285700000006,
           52.4042857,
           54.4328571,
           53.244285700000006,
           43.5071429,
           53.91571429999999,
           42.0285714,
           63.8471429,
           56.45428570000001,
           53.465714299999995,
           56.3871429,
           59.4428571,
           57.6014286,
           65.7,
           44.4442857,
           76.0614286,
           63.342857099999996,
           61.1271429,
           55.3985714,
           72.18285709999999,
           64.8671429,
           64.71571429999999,
           64.7771429,
           57.25428570000001,
           61.97428570000001,
           59.61,
           60.0085714,
           48.214285700000005,
           60.30571429999999,
           58.0871429,
           55.638571400000004,
           52.6228571,
           51.8114286,
           55.4271429,
           54.564285700000006,
           71.70428570000001,
           42.4128571,
           66.3328571,
           67.5314286,
           50.79,
           56.36428570000001,
           64.88,
           39.59,
           59.0128571,
           46.2,
           55.738571400000005,
           41.67,
           68.4371429,
           67.6771429,
           69.2442857,
           64.56857140000001,
           66.94428570000001,
           59.0128571,
           63.22,
           48.578,
           71.1714286,
           67.31,
           59.70571429999999,
           67.4685714,
           56.6666667,
           62.4971429,
           63.2328571,
           63.261428599999995,
           66.2442857,
           68.2771429,
           62.3271429,
           69.8828571,
           64.8314286,
           63.1128571,
           70.02428570000001,
           66.67428570000001,
           69.8628571,
           54.6128571,
           59.9428571,
           43.7257143,
           62.33571429999999,
           68.28428570000001,
           72.1571429,
           64.53,
           63.7628571,
           53.9128571,
           52.7428571,
           67.2771429,
           48.0225,
           53.4671429,
           51.4814286,
           59.574285700000004,
           41.8114286,
           39.31,
           64.5514286,
           65.0828571,
           56.11571429999999,
           52.7028571,
           61.1185714,
           57.52428570000001,
           55.07,
           60.82,
           78.15,
           60.035714299999995,
           67.9471429,
           68.0985714,
           30.1866667,
           53.2528571,
           57.11,
           55.05428570000001,
           59.378571400000006,
           54.7375,
           63.0528571,
           64.9857143,
           48.8085714,
           66.6757143,
           65.1242857,
           79.00857140000001,
           58.98571429999999,
           66.9028571,
           67.9671429,
           76.18285709999999,
           66.8328571,
           62.12571429999999,
           58.3371429,
           53.791428599999996,
           62.4985714,
           50.0985714,
           60.744285700000006,
           66.9857143,
           62.0528571,
           54.97571429999999,
           67.18,
           65.55,
           61.4614286,
           60.7171429,
           55.878571400000006,
           64.3071429,
           62.005714299999994,
           40.7828571,
           64.71,
           58.0628571,
           65.6242857,
           48.35,
           70.4471429,
           53.331428599999995,
           55.38,
           53.871428599999994,
           52.9328571,
           60.8528571,
           53.58,
           52.9871429,
           50.6314286,
           56.32,
           69.4728571,
           66.37,
           63.77428570000001,
           61.41,
           56.511428599999995,
           52.965714299999995,
           57.52571429999999,
           88.46,
           58.15857140000001,
           47.1428571,
           51.1885714,
           66.1842857,
           59.464285700000005,
           60.3914286,
           55.47571429999999,
           55.425714299999996,
           58.14,
           38.3971429,
           57.30571429999999,
           60.9228571,
           66.02571429999999,
           53.7428571,
           52.48428570000001,
           59.52428570000001,
           62.0628571,
           60.0785714,
           54.34142859999999,
           69.02428570000001,
           46.8757143,
           76.6585714,
           60.8028571,
           54.88,
           54.3171429,
           57.7514286,
           54.8528571,
           67.1542857,
           60.691428599999995,
           58.157142900000004,
           65.64857140000001,
           57.221428599999996,
           57.55571429999999,
           48.98,
           62.244285700000006
          ],
          "coloraxis": "coloraxis",
          "symbol": "circle"
         },
         "mode": "markers",
         "name": "",
         "showlegend": false,
         "type": "scatter",
         "x": [
          12036522,
          439046660,
          3787461,
          5596677,
          34984783,
          427741016,
          71503817,
          34927109,
          33593832,
          42954903,
          56496807,
          31624477,
          9788592,
          1431696,
          57707180,
          7002715,
          4739154,
          30482917,
          44715087,
          18546832,
          6180560,
          87845043,
          1910965,
          6073846,
          5576610,
          23115819,
          7844835,
          5305718,
          27810520,
          4906784,
          6419007,
          10796321,
          3952098,
          9205468,
          41590079,
          14911126,
          107996917,
          9261043,
          21507053,
          10312923,
          6038520,
          15043396,
          27562973,
          7891842,
          8618085,
          8766777,
          72279388,
          11000574,
          5943384,
          5562343,
          12649677,
          71227350,
          11427562,
          15564016,
          102758358,
          71285939,
          125766054,
          6804649,
          289752744,
          58530102,
          36658026,
          47256101,
          6966813,
          19343642,
          45346085,
          7631697,
          8766530,
          3613783,
          2918326,
          7449969,
          38441564,
          5525741,
          11755018,
          6072059,
          12474746,
          28748425,
          2551563,
          1604621,
          81156042,
          127973644,
          98200311,
          98223666,
          115377537,
          27509910,
          33235969,
          222122568,
          45318424,
          133467295,
          18558636,
          58543881,
          133911351,
          24748211,
          19059114,
          4207056,
          7693922,
          12031091,
          3773136,
          5852396,
          16104587,
          6760399,
          12708016,
          12105608,
          45181414,
          7359072,
          3900465,
          15524774,
          5297964,
          15420092,
          41869252,
          2663238,
          11355361,
          4017182,
          5317391,
          6225734,
          15344784,
          5571088,
          4664608,
          2161147,
          1418909,
          2039518,
          25908771,
          5172424,
          2552000,
          29338751,
          4332496,
          9146505,
          7963601,
          4957405,
          2773895,
          2502616,
          9056589,
          16221008,
          20454365,
          4747300,
          33130844,
          9390762,
          25026133,
          10189027,
          8440700,
          2999605,
          3809450,
          53287195,
          5035179,
          3272497,
          3581201,
          5708811,
          4745658,
          4287203,
          23104762,
          5923858,
          1931174,
          32546249,
          18758087,
          10019353,
          18817324,
          189372896,
          3704610,
          25374444,
          4251043,
          6431599,
          8614787,
          15271710,
          5222568,
          6706695,
          3278136,
          19967183,
          4674236,
          17968280,
          4162723,
          2151649,
          12715979,
          17686216,
          5543145,
          2856133,
          7021437,
          133923939,
          113727860,
          82594748,
          102105396,
          439053778,
          4449884,
          1129854,
          4318872,
          42164158,
          47720683,
          3871636,
          3146215,
          11945939,
          12008594,
          8113580,
          7150004,
          2947231,
          18925522,
          27959518,
          19787213,
          19983684,
          1773774,
          111622631,
          6855707,
          14951404,
          18040300,
          87163913,
          75895117,
          39848526,
          29895458,
          30150488,
          138474993,
          9635734,
          7352283,
          13303761,
          8868731,
          103398210,
          11047164,
          17089551,
          36147962,
          21712045,
          7208294,
          52113289,
          7943135,
          3680472,
          2233793,
          6482598,
          9265765,
          5212284,
          5562156,
          1977668,
          4836906,
          5959455,
          11664174,
          5119398,
          5234401,
          8821009,
          20317439,
          62582630,
          34246154,
          7468828,
          201538843,
          94177645,
          2477941,
          6380684,
          10567249,
          7320207,
          3062816,
          1912706,
          7214946,
          9596211,
          36137814,
          18442424,
          59315590,
          25589951,
          8700047,
          50637193,
          16417041,
          55487672,
          5480820,
          49839951,
          18785271,
          3508939,
          8825009,
          9955048,
          8165950,
          9650272,
          5282881,
          26947153,
          9062443,
          36444116,
          15730276,
          11253169,
          10328152,
          6146990,
          15210547,
          10070689,
          6536438,
          8367463,
          7907944,
          12249256,
          3526781,
          8775631,
          8716103,
          5858244,
          8313846,
          12521450,
          8244105,
          3444826,
          10930383,
          4750279,
          9139582,
          2637397,
          6728090,
          8777787,
          8795990,
          9878508,
          7859210,
          2898437,
          7736854,
          3726441,
          7746194,
          5159404,
          4458991,
          12322797,
          12085558,
          10784509,
          17712923,
          8893097,
          5382521,
          10437152,
          12434013,
          7661013,
          9193999,
          7613070,
          4152162,
          16117925,
          11378637,
          4532341,
          3556770,
          4013038,
          6608086,
          6651406,
          11970790,
          12237498,
          4998047,
          12679635,
          7006903,
          6046109,
          7076085,
          18197086,
          4665530,
          2552386,
          4726135
         ],
         "xaxis": "x",
         "y": [
          57.638571400000004,
          46.48,
          46.2828571,
          49.2585714,
          45.0614286,
          65.0485714,
          68.8528571,
          35.0957143,
          44.181428600000004,
          60.72571429999999,
          56.4728571,
          61.02571429999999,
          61.6714286,
          28.635,
          55.55571429999999,
          48.21,
          44.6985714,
          24.03,
          57.268571400000006,
          69.26,
          60.0714286,
          64.1842857,
          59.6433333,
          58.3171429,
          68.5971429,
          57.73571429999999,
          70.3485714,
          56.575714299999994,
          67.3271429,
          55.3514286,
          54.161428599999994,
          80.6128571,
          54.7228571,
          63.698571400000006,
          70.69428570000001,
          64.5914286,
          67.0157143,
          53.9128571,
          35.2757143,
          59.75,
          39.8033333,
          58.5785714,
          55.52,
          67.0014286,
          77.0514286,
          69.0814286,
          52.7485714,
          49.7742857,
          58.53,
          56.58428570000001,
          57.6328571,
          67.92,
          64.2871429,
          70.4228571,
          48.2771429,
          57.5828571,
          73.31,
          51.1328571,
          65.2914286,
          59.68,
          51.64,
          65.1,
          48.9057143,
          66.5071429,
          65.6257143,
          62.0785714,
          70.5128571,
          63.2571429,
          60.231428599999994,
          62.105714299999995,
          46.818571399999996,
          58.605714299999995,
          62.47428570000001,
          56.1785714,
          68.66571429999999,
          54.838571400000006,
          58.981428599999994,
          60,
          59.4985714,
          53.51571429999999,
          73.5371429,
          77.43285709999999,
          81.4842857,
          77.6071429,
          78.8314286,
          54.94571429999999,
          43.4857143,
          48.7471429,
          67.5614286,
          58.918571400000005,
          80.79571429999999,
          22.4285714,
          57.9471429,
          68.2514286,
          61.075714299999994,
          55.13,
          48.0328571,
          68.3614286,
          51.7957143,
          59.8514286,
          61.72428570000001,
          53.5571429,
          61.4971429,
          50.7628571,
          46.092857099999996,
          65.78428570000001,
          44.3028571,
          69.03,
          46.68,
          71.958,
          62.78,
          60.871428599999994,
          48.4671429,
          64.4714286,
          61.93,
          47.2957143,
          66.78428570000001,
          73.2,
          52.7366667,
          78.1825,
          58.6671429,
          73.0571429,
          40.548,
          66.31428570000001,
          55.715714299999995,
          33.2942857,
          40.8685714,
          62.401428599999996,
          52.5416667,
          57.6085714,
          67.6214286,
          65.1457143,
          72.5114286,
          53.89,
          63.41571429999999,
          36.7657143,
          48.0142857,
          61.064285700000006,
          52.4042857,
          54.4328571,
          53.244285700000006,
          43.5071429,
          53.91571429999999,
          42.0285714,
          63.8471429,
          56.45428570000001,
          53.465714299999995,
          56.3871429,
          59.4428571,
          57.6014286,
          65.7,
          44.4442857,
          76.0614286,
          63.342857099999996,
          61.1271429,
          55.3985714,
          72.18285709999999,
          64.8671429,
          64.71571429999999,
          64.7771429,
          57.25428570000001,
          61.97428570000001,
          59.61,
          60.0085714,
          48.214285700000005,
          60.30571429999999,
          58.0871429,
          55.638571400000004,
          52.6228571,
          51.8114286,
          55.4271429,
          54.564285700000006,
          71.70428570000001,
          42.4128571,
          66.3328571,
          67.5314286,
          50.79,
          56.36428570000001,
          64.88,
          39.59,
          59.0128571,
          46.2,
          55.738571400000005,
          41.67,
          68.4371429,
          67.6771429,
          69.2442857,
          64.56857140000001,
          66.94428570000001,
          59.0128571,
          63.22,
          48.578,
          71.1714286,
          67.31,
          59.70571429999999,
          67.4685714,
          56.6666667,
          62.4971429,
          63.2328571,
          63.261428599999995,
          66.2442857,
          68.2771429,
          62.3271429,
          69.8828571,
          64.8314286,
          63.1128571,
          70.02428570000001,
          66.67428570000001,
          69.8628571,
          54.6128571,
          59.9428571,
          43.7257143,
          62.33571429999999,
          68.28428570000001,
          72.1571429,
          64.53,
          63.7628571,
          53.9128571,
          52.7428571,
          67.2771429,
          48.0225,
          53.4671429,
          51.4814286,
          59.574285700000004,
          41.8114286,
          39.31,
          64.5514286,
          65.0828571,
          56.11571429999999,
          52.7028571,
          61.1185714,
          57.52428570000001,
          55.07,
          60.82,
          78.15,
          60.035714299999995,
          67.9471429,
          68.0985714,
          30.1866667,
          53.2528571,
          57.11,
          55.05428570000001,
          59.378571400000006,
          54.7375,
          63.0528571,
          64.9857143,
          48.8085714,
          66.6757143,
          65.1242857,
          79.00857140000001,
          58.98571429999999,
          66.9028571,
          67.9671429,
          76.18285709999999,
          66.8328571,
          62.12571429999999,
          58.3371429,
          53.791428599999996,
          62.4985714,
          50.0985714,
          60.744285700000006,
          66.9857143,
          62.0528571,
          54.97571429999999,
          67.18,
          65.55,
          61.4614286,
          60.7171429,
          55.878571400000006,
          64.3071429,
          62.005714299999994,
          40.7828571,
          64.71,
          58.0628571,
          65.6242857,
          48.35,
          70.4471429,
          53.331428599999995,
          55.38,
          53.871428599999994,
          52.9328571,
          60.8528571,
          53.58,
          52.9871429,
          50.6314286,
          56.32,
          69.4728571,
          66.37,
          63.77428570000001,
          61.41,
          56.511428599999995,
          52.965714299999995,
          57.52571429999999,
          88.46,
          58.15857140000001,
          47.1428571,
          51.1885714,
          66.1842857,
          59.464285700000005,
          60.3914286,
          55.47571429999999,
          55.425714299999996,
          58.14,
          38.3971429,
          57.30571429999999,
          60.9228571,
          66.02571429999999,
          53.7428571,
          52.48428570000001,
          59.52428570000001,
          62.0628571,
          60.0785714,
          54.34142859999999,
          69.02428570000001,
          46.8757143,
          76.6585714,
          60.8028571,
          54.88,
          54.3171429,
          57.7514286,
          54.8528571,
          67.1542857,
          60.691428599999995,
          58.157142900000004,
          65.64857140000001,
          57.221428599999996,
          57.55571429999999,
          48.98,
          62.244285700000006
         ],
         "yaxis": "y"
        },
        {
         "hovertemplate": "<b>OLS trendline</b><br>Reading Proficiency = 4.00297e-09 * General Fund Expenditures + 58.8766<br>R<sup>2</sup>=0.000483<br><br>General Fund Expenditures=%{x}<br>Reading Proficiency=%{y} <b>(trend)</b><extra></extra>",
         "legendgroup": "",
         "marker": {
          "symbol": "circle"
         },
         "mode": "lines",
         "name": "",
         "showlegend": false,
         "type": "scatter",
         "x": [
          1129854,
          1418909,
          1431696,
          1604621,
          1773774,
          1910965,
          1912706,
          1931174,
          1977668,
          2039518,
          2151649,
          2161147,
          2233793,
          2477941,
          2502616,
          2551563,
          2552000,
          2552386,
          2637397,
          2663238,
          2773895,
          2856133,
          2898437,
          2918326,
          2947231,
          2999605,
          3062816,
          3146215,
          3272497,
          3278136,
          3444826,
          3508939,
          3526781,
          3556770,
          3581201,
          3613783,
          3680472,
          3704610,
          3726441,
          3773136,
          3787461,
          3809450,
          3871636,
          3900465,
          3952098,
          4013038,
          4017182,
          4152162,
          4162723,
          4207056,
          4251043,
          4287203,
          4318872,
          4332496,
          4449884,
          4458991,
          4532341,
          4664608,
          4665530,
          4674236,
          4726135,
          4739154,
          4745658,
          4747300,
          4750279,
          4836906,
          4906784,
          4957405,
          4998047,
          5035179,
          5119398,
          5159404,
          5172424,
          5212284,
          5222568,
          5234401,
          5282881,
          5297964,
          5305718,
          5317391,
          5382521,
          5480820,
          5525741,
          5543145,
          5562156,
          5562343,
          5571088,
          5576610,
          5596677,
          5708811,
          5852396,
          5858244,
          5923858,
          5943384,
          5959455,
          6038520,
          6046109,
          6072059,
          6073846,
          6146990,
          6180560,
          6225734,
          6380684,
          6419007,
          6431599,
          6482598,
          6536438,
          6608086,
          6651406,
          6706695,
          6728090,
          6760399,
          6804649,
          6855707,
          6966813,
          7002715,
          7006903,
          7021437,
          7076085,
          7150004,
          7208294,
          7214946,
          7320207,
          7352283,
          7359072,
          7449969,
          7468828,
          7613070,
          7631697,
          7661013,
          7693922,
          7736854,
          7746194,
          7844835,
          7859210,
          7891842,
          7907944,
          7943135,
          7963601,
          8113580,
          8165950,
          8244105,
          8313846,
          8367463,
          8440700,
          8614787,
          8618085,
          8700047,
          8716103,
          8766530,
          8766777,
          8775631,
          8777787,
          8795990,
          8821009,
          8825009,
          8868731,
          8893097,
          9056589,
          9062443,
          9139582,
          9146505,
          9193999,
          9205468,
          9261043,
          9265765,
          9390762,
          9596211,
          9635734,
          9650272,
          9788592,
          9878508,
          9955048,
          10019353,
          10070689,
          10189027,
          10312923,
          10328152,
          10437152,
          10567249,
          10784509,
          10796321,
          10930383,
          11000574,
          11047164,
          11253169,
          11355361,
          11378637,
          11427562,
          11664174,
          11755018,
          11945939,
          11970790,
          12008594,
          12031091,
          12036522,
          12085558,
          12105608,
          12237498,
          12249256,
          12322797,
          12434013,
          12474746,
          12521450,
          12649677,
          12679635,
          12708016,
          12715979,
          13303761,
          14911126,
          14951404,
          15043396,
          15210547,
          15271710,
          15344784,
          15420092,
          15524774,
          15564016,
          15730276,
          16104587,
          16117925,
          16221008,
          16417041,
          17089551,
          17686216,
          17712923,
          17968280,
          18040300,
          18197086,
          18442424,
          18546832,
          18558636,
          18758087,
          18785271,
          18817324,
          18925522,
          19059114,
          19343642,
          19787213,
          19967183,
          19983684,
          20317439,
          20454365,
          21507053,
          21712045,
          23104762,
          23115819,
          24748211,
          25026133,
          25374444,
          25589951,
          25908771,
          26947153,
          27509910,
          27562973,
          27810520,
          27959518,
          28748425,
          29338751,
          29895458,
          30150488,
          30482917,
          31624477,
          32546249,
          33130844,
          33235969,
          33593832,
          34246154,
          34927109,
          34984783,
          36137814,
          36147962,
          36444116,
          36658026,
          38441564,
          39848526,
          41590079,
          41869252,
          42164158,
          42954903,
          44715087,
          45181414,
          45318424,
          45346085,
          47256101,
          47720683,
          49839951,
          50637193,
          52113289,
          53287195,
          55487672,
          56496807,
          57707180,
          58530102,
          58543881,
          59315590,
          62582630,
          71227350,
          71285939,
          71503817,
          72279388,
          75895117,
          81156042,
          82594748,
          87163913,
          87845043,
          94177645,
          98200311,
          98223666,
          102105396,
          102758358,
          103398210,
          107996917,
          111622631,
          113727860,
          115377537,
          125766054,
          127973644,
          133467295,
          133911351,
          133923939,
          138474993,
          189372896,
          201538843,
          222122568,
          289752744,
          427741016,
          439046660,
          439053778
         ],
         "xaxis": "x",
         "y": [
          58.88108725379644,
          58.88224433182257,
          58.88229551777929,
          58.88298773108703,
          58.88366484519803,
          58.884214016433546,
          58.8842209856015,
          58.88429491242161,
          58.88448102643364,
          58.88472861002817,
          58.885177466875994,
          58.8852154870697,
          58.8855062867109,
          58.88648360343583,
          58.88658237668069,
          58.88677830997417,
          58.88678005927135,
          58.886781604417145,
          58.88712190076241,
          58.88722534146841,
          58.887668297940834,
          58.88799749405477,
          58.88816683562927,
          58.88824645066745,
          58.88836215646858,
          58.88857180793471,
          58.8888248395692,
          58.88915868312943,
          58.88966418598286,
          58.889686758721574,
          58.89035401352144,
          58.89061065583342,
          58.89068207679532,
          58.890802121814176,
          58.89089991833476,
          58.89103034305063,
          58.89129729700917,
          58.891393920660015,
          58.8914813094628,
          58.891668228071474,
          58.891725570593564,
          58.89181359186536,
          58.89206252045726,
          58.89217792203279,
          58.89238460729934,
          58.89262854819264,
          58.89264513649363,
          58.89318545716605,
          58.89322773251515,
          58.8934051961125,
          58.89358127468279,
          58.89372602201954,
          58.893852792025285,
          58.89390732846654,
          58.89437722891916,
          58.89441368395223,
          58.89470730168317,
          58.89523676230237,
          58.89524045303922,
          58.89527530288197,
          58.89548305293811,
          58.895535167583496,
          58.895561202889866,
          58.89556777576395,
          58.89557970060677,
          58.895926465748936,
          58.89620618517365,
          58.896408819436196,
          58.896571508077244,
          58.89672014629926,
          58.897057272293566,
          58.89721741504672,
          58.897269533695074,
          58.897429092014846,
          58.8974702585417,
          58.89751762566659,
          58.897711689573825,
          58.89777206634596,
          58.897803105362804,
          58.897849832012746,
          58.89811054534357,
          58.89850403313272,
          58.89868385047548,
          58.89875351813723,
          58.89882961856917,
          58.898830367124255,
          58.89886537308277,
          58.89888747747418,
          58.89896780504074,
          58.89941667389747,
          58.899991440112835,
          58.90001484947194,
          58.90027750023946,
          58.90035566220012,
          58.90041999390502,
          58.900736488600266,
          58.90076686712733,
          58.90087074415689,
          58.90087789746139,
          58.90117069058084,
          58.90130507022948,
          58.901485900323244,
          58.902106160274286,
          58.90225956603165,
          58.902309971409544,
          58.90251411879414,
          58.902729638611916,
          58.90301644329066,
          58.903189851881045,
          58.903411172000006,
          58.903496815508575,
          58.90362614741408,
          58.903803278765054,
          58.90400766232479,
          58.90445241613002,
          58.90459613070093,
          58.90461289513252,
          58.90467107427501,
          58.904889828491235,
          58.90518572391119,
          58.90541905693827,
          58.905445684683954,
          58.90586704113899,
          58.90599544035286,
          58.90602261650522,
          58.90638647432238,
          58.906461966303134,
          58.90703936246872,
          58.907113925760804,
          58.90723127678194,
          58.90736301046848,
          58.907534865907124,
          58.90757225363183,
          58.90796711043616,
          58.90802465310667,
          58.90815527797097,
          58.90821973376788,
          58.90836060222827,
          58.90844252697921,
          58.90904288817442,
          58.90925252362867,
          58.90956537562269,
          58.909844546640734,
          58.91005917379656,
          58.91035233919207,
          58.91104920394908,
          58.911062405738804,
          58.911390497033466,
          58.91145476869384,
          58.91165662638051,
          58.911657615113704,
          58.91169305739577,
          58.911701687795606,
          58.9117745538291,
          58.91187470409509,
          58.911890715968624,
          58.91206573375229,
          58.91216327007993,
          58.9128177233869,
          58.912841156763825,
          58.91314994174197,
          58.913177654292085,
          58.9133677712725,
          58.91341368131689,
          58.913636146284816,
          58.91365504830152,
          58.91415540734057,
          58.91497781319202,
          58.91513602251145,
          58.91519421766581,
          58.915747908252634,
          58.91610783915782,
          58.9164142263579,
          58.91667163723981,
          58.91687713362475,
          58.917350836897334,
          58.91784678866819,
          58.917907749873706,
          58.91834407342753,
          58.91886484760533,
          58.91973453251636,
          58.91978181557891,
          58.92031846152636,
          58.92059943388017,
          58.92078593217716,
          58.92161056367903,
          58.92201963502409,
          58.92211280811619,
          58.92230865334436,
          58.923255803699554,
          58.92361944935939,
          58.92438370008617,
          58.92448317785347,
          58.92463450607024,
          58.92472456084997,
          58.924746300971265,
          58.92494259052892,
          58.92502285004501,
          58.92555080154513,
          58.92559786844738,
          58.925892250745285,
          58.92633744487704,
          58.92650049778821,
          58.9266874524236,
          58.927200741050534,
          58.92732066197737,
          58.92743427022307,
          58.9274661458603,
          58.92981901862277,
          58.93625324989874,
          58.936414481459295,
          58.93678272252684,
          58.93745182269514,
          58.93769665625038,
          58.93798916916205,
          58.93829062470508,
          58.93870966344142,
          58.93886674792673,
          58.9395322814502,
          58.941030636548845,
          58.94108402814114,
          58.94149666613104,
          58.942281380032185,
          58.94497341629987,
          58.947361847430486,
          58.94746875470711,
          58.94849094070465,
          58.94877923448764,
          58.94940684388863,
          58.95038892414594,
          58.95080686606894,
          58.95085411710774,
          58.951652513154826,
          58.951761329847365,
          58.951889636992966,
          58.95232275016614,
          58.952857514718445,
          58.9539964713067,
          58.955772071995604,
          58.95649248621561,
          58.956558539196905,
          58.95789454990979,
          58.958442660358685,
          58.96265653714052,
          58.96347711363541,
          58.96905211575377,
          58.96909637657519,
          58.97563079014089,
          58.97674330312001,
          58.97813758104068,
          58.979000248748136,
          58.98027647512821,
          58.984433085444344,
          58.986685783923015,
          58.98689819343436,
          58.987889116248816,
          58.98848555053204,
          58.991643520310674,
          58.99400657662471,
          58.99623505714466,
          58.99725593417154,
          58.998586636948346,
          59.00315626553637,
          59.00684608970929,
          59.009186205011524,
          59.009607017062855,
          59.01103953133753,
          59.01365075567948,
          59.01637659701516,
          59.01660746421371,
          59.02122301085207,
          59.02126363297523,
          59.022449128073916,
          59.02330540304086,
          59.030444849265876,
          59.036076873668854,
          59.04304825526628,
          59.044165775958845,
          59.04534627535299,
          59.04851160258751,
          59.0555575634889,
          59.05742425572633,
          59.05797270242457,
          59.05808342853303,
          59.06572916219327,
          59.06758886925088,
          59.07607223205134,
          59.07926356657144,
          59.08517233219066,
          59.08987144079402,
          59.09867988065394,
          59.10271941615376,
          59.10756450100517,
          59.110858631753366,
          59.11091378865473,
          59.1140029153831,
          59.127080773211176,
          59.16168531405657,
          59.1619198439712,
          59.162792002716685,
          59.16589658890896,
          59.180370237779755,
          59.20142955422344,
          59.20718864885479,
          59.225478871889415,
          59.22820541374456,
          59.25355461933672,
          59.269657224152645,
          59.26975071347925,
          59.28528915594306,
          59.28790294218478,
          59.29046424951099,
          59.308872728237596,
          59.32338634674771,
          59.331813511875026,
          59.33841711674924,
          59.380002021853116,
          59.38883893482715,
          59.410829846090884,
          59.41260738821945,
          59.412657777585466,
          59.43087550285969,
          59.63461819936212,
          59.68331810056013,
          59.765714100952614,
          60.03643555726043,
          60.588798247389164,
          60.63405438287782,
          60.63408287600677
         ],
         "yaxis": "y"
        }
       ],
       "layout": {
        "coloraxis": {
         "colorbar": {
          "title": {
           "text": "Reading Proficiency"
          }
         },
         "colorscale": [
          [
           0,
           "#0d0887"
          ],
          [
           0.1111111111111111,
           "#46039f"
          ],
          [
           0.2222222222222222,
           "#7201a8"
          ],
          [
           0.3333333333333333,
           "#9c179e"
          ],
          [
           0.4444444444444444,
           "#bd3786"
          ],
          [
           0.5555555555555556,
           "#d8576b"
          ],
          [
           0.6666666666666666,
           "#ed7953"
          ],
          [
           0.7777777777777778,
           "#fb9f3a"
          ],
          [
           0.8888888888888888,
           "#fdca26"
          ],
          [
           1,
           "#f0f921"
          ]
         ]
        },
        "legend": {
         "tracegroupgap": 0
        },
        "template": {
         "data": {
          "bar": [
           {
            "error_x": {
             "color": "#2a3f5f"
            },
            "error_y": {
             "color": "#2a3f5f"
            },
            "marker": {
             "line": {
              "color": "#E5ECF6",
              "width": 0.5
             }
            },
            "type": "bar"
           }
          ],
          "barpolar": [
           {
            "marker": {
             "line": {
              "color": "#E5ECF6",
              "width": 0.5
             }
            },
            "type": "barpolar"
           }
          ],
          "carpet": [
           {
            "aaxis": {
             "endlinecolor": "#2a3f5f",
             "gridcolor": "white",
             "linecolor": "white",
             "minorgridcolor": "white",
             "startlinecolor": "#2a3f5f"
            },
            "baxis": {
             "endlinecolor": "#2a3f5f",
             "gridcolor": "white",
             "linecolor": "white",
             "minorgridcolor": "white",
             "startlinecolor": "#2a3f5f"
            },
            "type": "carpet"
           }
          ],
          "choropleth": [
           {
            "colorbar": {
             "outlinewidth": 0,
             "ticks": ""
            },
            "type": "choropleth"
           }
          ],
          "contour": [
           {
            "colorbar": {
             "outlinewidth": 0,
             "ticks": ""
            },
            "colorscale": [
             [
              0,
              "#0d0887"
             ],
             [
              0.1111111111111111,
              "#46039f"
             ],
             [
              0.2222222222222222,
              "#7201a8"
             ],
             [
              0.3333333333333333,
              "#9c179e"
             ],
             [
              0.4444444444444444,
              "#bd3786"
             ],
             [
              0.5555555555555556,
              "#d8576b"
             ],
             [
              0.6666666666666666,
              "#ed7953"
             ],
             [
              0.7777777777777778,
              "#fb9f3a"
             ],
             [
              0.8888888888888888,
              "#fdca26"
             ],
             [
              1,
              "#f0f921"
             ]
            ],
            "type": "contour"
           }
          ],
          "contourcarpet": [
           {
            "colorbar": {
             "outlinewidth": 0,
             "ticks": ""
            },
            "type": "contourcarpet"
           }
          ],
          "heatmap": [
           {
            "colorbar": {
             "outlinewidth": 0,
             "ticks": ""
            },
            "colorscale": [
             [
              0,
              "#0d0887"
             ],
             [
              0.1111111111111111,
              "#46039f"
             ],
             [
              0.2222222222222222,
              "#7201a8"
             ],
             [
              0.3333333333333333,
              "#9c179e"
             ],
             [
              0.4444444444444444,
              "#bd3786"
             ],
             [
              0.5555555555555556,
              "#d8576b"
             ],
             [
              0.6666666666666666,
              "#ed7953"
             ],
             [
              0.7777777777777778,
              "#fb9f3a"
             ],
             [
              0.8888888888888888,
              "#fdca26"
             ],
             [
              1,
              "#f0f921"
             ]
            ],
            "type": "heatmap"
           }
          ],
          "heatmapgl": [
           {
            "colorbar": {
             "outlinewidth": 0,
             "ticks": ""
            },
            "colorscale": [
             [
              0,
              "#0d0887"
             ],
             [
              0.1111111111111111,
              "#46039f"
             ],
             [
              0.2222222222222222,
              "#7201a8"
             ],
             [
              0.3333333333333333,
              "#9c179e"
             ],
             [
              0.4444444444444444,
              "#bd3786"
             ],
             [
              0.5555555555555556,
              "#d8576b"
             ],
             [
              0.6666666666666666,
              "#ed7953"
             ],
             [
              0.7777777777777778,
              "#fb9f3a"
             ],
             [
              0.8888888888888888,
              "#fdca26"
             ],
             [
              1,
              "#f0f921"
             ]
            ],
            "type": "heatmapgl"
           }
          ],
          "histogram": [
           {
            "marker": {
             "colorbar": {
              "outlinewidth": 0,
              "ticks": ""
             }
            },
            "type": "histogram"
           }
          ],
          "histogram2d": [
           {
            "colorbar": {
             "outlinewidth": 0,
             "ticks": ""
            },
            "colorscale": [
             [
              0,
              "#0d0887"
             ],
             [
              0.1111111111111111,
              "#46039f"
             ],
             [
              0.2222222222222222,
              "#7201a8"
             ],
             [
              0.3333333333333333,
              "#9c179e"
             ],
             [
              0.4444444444444444,
              "#bd3786"
             ],
             [
              0.5555555555555556,
              "#d8576b"
             ],
             [
              0.6666666666666666,
              "#ed7953"
             ],
             [
              0.7777777777777778,
              "#fb9f3a"
             ],
             [
              0.8888888888888888,
              "#fdca26"
             ],
             [
              1,
              "#f0f921"
             ]
            ],
            "type": "histogram2d"
           }
          ],
          "histogram2dcontour": [
           {
            "colorbar": {
             "outlinewidth": 0,
             "ticks": ""
            },
            "colorscale": [
             [
              0,
              "#0d0887"
             ],
             [
              0.1111111111111111,
              "#46039f"
             ],
             [
              0.2222222222222222,
              "#7201a8"
             ],
             [
              0.3333333333333333,
              "#9c179e"
             ],
             [
              0.4444444444444444,
              "#bd3786"
             ],
             [
              0.5555555555555556,
              "#d8576b"
             ],
             [
              0.6666666666666666,
              "#ed7953"
             ],
             [
              0.7777777777777778,
              "#fb9f3a"
             ],
             [
              0.8888888888888888,
              "#fdca26"
             ],
             [
              1,
              "#f0f921"
             ]
            ],
            "type": "histogram2dcontour"
           }
          ],
          "mesh3d": [
           {
            "colorbar": {
             "outlinewidth": 0,
             "ticks": ""
            },
            "type": "mesh3d"
           }
          ],
          "parcoords": [
           {
            "line": {
             "colorbar": {
              "outlinewidth": 0,
              "ticks": ""
             }
            },
            "type": "parcoords"
           }
          ],
          "pie": [
           {
            "automargin": true,
            "type": "pie"
           }
          ],
          "scatter": [
           {
            "marker": {
             "colorbar": {
              "outlinewidth": 0,
              "ticks": ""
             }
            },
            "type": "scatter"
           }
          ],
          "scatter3d": [
           {
            "line": {
             "colorbar": {
              "outlinewidth": 0,
              "ticks": ""
             }
            },
            "marker": {
             "colorbar": {
              "outlinewidth": 0,
              "ticks": ""
             }
            },
            "type": "scatter3d"
           }
          ],
          "scattercarpet": [
           {
            "marker": {
             "colorbar": {
              "outlinewidth": 0,
              "ticks": ""
             }
            },
            "type": "scattercarpet"
           }
          ],
          "scattergeo": [
           {
            "marker": {
             "colorbar": {
              "outlinewidth": 0,
              "ticks": ""
             }
            },
            "type": "scattergeo"
           }
          ],
          "scattergl": [
           {
            "marker": {
             "colorbar": {
              "outlinewidth": 0,
              "ticks": ""
             }
            },
            "type": "scattergl"
           }
          ],
          "scattermapbox": [
           {
            "marker": {
             "colorbar": {
              "outlinewidth": 0,
              "ticks": ""
             }
            },
            "type": "scattermapbox"
           }
          ],
          "scatterpolar": [
           {
            "marker": {
             "colorbar": {
              "outlinewidth": 0,
              "ticks": ""
             }
            },
            "type": "scatterpolar"
           }
          ],
          "scatterpolargl": [
           {
            "marker": {
             "colorbar": {
              "outlinewidth": 0,
              "ticks": ""
             }
            },
            "type": "scatterpolargl"
           }
          ],
          "scatterternary": [
           {
            "marker": {
             "colorbar": {
              "outlinewidth": 0,
              "ticks": ""
             }
            },
            "type": "scatterternary"
           }
          ],
          "surface": [
           {
            "colorbar": {
             "outlinewidth": 0,
             "ticks": ""
            },
            "colorscale": [
             [
              0,
              "#0d0887"
             ],
             [
              0.1111111111111111,
              "#46039f"
             ],
             [
              0.2222222222222222,
              "#7201a8"
             ],
             [
              0.3333333333333333,
              "#9c179e"
             ],
             [
              0.4444444444444444,
              "#bd3786"
             ],
             [
              0.5555555555555556,
              "#d8576b"
             ],
             [
              0.6666666666666666,
              "#ed7953"
             ],
             [
              0.7777777777777778,
              "#fb9f3a"
             ],
             [
              0.8888888888888888,
              "#fdca26"
             ],
             [
              1,
              "#f0f921"
             ]
            ],
            "type": "surface"
           }
          ],
          "table": [
           {
            "cells": {
             "fill": {
              "color": "#EBF0F8"
             },
             "line": {
              "color": "white"
             }
            },
            "header": {
             "fill": {
              "color": "#C8D4E3"
             },
             "line": {
              "color": "white"
             }
            },
            "type": "table"
           }
          ]
         },
         "layout": {
          "annotationdefaults": {
           "arrowcolor": "#2a3f5f",
           "arrowhead": 0,
           "arrowwidth": 1
          },
          "coloraxis": {
           "colorbar": {
            "outlinewidth": 0,
            "ticks": ""
           }
          },
          "colorscale": {
           "diverging": [
            [
             0,
             "#8e0152"
            ],
            [
             0.1,
             "#c51b7d"
            ],
            [
             0.2,
             "#de77ae"
            ],
            [
             0.3,
             "#f1b6da"
            ],
            [
             0.4,
             "#fde0ef"
            ],
            [
             0.5,
             "#f7f7f7"
            ],
            [
             0.6,
             "#e6f5d0"
            ],
            [
             0.7,
             "#b8e186"
            ],
            [
             0.8,
             "#7fbc41"
            ],
            [
             0.9,
             "#4d9221"
            ],
            [
             1,
             "#276419"
            ]
           ],
           "sequential": [
            [
             0,
             "#0d0887"
            ],
            [
             0.1111111111111111,
             "#46039f"
            ],
            [
             0.2222222222222222,
             "#7201a8"
            ],
            [
             0.3333333333333333,
             "#9c179e"
            ],
            [
             0.4444444444444444,
             "#bd3786"
            ],
            [
             0.5555555555555556,
             "#d8576b"
            ],
            [
             0.6666666666666666,
             "#ed7953"
            ],
            [
             0.7777777777777778,
             "#fb9f3a"
            ],
            [
             0.8888888888888888,
             "#fdca26"
            ],
            [
             1,
             "#f0f921"
            ]
           ],
           "sequentialminus": [
            [
             0,
             "#0d0887"
            ],
            [
             0.1111111111111111,
             "#46039f"
            ],
            [
             0.2222222222222222,
             "#7201a8"
            ],
            [
             0.3333333333333333,
             "#9c179e"
            ],
            [
             0.4444444444444444,
             "#bd3786"
            ],
            [
             0.5555555555555556,
             "#d8576b"
            ],
            [
             0.6666666666666666,
             "#ed7953"
            ],
            [
             0.7777777777777778,
             "#fb9f3a"
            ],
            [
             0.8888888888888888,
             "#fdca26"
            ],
            [
             1,
             "#f0f921"
            ]
           ]
          },
          "colorway": [
           "#636efa",
           "#EF553B",
           "#00cc96",
           "#ab63fa",
           "#FFA15A",
           "#19d3f3",
           "#FF6692",
           "#B6E880",
           "#FF97FF",
           "#FECB52"
          ],
          "font": {
           "color": "#2a3f5f"
          },
          "geo": {
           "bgcolor": "white",
           "lakecolor": "white",
           "landcolor": "#E5ECF6",
           "showlakes": true,
           "showland": true,
           "subunitcolor": "white"
          },
          "hoverlabel": {
           "align": "left"
          },
          "hovermode": "closest",
          "mapbox": {
           "style": "light"
          },
          "paper_bgcolor": "white",
          "plot_bgcolor": "#E5ECF6",
          "polar": {
           "angularaxis": {
            "gridcolor": "white",
            "linecolor": "white",
            "ticks": ""
           },
           "bgcolor": "#E5ECF6",
           "radialaxis": {
            "gridcolor": "white",
            "linecolor": "white",
            "ticks": ""
           }
          },
          "scene": {
           "xaxis": {
            "backgroundcolor": "#E5ECF6",
            "gridcolor": "white",
            "gridwidth": 2,
            "linecolor": "white",
            "showbackground": true,
            "ticks": "",
            "zerolinecolor": "white"
           },
           "yaxis": {
            "backgroundcolor": "#E5ECF6",
            "gridcolor": "white",
            "gridwidth": 2,
            "linecolor": "white",
            "showbackground": true,
            "ticks": "",
            "zerolinecolor": "white"
           },
           "zaxis": {
            "backgroundcolor": "#E5ECF6",
            "gridcolor": "white",
            "gridwidth": 2,
            "linecolor": "white",
            "showbackground": true,
            "ticks": "",
            "zerolinecolor": "white"
           }
          },
          "shapedefaults": {
           "line": {
            "color": "#2a3f5f"
           }
          },
          "ternary": {
           "aaxis": {
            "gridcolor": "white",
            "linecolor": "white",
            "ticks": ""
           },
           "baxis": {
            "gridcolor": "white",
            "linecolor": "white",
            "ticks": ""
           },
           "bgcolor": "#E5ECF6",
           "caxis": {
            "gridcolor": "white",
            "linecolor": "white",
            "ticks": ""
           }
          },
          "title": {
           "x": 0.05
          },
          "xaxis": {
           "automargin": true,
           "gridcolor": "white",
           "linecolor": "white",
           "ticks": "",
           "title": {
            "standoff": 15
           },
           "zerolinecolor": "white",
           "zerolinewidth": 2
          },
          "yaxis": {
           "automargin": true,
           "gridcolor": "white",
           "linecolor": "white",
           "ticks": "",
           "title": {
            "standoff": 15
           },
           "zerolinecolor": "white",
           "zerolinewidth": 2
          }
         }
        },
        "title": {
         "text": "Reading Proficiency (%) vs. General Fund Expenditures ($) by School District"
        },
        "xaxis": {
         "anchor": "y",
         "domain": [
          0,
          1
         ],
         "title": {
          "text": "General Fund Expenditures"
         },
         "type": "log"
        },
        "yaxis": {
         "anchor": "x",
         "domain": [
          0,
          1
         ],
         "title": {
          "text": "Reading Proficiency"
         }
        }
       }
      },
      "text/html": [
       "<div>\n",
       "        \n",
       "        \n",
       "            <div id=\"132ff8ea-2451-4919-b6d6-2a69d66e3a20\" class=\"plotly-graph-div\" style=\"height:525px; width:100%;\"></div>\n",
       "            <script type=\"text/javascript\">\n",
       "                require([\"plotly\"], function(Plotly) {\n",
       "                    window.PLOTLYENV=window.PLOTLYENV || {};\n",
       "                    \n",
       "                if (document.getElementById(\"132ff8ea-2451-4919-b6d6-2a69d66e3a20\")) {\n",
       "                    Plotly.newPlot(\n",
       "                        '132ff8ea-2451-4919-b6d6-2a69d66e3a20',\n",
       "                        [{\"customdata\": [[\"Aitkin Public School District\"], [\"Minneapolis Public School District\"], [\"Hill City Public School District\"], [\"McGregor Public School District\"], [\"South St. Paul Public School District\"], [\"Anoka-Hennepin Public School District\"], [\"Centennial Public School District\"], [\"Columbia Heights Public School District\"], [\"Fridley Public School District\"], [\"St. Francis Public School District\"], [\"Spring Lake Park Public Schools\"], [\"Detroit Lakes Public School District\"], [\"Frazee-Vergas Public School District\"], [\"Pine Point Public School District\"], [\"Bemidji Public School District\"], [\"Blackduck Public School District\"], [\"Kelliher Public School District\"], [\"Red Lake Public School District\"], [\"Sauk Rapids-Rice Public Schools\"], [\"Foley Public School District\"], [\"St. Clair Public School District\"], [\"Mankato Public School District\"], [\"Comfrey Public School District\"], [\"Sleepy Eye Public School District\"], [\"Springfield Public School District\"], [\"New Ulm Public School District\"], [\"Barnum Public School District\"], [\"Carlton Public School District\"], [\"Cloquet Public School District\"], [\"Cromwell-Wright Public Schools\"], [\"Moose Lake Public School District\"], [\"Esko Public School District\"], [\"Wrenshall Public School District\"], [\"Central Public School District\"], [\"Waconia Public School District\"], [\"Watertown-Mayer Public School District\"], [\"Eastern Carver County Public Schools\"], [\"Walker-Hackensack-Akeley School District\"], [\"Cass Lake-Bena Public Schools\"], [\"Pillager Public School District\"], [\"Northland Community Schools\"], [\"Montevideo Public School District\"], [\"North Branch Public Schools\"], [\"Rush City Public School District\"], [\"Barnesville Public School District\"], [\"Hawley Public School District\"], [\"Moorhead Public School District\"], [\"Bagley Public School District\"], [\"Cook County Public Schools\"], [\"Mountain Lake Public Schools\"], [\"Windom Public School District\"], [\"Brainerd Public School District\"], [\"Crosby-Ironton Public School District\"], [\"Pequot Lakes Public Schools\"], [\"Burnsville Public School District\"], [\"Farmington Public School District\"], [\"Lakeville Public School District\"], [\"Randolph Public School District\"], [\"Rosemount-Apple Valley-Eagan\"], [\"West St. Paul-Mendota Heights-Eagan\"], [\"Inver Grove Heights Schools\"], [\"Hastings Public School District\"], [\"Hayfield Public School District\"], [\"Kasson-Mantorville School District\"], [\"Alexandria Public School District\"], [\"Osakis Public School District\"], [\"Chatfield Public Schools\"], [\"Lanesboro Public School District\"], [\"Mabel-Canton Public School District\"], [\"Rushford-Peterson Public Schools\"], [\"Albert Lea Public School District\"], [\"Alden-Conger Public School District\"], [\"Cannon Falls Public School District\"], [\"Goodhue Public School District\"], [\"Pine Island Public School District\"], [\"Red Wing Public School District\"], [\"Ashby Public School District\"], [\"Herman-Norcross School District\"], [\"Hopkins Public School District\"], [\"Bloomington Public School District\"], [\"Eden Prairie Public School District\"], [\"Edina Public School District\"], [\"Minnetonka Public School District\"], [\"Westonka Public School District\"], [\"Orono Public School District\"], [\"Osseo Public School District\"], [\"Richfield Public School District\"], [\"Robbinsdale Public School District\"], [\"St. Anthony-New Brighton Schools\"], [\"St. Louis Park Public School District\"], [\"Wayzata Public School District\"], [\"Brooklyn Center School District\"], [\"Houston Public School District\"], [\"Spring Grove School District\"], [\"Caledonia Public School District\"], [\"La Crescent-Hokah School District\"], [\"Laporte Public School District\"], [\"Nevis Public School District\"], [\"Park Rapids Public School District\"], [\"Braham Public School District\"], [\"Greenway Public School District\"], [\"Deer River Public School District\"], [\"Grand Rapids Public School District\"], [\"Nashwauk-Keewatin School District\"], [\"Heron Lake-Okabena School District\"], [\"Mora Public School District\"], [\"Ogilvie Public School District\"], [\"New London-Spicer School District\"], [\"Willmar Public School District\"], [\"Lancaster Public School District\"], [\"International Falls School District\"], [\"Littlefork-Big Falls School District\"], [\"South Koochiching School District\"], [\"Dawson-Boyd Public School District\"], [\"Lake Superior Public School District\"], [\"Lake of The Woods School District\"], [\"Cleveland Public School District\"], [\"Hendricks Public School District\"], [\"Ivanhoe Public School District\"], [\"Lake Benton Public School District\"], [\"Marshall Public School District\"], [\"Minneota Public School District\"], [\"Lynd Public School District\"], [\"Hutchinson Public School District\"], [\"Lester Prairie Public School District\"], [\"Mahnomen Public School District\"], [\"Waubun-Ogema-White Earth Public Schools\"], [\"Marshall County Central Schools\"], [\"Grygla Public School District\"], [\"Truman Public School District\"], [\"Eden Valley-Watkins School District\"], [\"Litchfield Public School District\"], [\"Dassel-Cokato Public School District\"], [\"Isle Public School District\"], [\"Princeton Public School District\"], [\"Onamia Public School District\"], [\"Little Falls Public School District\"], [\"Pierz Public School District\"], [\"Royalton Public School District\"], [\"Swanville Public School District\"], [\"Upsala Public School District\"], [\"Austin Public School District\"], [\"Grand Meadow Public School District\"], [\"Lyle Public School District\"], [\"LeRoy-Ostrander Public Schools\"], [\"Southland Public School District\"], [\"Fulda Public School District\"], [\"Nicollet Public School District\"], [\"St. Peter Public School District\"], [\"Adrian Public School District\"], [\"Ellsworth Public School District\"], [\"Worthington Public School District\"], [\"Byron Public School District\"], [\"Dover-Eyota Public School District\"], [\"Stewartville Public School District\"], [\"Rochester Public School District\"], [\"Battle Lake Public School District\"], [\"Fergus Falls Public School District\"], [\"Henning Public School District\"], [\"Parkers Prairie Public School District\"], [\"Pelican Rapids Public School District\"], [\"Perham-Dent Public School District\"], [\"Underwood Public School District\"], [\"New York Mills Public School District\"], [\"Goodridge Public School District\"], [\"Thief River Falls School District\"], [\"Willow River Public School District\"], [\"Pine City Public School District\"], [\"Edgerton Public School District\"], [\"Climax-Shelly Public Schools\"], [\"Crookston Public School District\"], [\"East Grand Forks Public School District\"], [\"Fertile-Beltrami School District\"], [\"Fisher Public School District\"], [\"Fosston Public School District\"], [\"Mounds View Public School District\"], [\"North St. Paul-Maplewood-Oakdale School District\"], [\"Roseville Public School District\"], [\"White Bear Lake School District\"], [\"St. Paul Public School District\"], [\"Red Lake Falls Public School District\"], [\"Milroy Public School District\"], [\"Wabasso Public School District\"], [\"Faribault Public School District\"], [\"Northfield Public School District\"], [\"Hills-Beaver Creek School District\"], [\"Badger Public School District\"], [\"Roseau Public School District\"], [\"Warroad Public School District\"], [\"Chisholm Public School District\"], [\"Ely Public School District\"], [\"Floodwood Public School District\"], [\"Hermantown Public School District\"], [\"Hibbing Public School District\"], [\"Proctor Public School District\"], [\"Virginia Public School District\"], [\"Nett Lake Public School District\"], [\"Duluth Public School District\"], [\"Mountain Iron-Buhl School District\"], [\"Belle Plaine Public School District\"], [\"Jordan Public School District\"], [\"Prior Lake-Savage Area Schools\"], [\"Shakopee Public School District\"], [\"New Prague Area Schools\"], [\"Becker Public School District\"], [\"Big Lake Public School District\"], [\"Elk River Public School District\"], [\"Holdingford Public School District\"], [\"Kimball Public School District\"], [\"Melrose Public School District\"], [\"Paynesville Public School District\"], [\"St. Cloud Public School District\"], [\"Sauk Centre Public School District\"], [\"Albany Public School District\"], [\"Sartell-St. Stephen School District\"], [\"Rocori Public School District\"], [\"Blooming Prairie Public School District\"], [\"Owatonna Public School District\"], [\"Medford Public School District\"], [\"Hancock Public School District\"], [\"Chokio-Alberta Public School District\"], [\"Kerkhoven-Murdock-Sunburg\"], [\"Benson Public School District\"], [\"Bertha-Hewitt Public School District\"], [\"Browerville Public School District\"], [\"Browns Valley Public School District\"], [\"Wheaton Area Public School District\"], [\"Wabasha-Kellogg Public School District\"], [\"Lake City Public School District\"], [\"Verndale Public School District\"], [\"Sebeka Public School District\"], [\"Menahga Public School District\"], [\"Waseca Public School District\"], [\"Forest Lake Public School District\"], [\"Mahtomedi Public School District\"], [\"Fillmore Central\"], [\"South Washington County School District\"], [\"Stillwater Area Public School District\"], [\"Butterfield Public School District\"], [\"Madelia Public School District\"], [\"St. James Public School District\"], [\"Breckenridge Public School District\"], [\"Rothsay Public School District\"], [\"Campbell-Tintah Public School District\"], [\"Lewiston-Altura Public School District\"], [\"St. Charles Public School District\"], [\"Winona Area Public School District\"], [\"Annandale Public School District\"], [\"Buffalo-Hanover-Montrose Public Schools\"], [\"Delano Public School District\"], [\"Maple Lake Public School District\"], [\"Monticello Public School District\"], [\"Rockford Public School District\"], [\"St. Michael-Albertville School District\"], [\"Canby Public School District\"], [\"Cambridge-Isanti Public School District\"], [\"Milaca Public School District\"], [\"Ulen-Hitterdal Public School District\"], [\"Lake Crystal-Wellcome Memorial\"], [\"Triton School District\"], [\"United South Central School District\"], [\"Maple River School District\"], [\"Kingsland Public School District\"], [\"St. Louis County School District\"], [\"Waterville-Elysian-Morristown Public School District\"], [\"Chisago Lakes School District\"], [\"Minnewaska School District\"], [\"Eveleth-Gilbert School District\"], [\"Wadena-Deer Creek School District\"], [\"Buffalo Lake-Hector-Stewart Public Schools\"], [\"Dilworth-Glyndon-Felton\"], [\"Hinckley-Finlayson School District\"], [\"Lakeview School District\"], [\"NRHEG School District\"], [\"Murray County Central School District\"], [\"Staples-Motley School District\"], [\"Kittson Central School District\"], [\"Kenyon-Wanamingo School District\"], [\"Pine River-Backus Public School District\"], [\"Warren-Alvarado-Oslo School District\"], [\"MACCRAY School District\"], [\"Luverne Public School District\"], [\"Yellow Medicine East\"], [\"Norman County East School District\"], [\"Sibley East School District\"], [\"Clearbrook-Gonvick School District\"], [\"West Central Area\"], [\"Tri-County School District\"], [\"Belgrade-Brooten-Elrosa Public School District\"], [\"G.F.W. Public School District\"], [\"A.C.G.C. Public School District\"], [\"Le Sueur-Henderson School District\"], [\"Martin County West School District\"], [\"Norman County West School District\"], [\"Bird Island-Olivia-Lake Lillian Public School District\"], [\"Granada-Huntley-East Chain\"], [\"East Central School District\"], [\"Win-E-Mac School District\"], [\"Greenbush-Middle River School District\"], [\"Howard Lake-Waverly-Winsted\"], [\"Pipestone Area School District\"], [\"Mesabi East School District\"], [\"Fairmont Area School District\"], [\"Long Prairie-Grey Eagle School District\"], [\"Cedar Mountain School District\"], [\"Morris Area Public Schools\"], [\"Zumbrota-Mazeppa School District\"], [\"Janesville-Waldorf-Pemberton\"], [\"Lac qui Parle Valley School District\"], [\"Ada-Borup Public School District\"], [\"Stephen-Argyle Central Schools\"], [\"Glencoe-Silver Lake School District\"], [\"Blue Earth Area Public Schools\"], [\"Red Rock Central School District\"], [\"Glenville-Emmons School District\"], [\"Clinton-Graceville-Beardsley\"], [\"Lake Park Audubon School District\"], [\"Renville County West School District\"], [\"Jackson County Central School District\"], [\"Redwood Area School District\"], [\"Westbrook-Walnut Grove Schools\"], [\"Plainview-Elgin-Millville\"], [\"RTR Public Schools\"], [\"Ortonville Public Schools\"], [\"Tracy Area Public School District\"], [\"Tri-City United School District\"], [\"Red Lake County Central Public Schools\"], [\"Round Lake-Brewster Public Schools\"], [\"Brandon-Evansville Public Schools\"]], \"hovertemplate\": \"General Fund Expenditures=%{x}<br>Reading Proficiency=%{marker.color}<br>District=%{customdata[0]}<extra></extra>\", \"legendgroup\": \"\", \"marker\": {\"color\": [57.638571400000004, 46.48, 46.2828571, 49.2585714, 45.0614286, 65.0485714, 68.8528571, 35.0957143, 44.181428600000004, 60.72571429999999, 56.4728571, 61.02571429999999, 61.6714286, 28.635, 55.55571429999999, 48.21, 44.6985714, 24.03, 57.268571400000006, 69.26, 60.0714286, 64.1842857, 59.6433333, 58.3171429, 68.5971429, 57.73571429999999, 70.3485714, 56.575714299999994, 67.3271429, 55.3514286, 54.161428599999994, 80.6128571, 54.7228571, 63.698571400000006, 70.69428570000001, 64.5914286, 67.0157143, 53.9128571, 35.2757143, 59.75, 39.8033333, 58.5785714, 55.52, 67.0014286, 77.0514286, 69.0814286, 52.7485714, 49.7742857, 58.53, 56.58428570000001, 57.6328571, 67.92, 64.2871429, 70.4228571, 48.2771429, 57.5828571, 73.31, 51.1328571, 65.2914286, 59.68, 51.64, 65.1, 48.9057143, 66.5071429, 65.6257143, 62.0785714, 70.5128571, 63.2571429, 60.231428599999994, 62.105714299999995, 46.818571399999996, 58.605714299999995, 62.47428570000001, 56.1785714, 68.66571429999999, 54.838571400000006, 58.981428599999994, 60.0, 59.4985714, 53.51571429999999, 73.5371429, 77.43285709999999, 81.4842857, 77.6071429, 78.8314286, 54.94571429999999, 43.4857143, 48.7471429, 67.5614286, 58.918571400000005, 80.79571429999999, 22.4285714, 57.9471429, 68.2514286, 61.075714299999994, 55.13, 48.0328571, 68.3614286, 51.7957143, 59.8514286, 61.72428570000001, 53.5571429, 61.4971429, 50.7628571, 46.092857099999996, 65.78428570000001, 44.3028571, 69.03, 46.68, 71.958, 62.78, 60.871428599999994, 48.4671429, 64.4714286, 61.93, 47.2957143, 66.78428570000001, 73.2, 52.7366667, 78.1825, 58.6671429, 73.0571429, 40.548, 66.31428570000001, 55.715714299999995, 33.2942857, 40.8685714, 62.401428599999996, 52.5416667, 57.6085714, 67.6214286, 65.1457143, 72.5114286, 53.89, 63.41571429999999, 36.7657143, 48.0142857, 61.064285700000006, 52.4042857, 54.4328571, 53.244285700000006, 43.5071429, 53.91571429999999, 42.0285714, 63.8471429, 56.45428570000001, 53.465714299999995, 56.3871429, 59.4428571, 57.6014286, 65.7, 44.4442857, 76.0614286, 63.342857099999996, 61.1271429, 55.3985714, 72.18285709999999, 64.8671429, 64.71571429999999, 64.7771429, 57.25428570000001, 61.97428570000001, 59.61, 60.0085714, 48.214285700000005, 60.30571429999999, 58.0871429, 55.638571400000004, 52.6228571, 51.8114286, 55.4271429, 54.564285700000006, 71.70428570000001, 42.4128571, 66.3328571, 67.5314286, 50.79, 56.36428570000001, 64.88, 39.59, 59.0128571, 46.2, 55.738571400000005, 41.67, 68.4371429, 67.6771429, 69.2442857, 64.56857140000001, 66.94428570000001, 59.0128571, 63.22, 48.578, 71.1714286, 67.31, 59.70571429999999, 67.4685714, 56.6666667, 62.4971429, 63.2328571, 63.261428599999995, 66.2442857, 68.2771429, 62.3271429, 69.8828571, 64.8314286, 63.1128571, 70.02428570000001, 66.67428570000001, 69.8628571, 54.6128571, 59.9428571, 43.7257143, 62.33571429999999, 68.28428570000001, 72.1571429, 64.53, 63.7628571, 53.9128571, 52.7428571, 67.2771429, 48.0225, 53.4671429, 51.4814286, 59.574285700000004, 41.8114286, 39.31, 64.5514286, 65.0828571, 56.11571429999999, 52.7028571, 61.1185714, 57.52428570000001, 55.07, 60.82, 78.15, 60.035714299999995, 67.9471429, 68.0985714, 30.1866667, 53.2528571, 57.11, 55.05428570000001, 59.378571400000006, 54.7375, 63.0528571, 64.9857143, 48.8085714, 66.6757143, 65.1242857, 79.00857140000001, 58.98571429999999, 66.9028571, 67.9671429, 76.18285709999999, 66.8328571, 62.12571429999999, 58.3371429, 53.791428599999996, 62.4985714, 50.0985714, 60.744285700000006, 66.9857143, 62.0528571, 54.97571429999999, 67.18, 65.55, 61.4614286, 60.7171429, 55.878571400000006, 64.3071429, 62.005714299999994, 40.7828571, 64.71, 58.0628571, 65.6242857, 48.35, 70.4471429, 53.331428599999995, 55.38, 53.871428599999994, 52.9328571, 60.8528571, 53.58, 52.9871429, 50.6314286, 56.32, 69.4728571, 66.37, 63.77428570000001, 61.41, 56.511428599999995, 52.965714299999995, 57.52571429999999, 88.46, 58.15857140000001, 47.1428571, 51.1885714, 66.1842857, 59.464285700000005, 60.3914286, 55.47571429999999, 55.425714299999996, 58.14, 38.3971429, 57.30571429999999, 60.9228571, 66.02571429999999, 53.7428571, 52.48428570000001, 59.52428570000001, 62.0628571, 60.0785714, 54.34142859999999, 69.02428570000001, 46.8757143, 76.6585714, 60.8028571, 54.88, 54.3171429, 57.7514286, 54.8528571, 67.1542857, 60.691428599999995, 58.157142900000004, 65.64857140000001, 57.221428599999996, 57.55571429999999, 48.98, 62.244285700000006], \"coloraxis\": \"coloraxis\", \"symbol\": \"circle\"}, \"mode\": \"markers\", \"name\": \"\", \"showlegend\": false, \"type\": \"scatter\", \"x\": [12036522, 439046660, 3787461, 5596677, 34984783, 427741016, 71503817, 34927109, 33593832, 42954903, 56496807, 31624477, 9788592, 1431696, 57707180, 7002715, 4739154, 30482917, 44715087, 18546832, 6180560, 87845043, 1910965, 6073846, 5576610, 23115819, 7844835, 5305718, 27810520, 4906784, 6419007, 10796321, 3952098, 9205468, 41590079, 14911126, 107996917, 9261043, 21507053, 10312923, 6038520, 15043396, 27562973, 7891842, 8618085, 8766777, 72279388, 11000574, 5943384, 5562343, 12649677, 71227350, 11427562, 15564016, 102758358, 71285939, 125766054, 6804649, 289752744, 58530102, 36658026, 47256101, 6966813, 19343642, 45346085, 7631697, 8766530, 3613783, 2918326, 7449969, 38441564, 5525741, 11755018, 6072059, 12474746, 28748425, 2551563, 1604621, 81156042, 127973644, 98200311, 98223666, 115377537, 27509910, 33235969, 222122568, 45318424, 133467295, 18558636, 58543881, 133911351, 24748211, 19059114, 4207056, 7693922, 12031091, 3773136, 5852396, 16104587, 6760399, 12708016, 12105608, 45181414, 7359072, 3900465, 15524774, 5297964, 15420092, 41869252, 2663238, 11355361, 4017182, 5317391, 6225734, 15344784, 5571088, 4664608, 2161147, 1418909, 2039518, 25908771, 5172424, 2552000, 29338751, 4332496, 9146505, 7963601, 4957405, 2773895, 2502616, 9056589, 16221008, 20454365, 4747300, 33130844, 9390762, 25026133, 10189027, 8440700, 2999605, 3809450, 53287195, 5035179, 3272497, 3581201, 5708811, 4745658, 4287203, 23104762, 5923858, 1931174, 32546249, 18758087, 10019353, 18817324, 189372896, 3704610, 25374444, 4251043, 6431599, 8614787, 15271710, 5222568, 6706695, 3278136, 19967183, 4674236, 17968280, 4162723, 2151649, 12715979, 17686216, 5543145, 2856133, 7021437, 133923939, 113727860, 82594748, 102105396, 439053778, 4449884, 1129854, 4318872, 42164158, 47720683, 3871636, 3146215, 11945939, 12008594, 8113580, 7150004, 2947231, 18925522, 27959518, 19787213, 19983684, 1773774, 111622631, 6855707, 14951404, 18040300, 87163913, 75895117, 39848526, 29895458, 30150488, 138474993, 9635734, 7352283, 13303761, 8868731, 103398210, 11047164, 17089551, 36147962, 21712045, 7208294, 52113289, 7943135, 3680472, 2233793, 6482598, 9265765, 5212284, 5562156, 1977668, 4836906, 5959455, 11664174, 5119398, 5234401, 8821009, 20317439, 62582630, 34246154, 7468828, 201538843, 94177645, 2477941, 6380684, 10567249, 7320207, 3062816, 1912706, 7214946, 9596211, 36137814, 18442424, 59315590, 25589951, 8700047, 50637193, 16417041, 55487672, 5480820, 49839951, 18785271, 3508939, 8825009, 9955048, 8165950, 9650272, 5282881, 26947153, 9062443, 36444116, 15730276, 11253169, 10328152, 6146990, 15210547, 10070689, 6536438, 8367463, 7907944, 12249256, 3526781, 8775631, 8716103, 5858244, 8313846, 12521450, 8244105, 3444826, 10930383, 4750279, 9139582, 2637397, 6728090, 8777787, 8795990, 9878508, 7859210, 2898437, 7736854, 3726441, 7746194, 5159404, 4458991, 12322797, 12085558, 10784509, 17712923, 8893097, 5382521, 10437152, 12434013, 7661013, 9193999, 7613070, 4152162, 16117925, 11378637, 4532341, 3556770, 4013038, 6608086, 6651406, 11970790, 12237498, 4998047, 12679635, 7006903, 6046109, 7076085, 18197086, 4665530, 2552386, 4726135], \"xaxis\": \"x\", \"y\": [57.638571400000004, 46.48, 46.2828571, 49.2585714, 45.0614286, 65.0485714, 68.8528571, 35.0957143, 44.181428600000004, 60.72571429999999, 56.4728571, 61.02571429999999, 61.6714286, 28.635, 55.55571429999999, 48.21, 44.6985714, 24.03, 57.268571400000006, 69.26, 60.0714286, 64.1842857, 59.6433333, 58.3171429, 68.5971429, 57.73571429999999, 70.3485714, 56.575714299999994, 67.3271429, 55.3514286, 54.161428599999994, 80.6128571, 54.7228571, 63.698571400000006, 70.69428570000001, 64.5914286, 67.0157143, 53.9128571, 35.2757143, 59.75, 39.8033333, 58.5785714, 55.52, 67.0014286, 77.0514286, 69.0814286, 52.7485714, 49.7742857, 58.53, 56.58428570000001, 57.6328571, 67.92, 64.2871429, 70.4228571, 48.2771429, 57.5828571, 73.31, 51.1328571, 65.2914286, 59.68, 51.64, 65.1, 48.9057143, 66.5071429, 65.6257143, 62.0785714, 70.5128571, 63.2571429, 60.231428599999994, 62.105714299999995, 46.818571399999996, 58.605714299999995, 62.47428570000001, 56.1785714, 68.66571429999999, 54.838571400000006, 58.981428599999994, 60.0, 59.4985714, 53.51571429999999, 73.5371429, 77.43285709999999, 81.4842857, 77.6071429, 78.8314286, 54.94571429999999, 43.4857143, 48.7471429, 67.5614286, 58.918571400000005, 80.79571429999999, 22.4285714, 57.9471429, 68.2514286, 61.075714299999994, 55.13, 48.0328571, 68.3614286, 51.7957143, 59.8514286, 61.72428570000001, 53.5571429, 61.4971429, 50.7628571, 46.092857099999996, 65.78428570000001, 44.3028571, 69.03, 46.68, 71.958, 62.78, 60.871428599999994, 48.4671429, 64.4714286, 61.93, 47.2957143, 66.78428570000001, 73.2, 52.7366667, 78.1825, 58.6671429, 73.0571429, 40.548, 66.31428570000001, 55.715714299999995, 33.2942857, 40.8685714, 62.401428599999996, 52.5416667, 57.6085714, 67.6214286, 65.1457143, 72.5114286, 53.89, 63.41571429999999, 36.7657143, 48.0142857, 61.064285700000006, 52.4042857, 54.4328571, 53.244285700000006, 43.5071429, 53.91571429999999, 42.0285714, 63.8471429, 56.45428570000001, 53.465714299999995, 56.3871429, 59.4428571, 57.6014286, 65.7, 44.4442857, 76.0614286, 63.342857099999996, 61.1271429, 55.3985714, 72.18285709999999, 64.8671429, 64.71571429999999, 64.7771429, 57.25428570000001, 61.97428570000001, 59.61, 60.0085714, 48.214285700000005, 60.30571429999999, 58.0871429, 55.638571400000004, 52.6228571, 51.8114286, 55.4271429, 54.564285700000006, 71.70428570000001, 42.4128571, 66.3328571, 67.5314286, 50.79, 56.36428570000001, 64.88, 39.59, 59.0128571, 46.2, 55.738571400000005, 41.67, 68.4371429, 67.6771429, 69.2442857, 64.56857140000001, 66.94428570000001, 59.0128571, 63.22, 48.578, 71.1714286, 67.31, 59.70571429999999, 67.4685714, 56.6666667, 62.4971429, 63.2328571, 63.261428599999995, 66.2442857, 68.2771429, 62.3271429, 69.8828571, 64.8314286, 63.1128571, 70.02428570000001, 66.67428570000001, 69.8628571, 54.6128571, 59.9428571, 43.7257143, 62.33571429999999, 68.28428570000001, 72.1571429, 64.53, 63.7628571, 53.9128571, 52.7428571, 67.2771429, 48.0225, 53.4671429, 51.4814286, 59.574285700000004, 41.8114286, 39.31, 64.5514286, 65.0828571, 56.11571429999999, 52.7028571, 61.1185714, 57.52428570000001, 55.07, 60.82, 78.15, 60.035714299999995, 67.9471429, 68.0985714, 30.1866667, 53.2528571, 57.11, 55.05428570000001, 59.378571400000006, 54.7375, 63.0528571, 64.9857143, 48.8085714, 66.6757143, 65.1242857, 79.00857140000001, 58.98571429999999, 66.9028571, 67.9671429, 76.18285709999999, 66.8328571, 62.12571429999999, 58.3371429, 53.791428599999996, 62.4985714, 50.0985714, 60.744285700000006, 66.9857143, 62.0528571, 54.97571429999999, 67.18, 65.55, 61.4614286, 60.7171429, 55.878571400000006, 64.3071429, 62.005714299999994, 40.7828571, 64.71, 58.0628571, 65.6242857, 48.35, 70.4471429, 53.331428599999995, 55.38, 53.871428599999994, 52.9328571, 60.8528571, 53.58, 52.9871429, 50.6314286, 56.32, 69.4728571, 66.37, 63.77428570000001, 61.41, 56.511428599999995, 52.965714299999995, 57.52571429999999, 88.46, 58.15857140000001, 47.1428571, 51.1885714, 66.1842857, 59.464285700000005, 60.3914286, 55.47571429999999, 55.425714299999996, 58.14, 38.3971429, 57.30571429999999, 60.9228571, 66.02571429999999, 53.7428571, 52.48428570000001, 59.52428570000001, 62.0628571, 60.0785714, 54.34142859999999, 69.02428570000001, 46.8757143, 76.6585714, 60.8028571, 54.88, 54.3171429, 57.7514286, 54.8528571, 67.1542857, 60.691428599999995, 58.157142900000004, 65.64857140000001, 57.221428599999996, 57.55571429999999, 48.98, 62.244285700000006], \"yaxis\": \"y\"}, {\"hovertemplate\": \"<b>OLS trendline</b><br>Reading Proficiency = 4.00297e-09 * General Fund Expenditures + 58.8766<br>R<sup>2</sup>=0.000483<br><br>General Fund Expenditures=%{x}<br>Reading Proficiency=%{y} <b>(trend)</b><extra></extra>\", \"legendgroup\": \"\", \"marker\": {\"symbol\": \"circle\"}, \"mode\": \"lines\", \"name\": \"\", \"showlegend\": false, \"type\": \"scatter\", \"x\": [1129854, 1418909, 1431696, 1604621, 1773774, 1910965, 1912706, 1931174, 1977668, 2039518, 2151649, 2161147, 2233793, 2477941, 2502616, 2551563, 2552000, 2552386, 2637397, 2663238, 2773895, 2856133, 2898437, 2918326, 2947231, 2999605, 3062816, 3146215, 3272497, 3278136, 3444826, 3508939, 3526781, 3556770, 3581201, 3613783, 3680472, 3704610, 3726441, 3773136, 3787461, 3809450, 3871636, 3900465, 3952098, 4013038, 4017182, 4152162, 4162723, 4207056, 4251043, 4287203, 4318872, 4332496, 4449884, 4458991, 4532341, 4664608, 4665530, 4674236, 4726135, 4739154, 4745658, 4747300, 4750279, 4836906, 4906784, 4957405, 4998047, 5035179, 5119398, 5159404, 5172424, 5212284, 5222568, 5234401, 5282881, 5297964, 5305718, 5317391, 5382521, 5480820, 5525741, 5543145, 5562156, 5562343, 5571088, 5576610, 5596677, 5708811, 5852396, 5858244, 5923858, 5943384, 5959455, 6038520, 6046109, 6072059, 6073846, 6146990, 6180560, 6225734, 6380684, 6419007, 6431599, 6482598, 6536438, 6608086, 6651406, 6706695, 6728090, 6760399, 6804649, 6855707, 6966813, 7002715, 7006903, 7021437, 7076085, 7150004, 7208294, 7214946, 7320207, 7352283, 7359072, 7449969, 7468828, 7613070, 7631697, 7661013, 7693922, 7736854, 7746194, 7844835, 7859210, 7891842, 7907944, 7943135, 7963601, 8113580, 8165950, 8244105, 8313846, 8367463, 8440700, 8614787, 8618085, 8700047, 8716103, 8766530, 8766777, 8775631, 8777787, 8795990, 8821009, 8825009, 8868731, 8893097, 9056589, 9062443, 9139582, 9146505, 9193999, 9205468, 9261043, 9265765, 9390762, 9596211, 9635734, 9650272, 9788592, 9878508, 9955048, 10019353, 10070689, 10189027, 10312923, 10328152, 10437152, 10567249, 10784509, 10796321, 10930383, 11000574, 11047164, 11253169, 11355361, 11378637, 11427562, 11664174, 11755018, 11945939, 11970790, 12008594, 12031091, 12036522, 12085558, 12105608, 12237498, 12249256, 12322797, 12434013, 12474746, 12521450, 12649677, 12679635, 12708016, 12715979, 13303761, 14911126, 14951404, 15043396, 15210547, 15271710, 15344784, 15420092, 15524774, 15564016, 15730276, 16104587, 16117925, 16221008, 16417041, 17089551, 17686216, 17712923, 17968280, 18040300, 18197086, 18442424, 18546832, 18558636, 18758087, 18785271, 18817324, 18925522, 19059114, 19343642, 19787213, 19967183, 19983684, 20317439, 20454365, 21507053, 21712045, 23104762, 23115819, 24748211, 25026133, 25374444, 25589951, 25908771, 26947153, 27509910, 27562973, 27810520, 27959518, 28748425, 29338751, 29895458, 30150488, 30482917, 31624477, 32546249, 33130844, 33235969, 33593832, 34246154, 34927109, 34984783, 36137814, 36147962, 36444116, 36658026, 38441564, 39848526, 41590079, 41869252, 42164158, 42954903, 44715087, 45181414, 45318424, 45346085, 47256101, 47720683, 49839951, 50637193, 52113289, 53287195, 55487672, 56496807, 57707180, 58530102, 58543881, 59315590, 62582630, 71227350, 71285939, 71503817, 72279388, 75895117, 81156042, 82594748, 87163913, 87845043, 94177645, 98200311, 98223666, 102105396, 102758358, 103398210, 107996917, 111622631, 113727860, 115377537, 125766054, 127973644, 133467295, 133911351, 133923939, 138474993, 189372896, 201538843, 222122568, 289752744, 427741016, 439046660, 439053778], \"xaxis\": \"x\", \"y\": [58.88108725379644, 58.88224433182257, 58.88229551777929, 58.88298773108703, 58.88366484519803, 58.884214016433546, 58.8842209856015, 58.88429491242161, 58.88448102643364, 58.88472861002817, 58.885177466875994, 58.8852154870697, 58.8855062867109, 58.88648360343583, 58.88658237668069, 58.88677830997417, 58.88678005927135, 58.886781604417145, 58.88712190076241, 58.88722534146841, 58.887668297940834, 58.88799749405477, 58.88816683562927, 58.88824645066745, 58.88836215646858, 58.88857180793471, 58.8888248395692, 58.88915868312943, 58.88966418598286, 58.889686758721574, 58.89035401352144, 58.89061065583342, 58.89068207679532, 58.890802121814176, 58.89089991833476, 58.89103034305063, 58.89129729700917, 58.891393920660015, 58.8914813094628, 58.891668228071474, 58.891725570593564, 58.89181359186536, 58.89206252045726, 58.89217792203279, 58.89238460729934, 58.89262854819264, 58.89264513649363, 58.89318545716605, 58.89322773251515, 58.8934051961125, 58.89358127468279, 58.89372602201954, 58.893852792025285, 58.89390732846654, 58.89437722891916, 58.89441368395223, 58.89470730168317, 58.89523676230237, 58.89524045303922, 58.89527530288197, 58.89548305293811, 58.895535167583496, 58.895561202889866, 58.89556777576395, 58.89557970060677, 58.895926465748936, 58.89620618517365, 58.896408819436196, 58.896571508077244, 58.89672014629926, 58.897057272293566, 58.89721741504672, 58.897269533695074, 58.897429092014846, 58.8974702585417, 58.89751762566659, 58.897711689573825, 58.89777206634596, 58.897803105362804, 58.897849832012746, 58.89811054534357, 58.89850403313272, 58.89868385047548, 58.89875351813723, 58.89882961856917, 58.898830367124255, 58.89886537308277, 58.89888747747418, 58.89896780504074, 58.89941667389747, 58.899991440112835, 58.90001484947194, 58.90027750023946, 58.90035566220012, 58.90041999390502, 58.900736488600266, 58.90076686712733, 58.90087074415689, 58.90087789746139, 58.90117069058084, 58.90130507022948, 58.901485900323244, 58.902106160274286, 58.90225956603165, 58.902309971409544, 58.90251411879414, 58.902729638611916, 58.90301644329066, 58.903189851881045, 58.903411172000006, 58.903496815508575, 58.90362614741408, 58.903803278765054, 58.90400766232479, 58.90445241613002, 58.90459613070093, 58.90461289513252, 58.90467107427501, 58.904889828491235, 58.90518572391119, 58.90541905693827, 58.905445684683954, 58.90586704113899, 58.90599544035286, 58.90602261650522, 58.90638647432238, 58.906461966303134, 58.90703936246872, 58.907113925760804, 58.90723127678194, 58.90736301046848, 58.907534865907124, 58.90757225363183, 58.90796711043616, 58.90802465310667, 58.90815527797097, 58.90821973376788, 58.90836060222827, 58.90844252697921, 58.90904288817442, 58.90925252362867, 58.90956537562269, 58.909844546640734, 58.91005917379656, 58.91035233919207, 58.91104920394908, 58.911062405738804, 58.911390497033466, 58.91145476869384, 58.91165662638051, 58.911657615113704, 58.91169305739577, 58.911701687795606, 58.9117745538291, 58.91187470409509, 58.911890715968624, 58.91206573375229, 58.91216327007993, 58.9128177233869, 58.912841156763825, 58.91314994174197, 58.913177654292085, 58.9133677712725, 58.91341368131689, 58.913636146284816, 58.91365504830152, 58.91415540734057, 58.91497781319202, 58.91513602251145, 58.91519421766581, 58.915747908252634, 58.91610783915782, 58.9164142263579, 58.91667163723981, 58.91687713362475, 58.917350836897334, 58.91784678866819, 58.917907749873706, 58.91834407342753, 58.91886484760533, 58.91973453251636, 58.91978181557891, 58.92031846152636, 58.92059943388017, 58.92078593217716, 58.92161056367903, 58.92201963502409, 58.92211280811619, 58.92230865334436, 58.923255803699554, 58.92361944935939, 58.92438370008617, 58.92448317785347, 58.92463450607024, 58.92472456084997, 58.924746300971265, 58.92494259052892, 58.92502285004501, 58.92555080154513, 58.92559786844738, 58.925892250745285, 58.92633744487704, 58.92650049778821, 58.9266874524236, 58.927200741050534, 58.92732066197737, 58.92743427022307, 58.9274661458603, 58.92981901862277, 58.93625324989874, 58.936414481459295, 58.93678272252684, 58.93745182269514, 58.93769665625038, 58.93798916916205, 58.93829062470508, 58.93870966344142, 58.93886674792673, 58.9395322814502, 58.941030636548845, 58.94108402814114, 58.94149666613104, 58.942281380032185, 58.94497341629987, 58.947361847430486, 58.94746875470711, 58.94849094070465, 58.94877923448764, 58.94940684388863, 58.95038892414594, 58.95080686606894, 58.95085411710774, 58.951652513154826, 58.951761329847365, 58.951889636992966, 58.95232275016614, 58.952857514718445, 58.9539964713067, 58.955772071995604, 58.95649248621561, 58.956558539196905, 58.95789454990979, 58.958442660358685, 58.96265653714052, 58.96347711363541, 58.96905211575377, 58.96909637657519, 58.97563079014089, 58.97674330312001, 58.97813758104068, 58.979000248748136, 58.98027647512821, 58.984433085444344, 58.986685783923015, 58.98689819343436, 58.987889116248816, 58.98848555053204, 58.991643520310674, 58.99400657662471, 58.99623505714466, 58.99725593417154, 58.998586636948346, 59.00315626553637, 59.00684608970929, 59.009186205011524, 59.009607017062855, 59.01103953133753, 59.01365075567948, 59.01637659701516, 59.01660746421371, 59.02122301085207, 59.02126363297523, 59.022449128073916, 59.02330540304086, 59.030444849265876, 59.036076873668854, 59.04304825526628, 59.044165775958845, 59.04534627535299, 59.04851160258751, 59.0555575634889, 59.05742425572633, 59.05797270242457, 59.05808342853303, 59.06572916219327, 59.06758886925088, 59.07607223205134, 59.07926356657144, 59.08517233219066, 59.08987144079402, 59.09867988065394, 59.10271941615376, 59.10756450100517, 59.110858631753366, 59.11091378865473, 59.1140029153831, 59.127080773211176, 59.16168531405657, 59.1619198439712, 59.162792002716685, 59.16589658890896, 59.180370237779755, 59.20142955422344, 59.20718864885479, 59.225478871889415, 59.22820541374456, 59.25355461933672, 59.269657224152645, 59.26975071347925, 59.28528915594306, 59.28790294218478, 59.29046424951099, 59.308872728237596, 59.32338634674771, 59.331813511875026, 59.33841711674924, 59.380002021853116, 59.38883893482715, 59.410829846090884, 59.41260738821945, 59.412657777585466, 59.43087550285969, 59.63461819936212, 59.68331810056013, 59.765714100952614, 60.03643555726043, 60.588798247389164, 60.63405438287782, 60.63408287600677], \"yaxis\": \"y\"}],\n",
       "                        {\"coloraxis\": {\"colorbar\": {\"title\": {\"text\": \"Reading Proficiency\"}}, \"colorscale\": [[0.0, \"#0d0887\"], [0.1111111111111111, \"#46039f\"], [0.2222222222222222, \"#7201a8\"], [0.3333333333333333, \"#9c179e\"], [0.4444444444444444, \"#bd3786\"], [0.5555555555555556, \"#d8576b\"], [0.6666666666666666, \"#ed7953\"], [0.7777777777777778, \"#fb9f3a\"], [0.8888888888888888, \"#fdca26\"], [1.0, \"#f0f921\"]]}, \"legend\": {\"tracegroupgap\": 0}, \"template\": {\"data\": {\"bar\": [{\"error_x\": {\"color\": \"#2a3f5f\"}, \"error_y\": {\"color\": \"#2a3f5f\"}, \"marker\": {\"line\": {\"color\": \"#E5ECF6\", \"width\": 0.5}}, \"type\": \"bar\"}], \"barpolar\": [{\"marker\": {\"line\": {\"color\": \"#E5ECF6\", \"width\": 0.5}}, \"type\": \"barpolar\"}], \"carpet\": [{\"aaxis\": {\"endlinecolor\": \"#2a3f5f\", \"gridcolor\": \"white\", \"linecolor\": \"white\", \"minorgridcolor\": \"white\", \"startlinecolor\": \"#2a3f5f\"}, \"baxis\": {\"endlinecolor\": \"#2a3f5f\", \"gridcolor\": \"white\", \"linecolor\": \"white\", \"minorgridcolor\": \"white\", \"startlinecolor\": \"#2a3f5f\"}, \"type\": \"carpet\"}], \"choropleth\": [{\"colorbar\": {\"outlinewidth\": 0, \"ticks\": \"\"}, \"type\": \"choropleth\"}], \"contour\": [{\"colorbar\": {\"outlinewidth\": 0, \"ticks\": \"\"}, \"colorscale\": [[0.0, \"#0d0887\"], [0.1111111111111111, \"#46039f\"], [0.2222222222222222, \"#7201a8\"], [0.3333333333333333, \"#9c179e\"], [0.4444444444444444, \"#bd3786\"], [0.5555555555555556, \"#d8576b\"], [0.6666666666666666, \"#ed7953\"], [0.7777777777777778, \"#fb9f3a\"], [0.8888888888888888, \"#fdca26\"], [1.0, \"#f0f921\"]], \"type\": \"contour\"}], \"contourcarpet\": [{\"colorbar\": {\"outlinewidth\": 0, \"ticks\": \"\"}, \"type\": \"contourcarpet\"}], \"heatmap\": [{\"colorbar\": {\"outlinewidth\": 0, \"ticks\": \"\"}, \"colorscale\": [[0.0, \"#0d0887\"], [0.1111111111111111, \"#46039f\"], [0.2222222222222222, \"#7201a8\"], [0.3333333333333333, \"#9c179e\"], [0.4444444444444444, \"#bd3786\"], [0.5555555555555556, \"#d8576b\"], [0.6666666666666666, \"#ed7953\"], [0.7777777777777778, \"#fb9f3a\"], [0.8888888888888888, \"#fdca26\"], [1.0, \"#f0f921\"]], \"type\": \"heatmap\"}], \"heatmapgl\": [{\"colorbar\": {\"outlinewidth\": 0, \"ticks\": \"\"}, \"colorscale\": [[0.0, \"#0d0887\"], [0.1111111111111111, \"#46039f\"], [0.2222222222222222, \"#7201a8\"], [0.3333333333333333, \"#9c179e\"], [0.4444444444444444, \"#bd3786\"], [0.5555555555555556, \"#d8576b\"], [0.6666666666666666, \"#ed7953\"], [0.7777777777777778, \"#fb9f3a\"], [0.8888888888888888, \"#fdca26\"], [1.0, \"#f0f921\"]], \"type\": \"heatmapgl\"}], \"histogram\": [{\"marker\": {\"colorbar\": {\"outlinewidth\": 0, \"ticks\": \"\"}}, \"type\": \"histogram\"}], \"histogram2d\": [{\"colorbar\": {\"outlinewidth\": 0, \"ticks\": \"\"}, \"colorscale\": [[0.0, \"#0d0887\"], [0.1111111111111111, \"#46039f\"], [0.2222222222222222, \"#7201a8\"], [0.3333333333333333, \"#9c179e\"], [0.4444444444444444, \"#bd3786\"], [0.5555555555555556, \"#d8576b\"], [0.6666666666666666, \"#ed7953\"], [0.7777777777777778, \"#fb9f3a\"], [0.8888888888888888, \"#fdca26\"], [1.0, \"#f0f921\"]], \"type\": \"histogram2d\"}], \"histogram2dcontour\": [{\"colorbar\": {\"outlinewidth\": 0, \"ticks\": \"\"}, \"colorscale\": [[0.0, \"#0d0887\"], [0.1111111111111111, \"#46039f\"], [0.2222222222222222, \"#7201a8\"], [0.3333333333333333, \"#9c179e\"], [0.4444444444444444, \"#bd3786\"], [0.5555555555555556, \"#d8576b\"], [0.6666666666666666, \"#ed7953\"], [0.7777777777777778, \"#fb9f3a\"], [0.8888888888888888, \"#fdca26\"], [1.0, \"#f0f921\"]], \"type\": \"histogram2dcontour\"}], \"mesh3d\": [{\"colorbar\": {\"outlinewidth\": 0, \"ticks\": \"\"}, \"type\": \"mesh3d\"}], \"parcoords\": [{\"line\": {\"colorbar\": {\"outlinewidth\": 0, \"ticks\": \"\"}}, \"type\": \"parcoords\"}], \"pie\": [{\"automargin\": true, \"type\": \"pie\"}], \"scatter\": [{\"marker\": {\"colorbar\": {\"outlinewidth\": 0, \"ticks\": \"\"}}, \"type\": \"scatter\"}], \"scatter3d\": [{\"line\": {\"colorbar\": {\"outlinewidth\": 0, \"ticks\": \"\"}}, \"marker\": {\"colorbar\": {\"outlinewidth\": 0, \"ticks\": \"\"}}, \"type\": \"scatter3d\"}], \"scattercarpet\": [{\"marker\": {\"colorbar\": {\"outlinewidth\": 0, \"ticks\": \"\"}}, \"type\": \"scattercarpet\"}], \"scattergeo\": [{\"marker\": {\"colorbar\": {\"outlinewidth\": 0, \"ticks\": \"\"}}, \"type\": \"scattergeo\"}], \"scattergl\": [{\"marker\": {\"colorbar\": {\"outlinewidth\": 0, \"ticks\": \"\"}}, \"type\": \"scattergl\"}], \"scattermapbox\": [{\"marker\": {\"colorbar\": {\"outlinewidth\": 0, \"ticks\": \"\"}}, \"type\": \"scattermapbox\"}], \"scatterpolar\": [{\"marker\": {\"colorbar\": {\"outlinewidth\": 0, \"ticks\": \"\"}}, \"type\": \"scatterpolar\"}], \"scatterpolargl\": [{\"marker\": {\"colorbar\": {\"outlinewidth\": 0, \"ticks\": \"\"}}, \"type\": \"scatterpolargl\"}], \"scatterternary\": [{\"marker\": {\"colorbar\": {\"outlinewidth\": 0, \"ticks\": \"\"}}, \"type\": \"scatterternary\"}], \"surface\": [{\"colorbar\": {\"outlinewidth\": 0, \"ticks\": \"\"}, \"colorscale\": [[0.0, \"#0d0887\"], [0.1111111111111111, \"#46039f\"], [0.2222222222222222, \"#7201a8\"], [0.3333333333333333, \"#9c179e\"], [0.4444444444444444, \"#bd3786\"], [0.5555555555555556, \"#d8576b\"], [0.6666666666666666, \"#ed7953\"], [0.7777777777777778, \"#fb9f3a\"], [0.8888888888888888, \"#fdca26\"], [1.0, \"#f0f921\"]], \"type\": \"surface\"}], \"table\": [{\"cells\": {\"fill\": {\"color\": \"#EBF0F8\"}, \"line\": {\"color\": \"white\"}}, \"header\": {\"fill\": {\"color\": \"#C8D4E3\"}, \"line\": {\"color\": \"white\"}}, \"type\": \"table\"}]}, \"layout\": {\"annotationdefaults\": {\"arrowcolor\": \"#2a3f5f\", \"arrowhead\": 0, \"arrowwidth\": 1}, \"coloraxis\": {\"colorbar\": {\"outlinewidth\": 0, \"ticks\": \"\"}}, \"colorscale\": {\"diverging\": [[0, \"#8e0152\"], [0.1, \"#c51b7d\"], [0.2, \"#de77ae\"], [0.3, \"#f1b6da\"], [0.4, \"#fde0ef\"], [0.5, \"#f7f7f7\"], [0.6, \"#e6f5d0\"], [0.7, \"#b8e186\"], [0.8, \"#7fbc41\"], [0.9, \"#4d9221\"], [1, \"#276419\"]], \"sequential\": [[0.0, \"#0d0887\"], [0.1111111111111111, \"#46039f\"], [0.2222222222222222, \"#7201a8\"], [0.3333333333333333, \"#9c179e\"], [0.4444444444444444, \"#bd3786\"], [0.5555555555555556, \"#d8576b\"], [0.6666666666666666, \"#ed7953\"], [0.7777777777777778, \"#fb9f3a\"], [0.8888888888888888, \"#fdca26\"], [1.0, \"#f0f921\"]], \"sequentialminus\": [[0.0, \"#0d0887\"], [0.1111111111111111, \"#46039f\"], [0.2222222222222222, \"#7201a8\"], [0.3333333333333333, \"#9c179e\"], [0.4444444444444444, \"#bd3786\"], [0.5555555555555556, \"#d8576b\"], [0.6666666666666666, \"#ed7953\"], [0.7777777777777778, \"#fb9f3a\"], [0.8888888888888888, \"#fdca26\"], [1.0, \"#f0f921\"]]}, \"colorway\": [\"#636efa\", \"#EF553B\", \"#00cc96\", \"#ab63fa\", \"#FFA15A\", \"#19d3f3\", \"#FF6692\", \"#B6E880\", \"#FF97FF\", \"#FECB52\"], \"font\": {\"color\": \"#2a3f5f\"}, \"geo\": {\"bgcolor\": \"white\", \"lakecolor\": \"white\", \"landcolor\": \"#E5ECF6\", \"showlakes\": true, \"showland\": true, \"subunitcolor\": \"white\"}, \"hoverlabel\": {\"align\": \"left\"}, \"hovermode\": \"closest\", \"mapbox\": {\"style\": \"light\"}, \"paper_bgcolor\": \"white\", \"plot_bgcolor\": \"#E5ECF6\", \"polar\": {\"angularaxis\": {\"gridcolor\": \"white\", \"linecolor\": \"white\", \"ticks\": \"\"}, \"bgcolor\": \"#E5ECF6\", \"radialaxis\": {\"gridcolor\": \"white\", \"linecolor\": \"white\", \"ticks\": \"\"}}, \"scene\": {\"xaxis\": {\"backgroundcolor\": \"#E5ECF6\", \"gridcolor\": \"white\", \"gridwidth\": 2, \"linecolor\": \"white\", \"showbackground\": true, \"ticks\": \"\", \"zerolinecolor\": \"white\"}, \"yaxis\": {\"backgroundcolor\": \"#E5ECF6\", \"gridcolor\": \"white\", \"gridwidth\": 2, \"linecolor\": \"white\", \"showbackground\": true, \"ticks\": \"\", \"zerolinecolor\": \"white\"}, \"zaxis\": {\"backgroundcolor\": \"#E5ECF6\", \"gridcolor\": \"white\", \"gridwidth\": 2, \"linecolor\": \"white\", \"showbackground\": true, \"ticks\": \"\", \"zerolinecolor\": \"white\"}}, \"shapedefaults\": {\"line\": {\"color\": \"#2a3f5f\"}}, \"ternary\": {\"aaxis\": {\"gridcolor\": \"white\", \"linecolor\": \"white\", \"ticks\": \"\"}, \"baxis\": {\"gridcolor\": \"white\", \"linecolor\": \"white\", \"ticks\": \"\"}, \"bgcolor\": \"#E5ECF6\", \"caxis\": {\"gridcolor\": \"white\", \"linecolor\": \"white\", \"ticks\": \"\"}}, \"title\": {\"x\": 0.05}, \"xaxis\": {\"automargin\": true, \"gridcolor\": \"white\", \"linecolor\": \"white\", \"ticks\": \"\", \"title\": {\"standoff\": 15}, \"zerolinecolor\": \"white\", \"zerolinewidth\": 2}, \"yaxis\": {\"automargin\": true, \"gridcolor\": \"white\", \"linecolor\": \"white\", \"ticks\": \"\", \"title\": {\"standoff\": 15}, \"zerolinecolor\": \"white\", \"zerolinewidth\": 2}}}, \"title\": {\"text\": \"Reading Proficiency (%) vs. General Fund Expenditures ($) by School District\"}, \"xaxis\": {\"anchor\": \"y\", \"domain\": [0.0, 1.0], \"title\": {\"text\": \"General Fund Expenditures\"}, \"type\": \"log\"}, \"yaxis\": {\"anchor\": \"x\", \"domain\": [0.0, 1.0], \"title\": {\"text\": \"Reading Proficiency\"}}},\n",
       "                        {\"responsive\": true}\n",
       "                    ).then(function(){\n",
       "                            \n",
       "var gd = document.getElementById('132ff8ea-2451-4919-b6d6-2a69d66e3a20');\n",
       "var x = new MutationObserver(function (mutations, observer) {{\n",
       "        var display = window.getComputedStyle(gd).display;\n",
       "        if (!display || display === 'none') {{\n",
       "            console.log([gd, 'removed!']);\n",
       "            Plotly.purge(gd);\n",
       "            observer.disconnect();\n",
       "        }}\n",
       "}});\n",
       "\n",
       "// Listen for the removal of the full notebook cells\n",
       "var notebookContainer = gd.closest('#notebook-container');\n",
       "if (notebookContainer) {{\n",
       "    x.observe(notebookContainer, {childList: true});\n",
       "}}\n",
       "\n",
       "// Listen for the clearing of the current output cell\n",
       "var outputEl = gd.closest('.output');\n",
       "if (outputEl) {{\n",
       "    x.observe(outputEl, {childList: true});\n",
       "}}\n",
       "\n",
       "                        })\n",
       "                };\n",
       "                });\n",
       "            </script>\n",
       "        </div>"
      ]
     },
     "metadata": {},
     "output_type": "display_data"
    },
    {
     "data": {
      "text/plain": [
       "<Figure size 432x288 with 0 Axes>"
      ]
     },
     "metadata": {},
     "output_type": "display_data"
    }
   ],
   "source": [
    "fig = px.scatter(mned_df, x=mned_df[\"General Fund Expenditures\"], y=mned_df[\"Reading Proficiency\"], color=mned_df[\"Reading Proficiency\"], hover_data=[mned_df[\"District\"]], title=\"Reading Proficiency (%) vs. General Fund Expenditures ($) by School District\", log_x=True, trendline=\"ols\")\n",
    "fig.show()\n",
    "plt.savefig(\"static/images/readProfvsGenFundExpend.png\")"
   ]
  },
  {
   "cell_type": "code",
   "execution_count": 19,
   "metadata": {},
   "outputs": [],
   "source": [
    "with open('scatterplot2.html', 'w') as f:\n",
    "    f.write(fig.to_html(include_plotlyjs='cdn'))"
   ]
  },
  {
   "cell_type": "code",
   "execution_count": 22,
   "metadata": {},
   "outputs": [
    {
     "data": {
      "application/vnd.plotly.v1+json": {
       "config": {
        "plotlyServerURL": "https://plot.ly"
       },
       "data": [
        {
         "customdata": [
          [
           "Aitkin Public School District"
          ],
          [
           "Minneapolis Public School District"
          ],
          [
           "Hill City Public School District"
          ],
          [
           "McGregor Public School District"
          ],
          [
           "South St. Paul Public School District"
          ],
          [
           "Anoka-Hennepin Public School District"
          ],
          [
           "Centennial Public School District"
          ],
          [
           "Columbia Heights Public School District"
          ],
          [
           "Fridley Public School District"
          ],
          [
           "St. Francis Public School District"
          ],
          [
           "Spring Lake Park Public Schools"
          ],
          [
           "Detroit Lakes Public School District"
          ],
          [
           "Frazee-Vergas Public School District"
          ],
          [
           "Pine Point Public School District"
          ],
          [
           "Bemidji Public School District"
          ],
          [
           "Blackduck Public School District"
          ],
          [
           "Kelliher Public School District"
          ],
          [
           "Red Lake Public School District"
          ],
          [
           "Sauk Rapids-Rice Public Schools"
          ],
          [
           "Foley Public School District"
          ],
          [
           "St. Clair Public School District"
          ],
          [
           "Mankato Public School District"
          ],
          [
           "Comfrey Public School District"
          ],
          [
           "Sleepy Eye Public School District"
          ],
          [
           "Springfield Public School District"
          ],
          [
           "New Ulm Public School District"
          ],
          [
           "Barnum Public School District"
          ],
          [
           "Carlton Public School District"
          ],
          [
           "Cloquet Public School District"
          ],
          [
           "Cromwell-Wright Public Schools"
          ],
          [
           "Moose Lake Public School District"
          ],
          [
           "Esko Public School District"
          ],
          [
           "Wrenshall Public School District"
          ],
          [
           "Central Public School District"
          ],
          [
           "Waconia Public School District"
          ],
          [
           "Watertown-Mayer Public School District"
          ],
          [
           "Eastern Carver County Public Schools"
          ],
          [
           "Walker-Hackensack-Akeley School District"
          ],
          [
           "Cass Lake-Bena Public Schools"
          ],
          [
           "Pillager Public School District"
          ],
          [
           "Northland Community Schools"
          ],
          [
           "Montevideo Public School District"
          ],
          [
           "North Branch Public Schools"
          ],
          [
           "Rush City Public School District"
          ],
          [
           "Barnesville Public School District"
          ],
          [
           "Hawley Public School District"
          ],
          [
           "Moorhead Public School District"
          ],
          [
           "Bagley Public School District"
          ],
          [
           "Cook County Public Schools"
          ],
          [
           "Mountain Lake Public Schools"
          ],
          [
           "Windom Public School District"
          ],
          [
           "Brainerd Public School District"
          ],
          [
           "Crosby-Ironton Public School District"
          ],
          [
           "Pequot Lakes Public Schools"
          ],
          [
           "Burnsville Public School District"
          ],
          [
           "Farmington Public School District"
          ],
          [
           "Lakeville Public School District"
          ],
          [
           "Randolph Public School District"
          ],
          [
           "Rosemount-Apple Valley-Eagan"
          ],
          [
           "West St. Paul-Mendota Heights-Eagan"
          ],
          [
           "Inver Grove Heights Schools"
          ],
          [
           "Hastings Public School District"
          ],
          [
           "Hayfield Public School District"
          ],
          [
           "Kasson-Mantorville School District"
          ],
          [
           "Alexandria Public School District"
          ],
          [
           "Osakis Public School District"
          ],
          [
           "Chatfield Public Schools"
          ],
          [
           "Lanesboro Public School District"
          ],
          [
           "Mabel-Canton Public School District"
          ],
          [
           "Rushford-Peterson Public Schools"
          ],
          [
           "Albert Lea Public School District"
          ],
          [
           "Alden-Conger Public School District"
          ],
          [
           "Cannon Falls Public School District"
          ],
          [
           "Goodhue Public School District"
          ],
          [
           "Pine Island Public School District"
          ],
          [
           "Red Wing Public School District"
          ],
          [
           "Ashby Public School District"
          ],
          [
           "Herman-Norcross School District"
          ],
          [
           "Hopkins Public School District"
          ],
          [
           "Bloomington Public School District"
          ],
          [
           "Eden Prairie Public School District"
          ],
          [
           "Edina Public School District"
          ],
          [
           "Minnetonka Public School District"
          ],
          [
           "Westonka Public School District"
          ],
          [
           "Orono Public School District"
          ],
          [
           "Osseo Public School District"
          ],
          [
           "Richfield Public School District"
          ],
          [
           "Robbinsdale Public School District"
          ],
          [
           "St. Anthony-New Brighton Schools"
          ],
          [
           "St. Louis Park Public School District"
          ],
          [
           "Wayzata Public School District"
          ],
          [
           "Brooklyn Center School District"
          ],
          [
           "Houston Public School District"
          ],
          [
           "Spring Grove School District"
          ],
          [
           "Caledonia Public School District"
          ],
          [
           "La Crescent-Hokah School District"
          ],
          [
           "Laporte Public School District"
          ],
          [
           "Nevis Public School District"
          ],
          [
           "Park Rapids Public School District"
          ],
          [
           "Braham Public School District"
          ],
          [
           "Greenway Public School District"
          ],
          [
           "Deer River Public School District"
          ],
          [
           "Grand Rapids Public School District"
          ],
          [
           "Nashwauk-Keewatin School District"
          ],
          [
           "Heron Lake-Okabena School District"
          ],
          [
           "Mora Public School District"
          ],
          [
           "Ogilvie Public School District"
          ],
          [
           "New London-Spicer School District"
          ],
          [
           "Willmar Public School District"
          ],
          [
           "Lancaster Public School District"
          ],
          [
           "International Falls School District"
          ],
          [
           "Littlefork-Big Falls School District"
          ],
          [
           "South Koochiching School District"
          ],
          [
           "Dawson-Boyd Public School District"
          ],
          [
           "Lake Superior Public School District"
          ],
          [
           "Lake of The Woods School District"
          ],
          [
           "Cleveland Public School District"
          ],
          [
           "Hendricks Public School District"
          ],
          [
           "Ivanhoe Public School District"
          ],
          [
           "Lake Benton Public School District"
          ],
          [
           "Marshall Public School District"
          ],
          [
           "Minneota Public School District"
          ],
          [
           "Lynd Public School District"
          ],
          [
           "Hutchinson Public School District"
          ],
          [
           "Lester Prairie Public School District"
          ],
          [
           "Mahnomen Public School District"
          ],
          [
           "Waubun-Ogema-White Earth Public Schools"
          ],
          [
           "Marshall County Central Schools"
          ],
          [
           "Grygla Public School District"
          ],
          [
           "Truman Public School District"
          ],
          [
           "Eden Valley-Watkins School District"
          ],
          [
           "Litchfield Public School District"
          ],
          [
           "Dassel-Cokato Public School District"
          ],
          [
           "Isle Public School District"
          ],
          [
           "Princeton Public School District"
          ],
          [
           "Onamia Public School District"
          ],
          [
           "Little Falls Public School District"
          ],
          [
           "Pierz Public School District"
          ],
          [
           "Royalton Public School District"
          ],
          [
           "Swanville Public School District"
          ],
          [
           "Upsala Public School District"
          ],
          [
           "Austin Public School District"
          ],
          [
           "Grand Meadow Public School District"
          ],
          [
           "Lyle Public School District"
          ],
          [
           "LeRoy-Ostrander Public Schools"
          ],
          [
           "Southland Public School District"
          ],
          [
           "Fulda Public School District"
          ],
          [
           "Nicollet Public School District"
          ],
          [
           "St. Peter Public School District"
          ],
          [
           "Adrian Public School District"
          ],
          [
           "Ellsworth Public School District"
          ],
          [
           "Worthington Public School District"
          ],
          [
           "Byron Public School District"
          ],
          [
           "Dover-Eyota Public School District"
          ],
          [
           "Stewartville Public School District"
          ],
          [
           "Rochester Public School District"
          ],
          [
           "Battle Lake Public School District"
          ],
          [
           "Fergus Falls Public School District"
          ],
          [
           "Henning Public School District"
          ],
          [
           "Parkers Prairie Public School District"
          ],
          [
           "Pelican Rapids Public School District"
          ],
          [
           "Perham-Dent Public School District"
          ],
          [
           "Underwood Public School District"
          ],
          [
           "New York Mills Public School District"
          ],
          [
           "Goodridge Public School District"
          ],
          [
           "Thief River Falls School District"
          ],
          [
           "Willow River Public School District"
          ],
          [
           "Pine City Public School District"
          ],
          [
           "Edgerton Public School District"
          ],
          [
           "Climax-Shelly Public Schools"
          ],
          [
           "Crookston Public School District"
          ],
          [
           "East Grand Forks Public School District"
          ],
          [
           "Fertile-Beltrami School District"
          ],
          [
           "Fisher Public School District"
          ],
          [
           "Fosston Public School District"
          ],
          [
           "Mounds View Public School District"
          ],
          [
           "North St. Paul-Maplewood-Oakdale School District"
          ],
          [
           "Roseville Public School District"
          ],
          [
           "White Bear Lake School District"
          ],
          [
           "St. Paul Public School District"
          ],
          [
           "Red Lake Falls Public School District"
          ],
          [
           "Milroy Public School District"
          ],
          [
           "Wabasso Public School District"
          ],
          [
           "Faribault Public School District"
          ],
          [
           "Northfield Public School District"
          ],
          [
           "Hills-Beaver Creek School District"
          ],
          [
           "Badger Public School District"
          ],
          [
           "Roseau Public School District"
          ],
          [
           "Warroad Public School District"
          ],
          [
           "Chisholm Public School District"
          ],
          [
           "Ely Public School District"
          ],
          [
           "Floodwood Public School District"
          ],
          [
           "Hermantown Public School District"
          ],
          [
           "Hibbing Public School District"
          ],
          [
           "Proctor Public School District"
          ],
          [
           "Virginia Public School District"
          ],
          [
           "Nett Lake Public School District"
          ],
          [
           "Duluth Public School District"
          ],
          [
           "Mountain Iron-Buhl School District"
          ],
          [
           "Belle Plaine Public School District"
          ],
          [
           "Jordan Public School District"
          ],
          [
           "Prior Lake-Savage Area Schools"
          ],
          [
           "Shakopee Public School District"
          ],
          [
           "New Prague Area Schools"
          ],
          [
           "Becker Public School District"
          ],
          [
           "Big Lake Public School District"
          ],
          [
           "Elk River Public School District"
          ],
          [
           "Holdingford Public School District"
          ],
          [
           "Kimball Public School District"
          ],
          [
           "Melrose Public School District"
          ],
          [
           "Paynesville Public School District"
          ],
          [
           "St. Cloud Public School District"
          ],
          [
           "Sauk Centre Public School District"
          ],
          [
           "Albany Public School District"
          ],
          [
           "Sartell-St. Stephen School District"
          ],
          [
           "Rocori Public School District"
          ],
          [
           "Blooming Prairie Public School District"
          ],
          [
           "Owatonna Public School District"
          ],
          [
           "Medford Public School District"
          ],
          [
           "Hancock Public School District"
          ],
          [
           "Chokio-Alberta Public School District"
          ],
          [
           "Kerkhoven-Murdock-Sunburg"
          ],
          [
           "Benson Public School District"
          ],
          [
           "Bertha-Hewitt Public School District"
          ],
          [
           "Browerville Public School District"
          ],
          [
           "Browns Valley Public School District"
          ],
          [
           "Wheaton Area Public School District"
          ],
          [
           "Wabasha-Kellogg Public School District"
          ],
          [
           "Lake City Public School District"
          ],
          [
           "Verndale Public School District"
          ],
          [
           "Sebeka Public School District"
          ],
          [
           "Menahga Public School District"
          ],
          [
           "Waseca Public School District"
          ],
          [
           "Forest Lake Public School District"
          ],
          [
           "Mahtomedi Public School District"
          ],
          [
           "Fillmore Central"
          ],
          [
           "South Washington County School District"
          ],
          [
           "Stillwater Area Public School District"
          ],
          [
           "Butterfield Public School District"
          ],
          [
           "Madelia Public School District"
          ],
          [
           "St. James Public School District"
          ],
          [
           "Breckenridge Public School District"
          ],
          [
           "Rothsay Public School District"
          ],
          [
           "Campbell-Tintah Public School District"
          ],
          [
           "Lewiston-Altura Public School District"
          ],
          [
           "St. Charles Public School District"
          ],
          [
           "Winona Area Public School District"
          ],
          [
           "Annandale Public School District"
          ],
          [
           "Buffalo-Hanover-Montrose Public Schools"
          ],
          [
           "Delano Public School District"
          ],
          [
           "Maple Lake Public School District"
          ],
          [
           "Monticello Public School District"
          ],
          [
           "Rockford Public School District"
          ],
          [
           "St. Michael-Albertville School District"
          ],
          [
           "Canby Public School District"
          ],
          [
           "Cambridge-Isanti Public School District"
          ],
          [
           "Milaca Public School District"
          ],
          [
           "Ulen-Hitterdal Public School District"
          ],
          [
           "Lake Crystal-Wellcome Memorial"
          ],
          [
           "Triton School District"
          ],
          [
           "United South Central School District"
          ],
          [
           "Maple River School District"
          ],
          [
           "Kingsland Public School District"
          ],
          [
           "St. Louis County School District"
          ],
          [
           "Waterville-Elysian-Morristown Public School District"
          ],
          [
           "Chisago Lakes School District"
          ],
          [
           "Minnewaska School District"
          ],
          [
           "Eveleth-Gilbert School District"
          ],
          [
           "Wadena-Deer Creek School District"
          ],
          [
           "Buffalo Lake-Hector-Stewart Public Schools"
          ],
          [
           "Dilworth-Glyndon-Felton"
          ],
          [
           "Hinckley-Finlayson School District"
          ],
          [
           "Lakeview School District"
          ],
          [
           "NRHEG School District"
          ],
          [
           "Murray County Central School District"
          ],
          [
           "Staples-Motley School District"
          ],
          [
           "Kittson Central School District"
          ],
          [
           "Kenyon-Wanamingo School District"
          ],
          [
           "Pine River-Backus Public School District"
          ],
          [
           "Warren-Alvarado-Oslo School District"
          ],
          [
           "MACCRAY School District"
          ],
          [
           "Luverne Public School District"
          ],
          [
           "Yellow Medicine East"
          ],
          [
           "Norman County East School District"
          ],
          [
           "Sibley East School District"
          ],
          [
           "Clearbrook-Gonvick School District"
          ],
          [
           "West Central Area"
          ],
          [
           "Tri-County School District"
          ],
          [
           "Belgrade-Brooten-Elrosa Public School District"
          ],
          [
           "G.F.W. Public School District"
          ],
          [
           "A.C.G.C. Public School District"
          ],
          [
           "Le Sueur-Henderson School District"
          ],
          [
           "Martin County West School District"
          ],
          [
           "Norman County West School District"
          ],
          [
           "Bird Island-Olivia-Lake Lillian Public School District"
          ],
          [
           "Granada-Huntley-East Chain"
          ],
          [
           "East Central School District"
          ],
          [
           "Win-E-Mac School District"
          ],
          [
           "Greenbush-Middle River School District"
          ],
          [
           "Howard Lake-Waverly-Winsted"
          ],
          [
           "Pipestone Area School District"
          ],
          [
           "Mesabi East School District"
          ],
          [
           "Fairmont Area School District"
          ],
          [
           "Long Prairie-Grey Eagle School District"
          ],
          [
           "Cedar Mountain School District"
          ],
          [
           "Morris Area Public Schools"
          ],
          [
           "Zumbrota-Mazeppa School District"
          ],
          [
           "Janesville-Waldorf-Pemberton"
          ],
          [
           "Lac qui Parle Valley School District"
          ],
          [
           "Ada-Borup Public School District"
          ],
          [
           "Stephen-Argyle Central Schools"
          ],
          [
           "Glencoe-Silver Lake School District"
          ],
          [
           "Blue Earth Area Public Schools"
          ],
          [
           "Red Rock Central School District"
          ],
          [
           "Glenville-Emmons School District"
          ],
          [
           "Clinton-Graceville-Beardsley"
          ],
          [
           "Lake Park Audubon School District"
          ],
          [
           "Renville County West School District"
          ],
          [
           "Jackson County Central School District"
          ],
          [
           "Redwood Area School District"
          ],
          [
           "Westbrook-Walnut Grove Schools"
          ],
          [
           "Plainview-Elgin-Millville"
          ],
          [
           "RTR Public Schools"
          ],
          [
           "Ortonville Public Schools"
          ],
          [
           "Tracy Area Public School District"
          ],
          [
           "Tri-City United School District"
          ],
          [
           "Red Lake County Central Public Schools"
          ],
          [
           "Round Lake-Brewster Public Schools"
          ],
          [
           "Brandon-Evansville Public Schools"
          ]
         ],
         "hovertemplate": "Enrollment=%{x}<br>Reading Proficiency=%{marker.color}<br>District=%{customdata[0]}<extra></extra>",
         "legendgroup": "",
         "marker": {
          "color": [
           57.638571400000004,
           46.48,
           46.2828571,
           49.2585714,
           45.0614286,
           65.0485714,
           68.8528571,
           35.0957143,
           44.181428600000004,
           60.72571429999999,
           56.4728571,
           61.02571429999999,
           61.6714286,
           28.635,
           55.55571429999999,
           48.21,
           44.6985714,
           24.03,
           57.268571400000006,
           69.26,
           60.0714286,
           64.1842857,
           59.6433333,
           58.3171429,
           68.5971429,
           57.73571429999999,
           70.3485714,
           56.575714299999994,
           67.3271429,
           55.3514286,
           54.161428599999994,
           80.6128571,
           54.7228571,
           63.698571400000006,
           70.69428570000001,
           64.5914286,
           67.0157143,
           53.9128571,
           35.2757143,
           59.75,
           39.8033333,
           58.5785714,
           55.52,
           67.0014286,
           77.0514286,
           69.0814286,
           52.7485714,
           49.7742857,
           58.53,
           56.58428570000001,
           57.6328571,
           67.92,
           64.2871429,
           70.4228571,
           48.2771429,
           57.5828571,
           73.31,
           51.1328571,
           65.2914286,
           59.68,
           51.64,
           65.1,
           48.9057143,
           66.5071429,
           65.6257143,
           62.0785714,
           70.5128571,
           63.2571429,
           60.231428599999994,
           62.105714299999995,
           46.818571399999996,
           58.605714299999995,
           62.47428570000001,
           56.1785714,
           68.66571429999999,
           54.838571400000006,
           58.981428599999994,
           60,
           59.4985714,
           53.51571429999999,
           73.5371429,
           77.43285709999999,
           81.4842857,
           77.6071429,
           78.8314286,
           54.94571429999999,
           43.4857143,
           48.7471429,
           67.5614286,
           58.918571400000005,
           80.79571429999999,
           22.4285714,
           57.9471429,
           68.2514286,
           61.075714299999994,
           55.13,
           48.0328571,
           68.3614286,
           51.7957143,
           59.8514286,
           61.72428570000001,
           53.5571429,
           61.4971429,
           50.7628571,
           46.092857099999996,
           65.78428570000001,
           44.3028571,
           69.03,
           46.68,
           71.958,
           62.78,
           60.871428599999994,
           48.4671429,
           64.4714286,
           61.93,
           47.2957143,
           66.78428570000001,
           73.2,
           52.7366667,
           78.1825,
           58.6671429,
           73.0571429,
           40.548,
           66.31428570000001,
           55.715714299999995,
           33.2942857,
           40.8685714,
           62.401428599999996,
           52.5416667,
           57.6085714,
           67.6214286,
           65.1457143,
           72.5114286,
           53.89,
           63.41571429999999,
           36.7657143,
           48.0142857,
           61.064285700000006,
           52.4042857,
           54.4328571,
           53.244285700000006,
           43.5071429,
           53.91571429999999,
           42.0285714,
           63.8471429,
           56.45428570000001,
           53.465714299999995,
           56.3871429,
           59.4428571,
           57.6014286,
           65.7,
           44.4442857,
           76.0614286,
           63.342857099999996,
           61.1271429,
           55.3985714,
           72.18285709999999,
           64.8671429,
           64.71571429999999,
           64.7771429,
           57.25428570000001,
           61.97428570000001,
           59.61,
           60.0085714,
           48.214285700000005,
           60.30571429999999,
           58.0871429,
           55.638571400000004,
           52.6228571,
           51.8114286,
           55.4271429,
           54.564285700000006,
           71.70428570000001,
           42.4128571,
           66.3328571,
           67.5314286,
           50.79,
           56.36428570000001,
           64.88,
           39.59,
           59.0128571,
           46.2,
           55.738571400000005,
           41.67,
           68.4371429,
           67.6771429,
           69.2442857,
           64.56857140000001,
           66.94428570000001,
           59.0128571,
           63.22,
           48.578,
           71.1714286,
           67.31,
           59.70571429999999,
           67.4685714,
           56.6666667,
           62.4971429,
           63.2328571,
           63.261428599999995,
           66.2442857,
           68.2771429,
           62.3271429,
           69.8828571,
           64.8314286,
           63.1128571,
           70.02428570000001,
           66.67428570000001,
           69.8628571,
           54.6128571,
           59.9428571,
           43.7257143,
           62.33571429999999,
           68.28428570000001,
           72.1571429,
           64.53,
           63.7628571,
           53.9128571,
           52.7428571,
           67.2771429,
           48.0225,
           53.4671429,
           51.4814286,
           59.574285700000004,
           41.8114286,
           39.31,
           64.5514286,
           65.0828571,
           56.11571429999999,
           52.7028571,
           61.1185714,
           57.52428570000001,
           55.07,
           60.82,
           78.15,
           60.035714299999995,
           67.9471429,
           68.0985714,
           30.1866667,
           53.2528571,
           57.11,
           55.05428570000001,
           59.378571400000006,
           54.7375,
           63.0528571,
           64.9857143,
           48.8085714,
           66.6757143,
           65.1242857,
           79.00857140000001,
           58.98571429999999,
           66.9028571,
           67.9671429,
           76.18285709999999,
           66.8328571,
           62.12571429999999,
           58.3371429,
           53.791428599999996,
           62.4985714,
           50.0985714,
           60.744285700000006,
           66.9857143,
           62.0528571,
           54.97571429999999,
           67.18,
           65.55,
           61.4614286,
           60.7171429,
           55.878571400000006,
           64.3071429,
           62.005714299999994,
           40.7828571,
           64.71,
           58.0628571,
           65.6242857,
           48.35,
           70.4471429,
           53.331428599999995,
           55.38,
           53.871428599999994,
           52.9328571,
           60.8528571,
           53.58,
           52.9871429,
           50.6314286,
           56.32,
           69.4728571,
           66.37,
           63.77428570000001,
           61.41,
           56.511428599999995,
           52.965714299999995,
           57.52571429999999,
           88.46,
           58.15857140000001,
           47.1428571,
           51.1885714,
           66.1842857,
           59.464285700000005,
           60.3914286,
           55.47571429999999,
           55.425714299999996,
           58.14,
           38.3971429,
           57.30571429999999,
           60.9228571,
           66.02571429999999,
           53.7428571,
           52.48428570000001,
           59.52428570000001,
           62.0628571,
           60.0785714,
           54.34142859999999,
           69.02428570000001,
           46.8757143,
           76.6585714,
           60.8028571,
           54.88,
           54.3171429,
           57.7514286,
           54.8528571,
           67.1542857,
           60.691428599999995,
           58.157142900000004,
           65.64857140000001,
           57.221428599999996,
           57.55571429999999,
           48.98,
           62.244285700000006
          ],
          "coloraxis": "coloraxis",
          "symbol": "circle"
         },
         "mode": "markers",
         "name": "",
         "showlegend": false,
         "type": "scatter",
         "x": [
          1177.69,
          34088.09,
          264.67,
          464.3,
          3419.29,
          38121.71,
          6575.93,
          3457.95,
          2899.39,
          4356.21,
          5976.6,
          2994.25,
          912.34,
          63.53,
          5044.73,
          655.95,
          276.55,
          1473.35,
          4517.87,
          1933.09,
          661.98,
          8656.15,
          146.94,
          578.7,
          559.52,
          2141.47,
          706.79,
          433.66,
          2761.49,
          323.59,
          633.22,
          1255.45,
          364.46,
          956.98,
          4050.66,
          1535.33,
          9673.13,
          769.62,
          1158.74,
          1166.01,
          327.35,
          1567.26,
          2692.7,
          848.18,
          879.17,
          987.42,
          6857.35,
          992.89,
          463.8,
          509.35,
          1077.41,
          6572.89,
          1043.12,
          1727.56,
          8672.41,
          7295.26,
          11098.37,
          679.42,
          28563.45,
          5175.48,
          3583.2,
          4346.71,
          708.95,
          2222.73,
          4201.34,
          840.41,
          867.48,
          352.39,
          256.28,
          693.09,
          3491.22,
          501.42,
          1153.09,
          682.9,
          1360.77,
          2724.27,
          285.87,
          97.45,
          6858.37,
          10466.54,
          8916.38,
          8412.2,
          10926.92,
          2440.68,
          2876.85,
          21072.86,
          4231.02,
          12236.62,
          1816.12,
          4616.9,
          11911.97,
          2487.32,
          1923.5,
          363.66,
          717.07,
          1108.1,
          324.58,
          592.15,
          1670.67,
          740.08,
          1050.51,
          921.64,
          3998.92,
          587.22,
          277.5,
          1616.46,
          506.11,
          1536.7,
          4253.25,
          163.1,
          998.31,
          322.84,
          292.54,
          565.34,
          1375.69,
          459.65,
          509.65,
          141.41,
          141.59,
          197.21,
          2517.25,
          479.65,
          215.17,
          2826.42,
          464.87,
          608.83,
          660.56,
          427.25,
          150.23,
          211.57,
          960.06,
          1555.53,
          2213.05,
          417.09,
          3333.81,
          590.37,
          2466.39,
          1174.65,
          948.11,
          313.54,
          380.38,
          5058.2,
          439.87,
          290.4,
          267.05,
          405.1,
          344.56,
          388.01,
          2218.28,
          570.78,
          142.2,
          3901.98,
          2129.25,
          1118.62,
          2093.93,
          17602.32,
          431.41,
          2925.35,
          374.48,
          544.22,
          872.94,
          1520.35,
          559.99,
          739.75,
          232.21,
          1970.23,
          415.48,
          1585.47,
          408.35,
          216.49,
          1124.77,
          1911.42,
          477.62,
          270.17,
          615.05,
          11656.29,
          10635.99,
          7579.82,
          8707.45,
          35937.23,
          369.44,
          81.48,
          403.37,
          3553,
          4050.03,
          367.61,
          221.11,
          1165.07,
          992.99,
          728.18,
          567.79,
          207.78,
          2073.2,
          2381.46,
          1789.77,
          1736.49,
          95.98,
          8229.16,
          518.55,
          1599.93,
          1896.91,
          8819.62,
          8247.22,
          4226.44,
          2866.46,
          3026.16,
          13362.27,
          1055.74,
          758.4,
          1334.42,
          931.48,
          9940.85,
          1093.69,
          1761.52,
          4017.65,
          2113.89,
          760.07,
          4943.21,
          885.73,
          359.77,
          155.03,
          732.42,
          786.01,
          491.95,
          558.22,
          159.99,
          365.13,
          524.51,
          1236.6,
          568.13,
          500.1,
          1038.58,
          1852.86,
          6058.87,
          3303.22,
          615.88,
          18545.67,
          8433.24,
          205.52,
          594.62,
          1030.52,
          634.76,
          291.52,
          130.12,
          728.06,
          991.46,
          2778.21,
          1953.52,
          5801.21,
          2480.59,
          841.82,
          4140.32,
          1637.45,
          6421.12,
          567.36,
          4962.52,
          1756.12,
          304.11,
          935.54,
          1099.54,
          702.56,
          899.91,
          563.4,
          1983.31,
          777.49,
          3432.12,
          1247.56,
          889.15,
          1042.4,
          505.7,
          1605.92,
          962.1,
          635.32,
          878.31,
          736.95,
          1125.59,
          232.02,
          774.45,
          904.8,
          479.1,
          730.42,
          1237.64,
          695.39,
          261.37,
          1148.65,
          460.15,
          785.5,
          190.77,
          633.68,
          713.67,
          826.81,
          1023.77,
          723.32,
          180.42,
          663.87,
          313.15,
          739.97,
          475.29,
          284.1,
          1255.38,
          1150.65,
          952.83,
          1719.05,
          955.64,
          474.08,
          1041.88,
          1204.73,
          678.53,
          795.69,
          570.29,
          293.09,
          1598.73,
          1047.27,
          431.4,
          293.7,
          318.43,
          731.67,
          568.38,
          1186.54,
          1130.54,
          362.63,
          1481.68,
          585.41,
          511.04,
          708,
          1859.45,
          388.89,
          386.85,
          480.76
         ],
         "xaxis": "x",
         "y": [
          57.638571400000004,
          46.48,
          46.2828571,
          49.2585714,
          45.0614286,
          65.0485714,
          68.8528571,
          35.0957143,
          44.181428600000004,
          60.72571429999999,
          56.4728571,
          61.02571429999999,
          61.6714286,
          28.635,
          55.55571429999999,
          48.21,
          44.6985714,
          24.03,
          57.268571400000006,
          69.26,
          60.0714286,
          64.1842857,
          59.6433333,
          58.3171429,
          68.5971429,
          57.73571429999999,
          70.3485714,
          56.575714299999994,
          67.3271429,
          55.3514286,
          54.161428599999994,
          80.6128571,
          54.7228571,
          63.698571400000006,
          70.69428570000001,
          64.5914286,
          67.0157143,
          53.9128571,
          35.2757143,
          59.75,
          39.8033333,
          58.5785714,
          55.52,
          67.0014286,
          77.0514286,
          69.0814286,
          52.7485714,
          49.7742857,
          58.53,
          56.58428570000001,
          57.6328571,
          67.92,
          64.2871429,
          70.4228571,
          48.2771429,
          57.5828571,
          73.31,
          51.1328571,
          65.2914286,
          59.68,
          51.64,
          65.1,
          48.9057143,
          66.5071429,
          65.6257143,
          62.0785714,
          70.5128571,
          63.2571429,
          60.231428599999994,
          62.105714299999995,
          46.818571399999996,
          58.605714299999995,
          62.47428570000001,
          56.1785714,
          68.66571429999999,
          54.838571400000006,
          58.981428599999994,
          60,
          59.4985714,
          53.51571429999999,
          73.5371429,
          77.43285709999999,
          81.4842857,
          77.6071429,
          78.8314286,
          54.94571429999999,
          43.4857143,
          48.7471429,
          67.5614286,
          58.918571400000005,
          80.79571429999999,
          22.4285714,
          57.9471429,
          68.2514286,
          61.075714299999994,
          55.13,
          48.0328571,
          68.3614286,
          51.7957143,
          59.8514286,
          61.72428570000001,
          53.5571429,
          61.4971429,
          50.7628571,
          46.092857099999996,
          65.78428570000001,
          44.3028571,
          69.03,
          46.68,
          71.958,
          62.78,
          60.871428599999994,
          48.4671429,
          64.4714286,
          61.93,
          47.2957143,
          66.78428570000001,
          73.2,
          52.7366667,
          78.1825,
          58.6671429,
          73.0571429,
          40.548,
          66.31428570000001,
          55.715714299999995,
          33.2942857,
          40.8685714,
          62.401428599999996,
          52.5416667,
          57.6085714,
          67.6214286,
          65.1457143,
          72.5114286,
          53.89,
          63.41571429999999,
          36.7657143,
          48.0142857,
          61.064285700000006,
          52.4042857,
          54.4328571,
          53.244285700000006,
          43.5071429,
          53.91571429999999,
          42.0285714,
          63.8471429,
          56.45428570000001,
          53.465714299999995,
          56.3871429,
          59.4428571,
          57.6014286,
          65.7,
          44.4442857,
          76.0614286,
          63.342857099999996,
          61.1271429,
          55.3985714,
          72.18285709999999,
          64.8671429,
          64.71571429999999,
          64.7771429,
          57.25428570000001,
          61.97428570000001,
          59.61,
          60.0085714,
          48.214285700000005,
          60.30571429999999,
          58.0871429,
          55.638571400000004,
          52.6228571,
          51.8114286,
          55.4271429,
          54.564285700000006,
          71.70428570000001,
          42.4128571,
          66.3328571,
          67.5314286,
          50.79,
          56.36428570000001,
          64.88,
          39.59,
          59.0128571,
          46.2,
          55.738571400000005,
          41.67,
          68.4371429,
          67.6771429,
          69.2442857,
          64.56857140000001,
          66.94428570000001,
          59.0128571,
          63.22,
          48.578,
          71.1714286,
          67.31,
          59.70571429999999,
          67.4685714,
          56.6666667,
          62.4971429,
          63.2328571,
          63.261428599999995,
          66.2442857,
          68.2771429,
          62.3271429,
          69.8828571,
          64.8314286,
          63.1128571,
          70.02428570000001,
          66.67428570000001,
          69.8628571,
          54.6128571,
          59.9428571,
          43.7257143,
          62.33571429999999,
          68.28428570000001,
          72.1571429,
          64.53,
          63.7628571,
          53.9128571,
          52.7428571,
          67.2771429,
          48.0225,
          53.4671429,
          51.4814286,
          59.574285700000004,
          41.8114286,
          39.31,
          64.5514286,
          65.0828571,
          56.11571429999999,
          52.7028571,
          61.1185714,
          57.52428570000001,
          55.07,
          60.82,
          78.15,
          60.035714299999995,
          67.9471429,
          68.0985714,
          30.1866667,
          53.2528571,
          57.11,
          55.05428570000001,
          59.378571400000006,
          54.7375,
          63.0528571,
          64.9857143,
          48.8085714,
          66.6757143,
          65.1242857,
          79.00857140000001,
          58.98571429999999,
          66.9028571,
          67.9671429,
          76.18285709999999,
          66.8328571,
          62.12571429999999,
          58.3371429,
          53.791428599999996,
          62.4985714,
          50.0985714,
          60.744285700000006,
          66.9857143,
          62.0528571,
          54.97571429999999,
          67.18,
          65.55,
          61.4614286,
          60.7171429,
          55.878571400000006,
          64.3071429,
          62.005714299999994,
          40.7828571,
          64.71,
          58.0628571,
          65.6242857,
          48.35,
          70.4471429,
          53.331428599999995,
          55.38,
          53.871428599999994,
          52.9328571,
          60.8528571,
          53.58,
          52.9871429,
          50.6314286,
          56.32,
          69.4728571,
          66.37,
          63.77428570000001,
          61.41,
          56.511428599999995,
          52.965714299999995,
          57.52571429999999,
          88.46,
          58.15857140000001,
          47.1428571,
          51.1885714,
          66.1842857,
          59.464285700000005,
          60.3914286,
          55.47571429999999,
          55.425714299999996,
          58.14,
          38.3971429,
          57.30571429999999,
          60.9228571,
          66.02571429999999,
          53.7428571,
          52.48428570000001,
          59.52428570000001,
          62.0628571,
          60.0785714,
          54.34142859999999,
          69.02428570000001,
          46.8757143,
          76.6585714,
          60.8028571,
          54.88,
          54.3171429,
          57.7514286,
          54.8528571,
          67.1542857,
          60.691428599999995,
          58.157142900000004,
          65.64857140000001,
          57.221428599999996,
          57.55571429999999,
          48.98,
          62.244285700000006
         ],
         "yaxis": "y"
        },
        {
         "hovertemplate": "<b>OLS trendline</b><br>Reading Proficiency = 9.19467e-05 * Enrollment + 58.7576<br>R<sup>2</sup>=0.001947<br><br>Enrollment=%{x}<br>Reading Proficiency=%{y} <b>(trend)</b><extra></extra>",
         "legendgroup": "",
         "marker": {
          "symbol": "circle"
         },
         "mode": "lines",
         "name": "",
         "showlegend": false,
         "type": "scatter",
         "x": [
          63.53,
          81.48,
          95.98,
          97.45,
          130.12,
          141.41,
          141.59,
          142.2,
          146.94,
          150.23,
          155.03,
          159.99,
          163.1,
          180.42,
          190.77,
          197.21,
          205.52,
          207.78,
          211.57,
          215.17,
          216.49,
          221.11,
          232.02,
          232.21,
          256.28,
          261.37,
          264.67,
          267.05,
          270.17,
          276.55,
          277.5,
          284.1,
          285.87,
          290.4,
          291.52,
          292.54,
          293.09,
          293.7,
          304.11,
          313.15,
          313.54,
          318.43,
          322.84,
          323.59,
          324.58,
          327.35,
          344.56,
          352.39,
          359.77,
          362.63,
          363.66,
          364.46,
          365.13,
          367.61,
          369.44,
          374.48,
          380.38,
          386.85,
          388.01,
          388.89,
          403.37,
          405.1,
          408.35,
          415.48,
          417.09,
          427.25,
          431.4,
          431.41,
          433.66,
          439.87,
          459.65,
          460.15,
          463.8,
          464.3,
          464.87,
          474.08,
          475.29,
          477.62,
          479.1,
          479.65,
          480.76,
          491.95,
          500.1,
          501.42,
          505.7,
          506.11,
          509.35,
          509.65,
          511.04,
          518.55,
          524.51,
          544.22,
          558.22,
          559.52,
          559.99,
          563.4,
          565.34,
          567.36,
          567.79,
          568.13,
          568.38,
          570.29,
          570.78,
          578.7,
          585.41,
          587.22,
          590.37,
          592.15,
          594.62,
          608.83,
          615.05,
          615.88,
          633.22,
          633.68,
          634.76,
          635.32,
          655.95,
          660.56,
          661.98,
          663.87,
          678.53,
          679.42,
          682.9,
          693.09,
          695.39,
          702.56,
          706.79,
          708,
          708.95,
          713.67,
          717.07,
          723.32,
          728.06,
          728.18,
          730.42,
          731.67,
          732.42,
          736.95,
          739.75,
          739.97,
          740.08,
          758.4,
          760.07,
          769.62,
          774.45,
          777.49,
          785.5,
          786.01,
          795.69,
          826.81,
          840.41,
          841.82,
          848.18,
          867.48,
          872.94,
          878.31,
          879.17,
          885.73,
          889.15,
          899.91,
          904.8,
          912.34,
          921.64,
          931.48,
          935.54,
          948.11,
          952.83,
          955.64,
          956.98,
          960.06,
          962.1,
          987.42,
          991.46,
          992.89,
          992.99,
          998.31,
          1023.77,
          1030.52,
          1038.58,
          1041.88,
          1042.4,
          1043.12,
          1047.27,
          1050.51,
          1055.74,
          1077.41,
          1093.69,
          1099.54,
          1108.1,
          1118.62,
          1124.77,
          1125.59,
          1130.54,
          1148.65,
          1150.65,
          1153.09,
          1158.74,
          1165.07,
          1166.01,
          1174.65,
          1177.69,
          1186.54,
          1204.73,
          1236.6,
          1237.64,
          1247.56,
          1255.38,
          1255.45,
          1334.42,
          1360.77,
          1375.69,
          1473.35,
          1481.68,
          1520.35,
          1535.33,
          1536.7,
          1555.53,
          1567.26,
          1585.47,
          1598.73,
          1599.93,
          1605.92,
          1616.46,
          1637.45,
          1670.67,
          1719.05,
          1727.56,
          1736.49,
          1756.12,
          1761.52,
          1789.77,
          1816.12,
          1852.86,
          1859.45,
          1896.91,
          1911.42,
          1923.5,
          1933.09,
          1953.52,
          1970.23,
          1983.31,
          2073.2,
          2093.93,
          2113.89,
          2129.25,
          2141.47,
          2213.05,
          2218.28,
          2222.73,
          2381.46,
          2440.68,
          2466.39,
          2480.59,
          2487.32,
          2517.25,
          2692.7,
          2724.27,
          2761.49,
          2778.21,
          2826.42,
          2866.46,
          2876.85,
          2899.39,
          2925.35,
          2994.25,
          3026.16,
          3303.22,
          3333.81,
          3419.29,
          3432.12,
          3457.95,
          3491.22,
          3553,
          3583.2,
          3901.98,
          3998.92,
          4017.65,
          4050.03,
          4050.66,
          4140.32,
          4201.34,
          4226.44,
          4231.02,
          4253.25,
          4346.71,
          4356.21,
          4517.87,
          4616.9,
          4943.21,
          4962.52,
          5044.73,
          5058.2,
          5175.48,
          5801.21,
          5976.6,
          6058.87,
          6421.12,
          6572.89,
          6575.93,
          6857.35,
          6858.37,
          7295.26,
          7579.82,
          8229.16,
          8247.22,
          8412.2,
          8433.24,
          8656.15,
          8672.41,
          8707.45,
          8819.62,
          8916.38,
          9673.13,
          9940.85,
          10466.54,
          10635.99,
          10926.92,
          11098.37,
          11656.29,
          11911.97,
          12236.62,
          13362.27,
          17602.32,
          18545.67,
          21072.86,
          28563.45,
          34088.09,
          35937.23,
          38121.71
         ],
         "xaxis": "x",
         "y": [
          58.76342329985804,
          58.76507374299693,
          58.76640697004506,
          58.766542131683735,
          58.76954603014322,
          58.7705841083069,
          58.770600658711636,
          58.77065674619435,
          58.77109257351905,
          58.77139507813894,
          58.77183642226521,
          58.772292477862365,
          58.772578432077516,
          58.774170948799835,
          58.77512259707213,
          58.77571473377488,
          58.7764788107935,
          58.77668661031962,
          58.777035088286,
          58.7773660963807,
          58.77748746601543,
          58.77791225973697,
          58.778915398157324,
          58.778932868028996,
          58.781146024928894,
          58.78161403359613,
          58.781917457682944,
          58.782136290812225,
          58.78242316449431,
          58.78300978439549,
          58.78309713375381,
          58.783703981927445,
          58.78386672757401,
          58.78428324609318,
          58.784386226389316,
          58.78448001201615,
          58.784530582697286,
          58.78458667018,
          58.78554383525387,
          58.786375033358354,
          58.78641089256862,
          58.78686051189726,
          58.78726599681328,
          58.78733495683301,
          58.787425984059055,
          58.787680676398594,
          58.78926307898469,
          58.78998302159068,
          58.79066158818483,
          58.79092455572674,
          58.791019260820505,
          58.79109281817488,
          58.79115442245917,
          58.79138245025775,
          58.7915507127059,
          58.79201412403849,
          58.79255660952704,
          58.793151504630586,
          58.79325816279444,
          58.793339075884255,
          58.79467046399852,
          58.79482953177737,
          58.79512835852954,
          58.79578393845045,
          58.795931972626136,
          58.796866151026755,
          58.7972477298026,
          58.797248649269534,
          58.79745552932872,
          58.7980265182921,
          58.79984522387913,
          58.79989119722562,
          58.800226802654976,
          58.800272776001464,
          58.80032518561646,
          58.80117201465875,
          58.801283270157256,
          58.801497505951886,
          58.80163358705749,
          58.80168415773863,
          58.80178621856783,
          58.80281510206221,
          58.80356446760996,
          58.803685837244686,
          58.804079369090616,
          58.804117067234735,
          58.80441497451997,
          58.80444255852786,
          58.8045703644311,
          58.80526088409534,
          58.80580888638546,
          58.807621155704,
          58.80890840940564,
          58.8090279401065,
          58.8090711550522,
          58.80938469327525,
          58.80956306985962,
          58.80974880217943,
          58.80978833925741,
          58.809819601133015,
          58.80984258780626,
          58.81001820598984,
          58.8100632598694,
          58.81079147767776,
          58.811408439987616,
          58.8115748635019,
          58.81186449558477,
          58.81202816069827,
          58.81225526902991,
          58.813561831537086,
          58.81413373996739,
          58.814210055722555,
          58.815804411378735,
          58.8158467068575,
          58.815946009285916,
          58.81599749943398,
          58.817894359710046,
          58.81831823396466,
          58.81844879826868,
          58.818622577518404,
          58.819970516037415,
          58.82005234859416,
          58.820372323085714,
          58.82130925988712,
          58.82152073728096,
          58.82217999506959,
          58.822568929580875,
          58.82268018507937,
          58.8227675344377,
          58.82320152282854,
          58.82351414158465,
          58.824088808415745,
          58.824524635740445,
          58.824535669343604,
          58.824741629935865,
          58.824856563302085,
          58.82492552332182,
          58.82534204184099,
          58.82559949258132,
          58.82561972085377,
          58.825629834989996,
          58.82731429840529,
          58.82746784938256,
          58.828345940300466,
          58.828790042827535,
          58.82906956077418,
          58.82980605378491,
          58.82985294659832,
          58.830742990586316,
          58.83360437167168,
          58.83485484669614,
          58.834984491533234,
          58.83556927250055,
          58.837343843674965,
          58.8378458726186,
          58.838339626359875,
          58.83841870051584,
          58.839021870821746,
          58.83933632851172,
          58.84032567492813,
          58.84077529425677,
          58.8414685723218,
          58.842323676566465,
          58.843228432025334,
          58.84360173559881,
          58.8447575055295,
          58.845191493920346,
          58.8454498641276,
          58.84557307269619,
          58.84585626851055,
          58.84604383976422,
          58.84837193003033,
          58.84874339466995,
          58.8488748784409,
          58.848884073110206,
          58.84937322951683,
          58.85171419231996,
          58.85233483249754,
          58.85307592284291,
          58.85337934692973,
          58.85342715921008,
          58.85349336082902,
          58.853874939604864,
          58.8541728468901,
          58.854653728094355,
          58.85664621293112,
          58.85814310509274,
          58.858680993246644,
          58.85946805693851,
          58.8604353361486,
          58.86100080831039,
          58.86107620459863,
          58.86153134072886,
          58.86319649533863,
          58.86338038872458,
          58.86360473865543,
          58.86412423747074,
          58.86470626003727,
          58.86479268992867,
          58.865587109355964,
          58.86586662730261,
          58.866680355535436,
          58.868352865880645,
          58.871283206985744,
          58.87137883154644,
          58.87229094274075,
          58.87300996587981,
          58.873016402148316,
          58.88027743249252,
          58.882700227852396,
          58.88407207251158,
          58.89305158654748,
          58.89381750249996,
          58.89737308111729,
          58.89875044257804,
          58.89887640954742,
          58.90060776577613,
          58.90168630048472,
          58.90336064976379,
          58.904579862912634,
          58.9046901989442,
          58.90524095963512,
          58.90621007777907,
          58.90814003886461,
          58.911194508005224,
          58.91564288901134,
          58.91642535536855,
          58.917246439336814,
          58.9190513529199,
          58.919547865061965,
          58.9221453591385,
          58.92456815449838,
          58.927946275998266,
          58.92855220470497,
          58.9319965278238,
          58.933330674338855,
          58.93444139038999,
          58.93532315917562,
          58.93720163011309,
          58.938738059352694,
          58.9399407220968,
          58.94820581032829,
          58.95011186527365,
          58.95194712126543,
          58.95335942246951,
          58.95448301105766,
          58.96106455534078,
          58.961545436545045,
          58.96195459932878,
          58.97654929790463,
          58.98199438106259,
          58.98435833053897,
          58.98566397357921,
          58.986282774822925,
          58.98903473934366,
          59.00516678662605,
          59.00806954372325,
          59.01149179963577,
          59.013029148342305,
          59.01746189841061,
          59.02114344399731,
          59.02209877013732,
          59.024171248596964,
          59.026558184746584,
          59.032893311892536,
          59.03582733086535,
          59.061302081620894,
          59.06411473095899,
          59.07197433427446,
          59.07315401034532,
          59.075528993424854,
          59.07858805990012,
          59.08426852659209,
          59.08704531671992,
          59.11635608350636,
          59.12526939592332,
          59.12699155748273,
          59.129968791401254,
          59.13002671781783,
          59.13827065830993,
          59.14388124551524,
          59.146189107508896,
          59.14661022336272,
          59.14865419834755,
          59.157247536272955,
          59.15812102985621,
          59.17298513224249,
          59.18209061324776,
          59.2120937386323,
          59.213869229273634,
          59.22142816690308,
          59.222666688857444,
          59.2334501970095,
          59.2909840012045,
          59.30711053168531,
          59.31467498611633,
          59.34798267564638,
          59.361937425239134,
          59.36221694318577,
          59.388092581522685,
          59.388186367149515,
          59.428356957843185,
          59.45452130879604,
          59.51422597441216,
          59.51588653168728,
          59.53105589709423,
          59.532990455514415,
          59.553486292845385,
          59.55498134607315,
          59.55820315819498,
          59.56851681874594,
          59.57741358075816,
          59.646994240666686,
          59.67161020930984,
          59.719945666339655,
          59.7355260334642,
          59.762276084851294,
          59.77804034536179,
          59.829339244306176,
          59.85284817476592,
          59.882698668640124,
          59.98619846358697,
          60.37605703913389,
          60.46279495195147,
          60.695161714969935,
          61.383896693898485,
          61.89186907177364,
          62.06189137962068,
          62.262747091489814
         ],
         "yaxis": "y"
        }
       ],
       "layout": {
        "coloraxis": {
         "colorbar": {
          "title": {
           "text": "Reading Proficiency"
          }
         },
         "colorscale": [
          [
           0,
           "#0d0887"
          ],
          [
           0.1111111111111111,
           "#46039f"
          ],
          [
           0.2222222222222222,
           "#7201a8"
          ],
          [
           0.3333333333333333,
           "#9c179e"
          ],
          [
           0.4444444444444444,
           "#bd3786"
          ],
          [
           0.5555555555555556,
           "#d8576b"
          ],
          [
           0.6666666666666666,
           "#ed7953"
          ],
          [
           0.7777777777777778,
           "#fb9f3a"
          ],
          [
           0.8888888888888888,
           "#fdca26"
          ],
          [
           1,
           "#f0f921"
          ]
         ]
        },
        "legend": {
         "tracegroupgap": 0
        },
        "template": {
         "data": {
          "bar": [
           {
            "error_x": {
             "color": "#2a3f5f"
            },
            "error_y": {
             "color": "#2a3f5f"
            },
            "marker": {
             "line": {
              "color": "#E5ECF6",
              "width": 0.5
             }
            },
            "type": "bar"
           }
          ],
          "barpolar": [
           {
            "marker": {
             "line": {
              "color": "#E5ECF6",
              "width": 0.5
             }
            },
            "type": "barpolar"
           }
          ],
          "carpet": [
           {
            "aaxis": {
             "endlinecolor": "#2a3f5f",
             "gridcolor": "white",
             "linecolor": "white",
             "minorgridcolor": "white",
             "startlinecolor": "#2a3f5f"
            },
            "baxis": {
             "endlinecolor": "#2a3f5f",
             "gridcolor": "white",
             "linecolor": "white",
             "minorgridcolor": "white",
             "startlinecolor": "#2a3f5f"
            },
            "type": "carpet"
           }
          ],
          "choropleth": [
           {
            "colorbar": {
             "outlinewidth": 0,
             "ticks": ""
            },
            "type": "choropleth"
           }
          ],
          "contour": [
           {
            "colorbar": {
             "outlinewidth": 0,
             "ticks": ""
            },
            "colorscale": [
             [
              0,
              "#0d0887"
             ],
             [
              0.1111111111111111,
              "#46039f"
             ],
             [
              0.2222222222222222,
              "#7201a8"
             ],
             [
              0.3333333333333333,
              "#9c179e"
             ],
             [
              0.4444444444444444,
              "#bd3786"
             ],
             [
              0.5555555555555556,
              "#d8576b"
             ],
             [
              0.6666666666666666,
              "#ed7953"
             ],
             [
              0.7777777777777778,
              "#fb9f3a"
             ],
             [
              0.8888888888888888,
              "#fdca26"
             ],
             [
              1,
              "#f0f921"
             ]
            ],
            "type": "contour"
           }
          ],
          "contourcarpet": [
           {
            "colorbar": {
             "outlinewidth": 0,
             "ticks": ""
            },
            "type": "contourcarpet"
           }
          ],
          "heatmap": [
           {
            "colorbar": {
             "outlinewidth": 0,
             "ticks": ""
            },
            "colorscale": [
             [
              0,
              "#0d0887"
             ],
             [
              0.1111111111111111,
              "#46039f"
             ],
             [
              0.2222222222222222,
              "#7201a8"
             ],
             [
              0.3333333333333333,
              "#9c179e"
             ],
             [
              0.4444444444444444,
              "#bd3786"
             ],
             [
              0.5555555555555556,
              "#d8576b"
             ],
             [
              0.6666666666666666,
              "#ed7953"
             ],
             [
              0.7777777777777778,
              "#fb9f3a"
             ],
             [
              0.8888888888888888,
              "#fdca26"
             ],
             [
              1,
              "#f0f921"
             ]
            ],
            "type": "heatmap"
           }
          ],
          "heatmapgl": [
           {
            "colorbar": {
             "outlinewidth": 0,
             "ticks": ""
            },
            "colorscale": [
             [
              0,
              "#0d0887"
             ],
             [
              0.1111111111111111,
              "#46039f"
             ],
             [
              0.2222222222222222,
              "#7201a8"
             ],
             [
              0.3333333333333333,
              "#9c179e"
             ],
             [
              0.4444444444444444,
              "#bd3786"
             ],
             [
              0.5555555555555556,
              "#d8576b"
             ],
             [
              0.6666666666666666,
              "#ed7953"
             ],
             [
              0.7777777777777778,
              "#fb9f3a"
             ],
             [
              0.8888888888888888,
              "#fdca26"
             ],
             [
              1,
              "#f0f921"
             ]
            ],
            "type": "heatmapgl"
           }
          ],
          "histogram": [
           {
            "marker": {
             "colorbar": {
              "outlinewidth": 0,
              "ticks": ""
             }
            },
            "type": "histogram"
           }
          ],
          "histogram2d": [
           {
            "colorbar": {
             "outlinewidth": 0,
             "ticks": ""
            },
            "colorscale": [
             [
              0,
              "#0d0887"
             ],
             [
              0.1111111111111111,
              "#46039f"
             ],
             [
              0.2222222222222222,
              "#7201a8"
             ],
             [
              0.3333333333333333,
              "#9c179e"
             ],
             [
              0.4444444444444444,
              "#bd3786"
             ],
             [
              0.5555555555555556,
              "#d8576b"
             ],
             [
              0.6666666666666666,
              "#ed7953"
             ],
             [
              0.7777777777777778,
              "#fb9f3a"
             ],
             [
              0.8888888888888888,
              "#fdca26"
             ],
             [
              1,
              "#f0f921"
             ]
            ],
            "type": "histogram2d"
           }
          ],
          "histogram2dcontour": [
           {
            "colorbar": {
             "outlinewidth": 0,
             "ticks": ""
            },
            "colorscale": [
             [
              0,
              "#0d0887"
             ],
             [
              0.1111111111111111,
              "#46039f"
             ],
             [
              0.2222222222222222,
              "#7201a8"
             ],
             [
              0.3333333333333333,
              "#9c179e"
             ],
             [
              0.4444444444444444,
              "#bd3786"
             ],
             [
              0.5555555555555556,
              "#d8576b"
             ],
             [
              0.6666666666666666,
              "#ed7953"
             ],
             [
              0.7777777777777778,
              "#fb9f3a"
             ],
             [
              0.8888888888888888,
              "#fdca26"
             ],
             [
              1,
              "#f0f921"
             ]
            ],
            "type": "histogram2dcontour"
           }
          ],
          "mesh3d": [
           {
            "colorbar": {
             "outlinewidth": 0,
             "ticks": ""
            },
            "type": "mesh3d"
           }
          ],
          "parcoords": [
           {
            "line": {
             "colorbar": {
              "outlinewidth": 0,
              "ticks": ""
             }
            },
            "type": "parcoords"
           }
          ],
          "pie": [
           {
            "automargin": true,
            "type": "pie"
           }
          ],
          "scatter": [
           {
            "marker": {
             "colorbar": {
              "outlinewidth": 0,
              "ticks": ""
             }
            },
            "type": "scatter"
           }
          ],
          "scatter3d": [
           {
            "line": {
             "colorbar": {
              "outlinewidth": 0,
              "ticks": ""
             }
            },
            "marker": {
             "colorbar": {
              "outlinewidth": 0,
              "ticks": ""
             }
            },
            "type": "scatter3d"
           }
          ],
          "scattercarpet": [
           {
            "marker": {
             "colorbar": {
              "outlinewidth": 0,
              "ticks": ""
             }
            },
            "type": "scattercarpet"
           }
          ],
          "scattergeo": [
           {
            "marker": {
             "colorbar": {
              "outlinewidth": 0,
              "ticks": ""
             }
            },
            "type": "scattergeo"
           }
          ],
          "scattergl": [
           {
            "marker": {
             "colorbar": {
              "outlinewidth": 0,
              "ticks": ""
             }
            },
            "type": "scattergl"
           }
          ],
          "scattermapbox": [
           {
            "marker": {
             "colorbar": {
              "outlinewidth": 0,
              "ticks": ""
             }
            },
            "type": "scattermapbox"
           }
          ],
          "scatterpolar": [
           {
            "marker": {
             "colorbar": {
              "outlinewidth": 0,
              "ticks": ""
             }
            },
            "type": "scatterpolar"
           }
          ],
          "scatterpolargl": [
           {
            "marker": {
             "colorbar": {
              "outlinewidth": 0,
              "ticks": ""
             }
            },
            "type": "scatterpolargl"
           }
          ],
          "scatterternary": [
           {
            "marker": {
             "colorbar": {
              "outlinewidth": 0,
              "ticks": ""
             }
            },
            "type": "scatterternary"
           }
          ],
          "surface": [
           {
            "colorbar": {
             "outlinewidth": 0,
             "ticks": ""
            },
            "colorscale": [
             [
              0,
              "#0d0887"
             ],
             [
              0.1111111111111111,
              "#46039f"
             ],
             [
              0.2222222222222222,
              "#7201a8"
             ],
             [
              0.3333333333333333,
              "#9c179e"
             ],
             [
              0.4444444444444444,
              "#bd3786"
             ],
             [
              0.5555555555555556,
              "#d8576b"
             ],
             [
              0.6666666666666666,
              "#ed7953"
             ],
             [
              0.7777777777777778,
              "#fb9f3a"
             ],
             [
              0.8888888888888888,
              "#fdca26"
             ],
             [
              1,
              "#f0f921"
             ]
            ],
            "type": "surface"
           }
          ],
          "table": [
           {
            "cells": {
             "fill": {
              "color": "#EBF0F8"
             },
             "line": {
              "color": "white"
             }
            },
            "header": {
             "fill": {
              "color": "#C8D4E3"
             },
             "line": {
              "color": "white"
             }
            },
            "type": "table"
           }
          ]
         },
         "layout": {
          "annotationdefaults": {
           "arrowcolor": "#2a3f5f",
           "arrowhead": 0,
           "arrowwidth": 1
          },
          "coloraxis": {
           "colorbar": {
            "outlinewidth": 0,
            "ticks": ""
           }
          },
          "colorscale": {
           "diverging": [
            [
             0,
             "#8e0152"
            ],
            [
             0.1,
             "#c51b7d"
            ],
            [
             0.2,
             "#de77ae"
            ],
            [
             0.3,
             "#f1b6da"
            ],
            [
             0.4,
             "#fde0ef"
            ],
            [
             0.5,
             "#f7f7f7"
            ],
            [
             0.6,
             "#e6f5d0"
            ],
            [
             0.7,
             "#b8e186"
            ],
            [
             0.8,
             "#7fbc41"
            ],
            [
             0.9,
             "#4d9221"
            ],
            [
             1,
             "#276419"
            ]
           ],
           "sequential": [
            [
             0,
             "#0d0887"
            ],
            [
             0.1111111111111111,
             "#46039f"
            ],
            [
             0.2222222222222222,
             "#7201a8"
            ],
            [
             0.3333333333333333,
             "#9c179e"
            ],
            [
             0.4444444444444444,
             "#bd3786"
            ],
            [
             0.5555555555555556,
             "#d8576b"
            ],
            [
             0.6666666666666666,
             "#ed7953"
            ],
            [
             0.7777777777777778,
             "#fb9f3a"
            ],
            [
             0.8888888888888888,
             "#fdca26"
            ],
            [
             1,
             "#f0f921"
            ]
           ],
           "sequentialminus": [
            [
             0,
             "#0d0887"
            ],
            [
             0.1111111111111111,
             "#46039f"
            ],
            [
             0.2222222222222222,
             "#7201a8"
            ],
            [
             0.3333333333333333,
             "#9c179e"
            ],
            [
             0.4444444444444444,
             "#bd3786"
            ],
            [
             0.5555555555555556,
             "#d8576b"
            ],
            [
             0.6666666666666666,
             "#ed7953"
            ],
            [
             0.7777777777777778,
             "#fb9f3a"
            ],
            [
             0.8888888888888888,
             "#fdca26"
            ],
            [
             1,
             "#f0f921"
            ]
           ]
          },
          "colorway": [
           "#636efa",
           "#EF553B",
           "#00cc96",
           "#ab63fa",
           "#FFA15A",
           "#19d3f3",
           "#FF6692",
           "#B6E880",
           "#FF97FF",
           "#FECB52"
          ],
          "font": {
           "color": "#2a3f5f"
          },
          "geo": {
           "bgcolor": "white",
           "lakecolor": "white",
           "landcolor": "#E5ECF6",
           "showlakes": true,
           "showland": true,
           "subunitcolor": "white"
          },
          "hoverlabel": {
           "align": "left"
          },
          "hovermode": "closest",
          "mapbox": {
           "style": "light"
          },
          "paper_bgcolor": "white",
          "plot_bgcolor": "#E5ECF6",
          "polar": {
           "angularaxis": {
            "gridcolor": "white",
            "linecolor": "white",
            "ticks": ""
           },
           "bgcolor": "#E5ECF6",
           "radialaxis": {
            "gridcolor": "white",
            "linecolor": "white",
            "ticks": ""
           }
          },
          "scene": {
           "xaxis": {
            "backgroundcolor": "#E5ECF6",
            "gridcolor": "white",
            "gridwidth": 2,
            "linecolor": "white",
            "showbackground": true,
            "ticks": "",
            "zerolinecolor": "white"
           },
           "yaxis": {
            "backgroundcolor": "#E5ECF6",
            "gridcolor": "white",
            "gridwidth": 2,
            "linecolor": "white",
            "showbackground": true,
            "ticks": "",
            "zerolinecolor": "white"
           },
           "zaxis": {
            "backgroundcolor": "#E5ECF6",
            "gridcolor": "white",
            "gridwidth": 2,
            "linecolor": "white",
            "showbackground": true,
            "ticks": "",
            "zerolinecolor": "white"
           }
          },
          "shapedefaults": {
           "line": {
            "color": "#2a3f5f"
           }
          },
          "ternary": {
           "aaxis": {
            "gridcolor": "white",
            "linecolor": "white",
            "ticks": ""
           },
           "baxis": {
            "gridcolor": "white",
            "linecolor": "white",
            "ticks": ""
           },
           "bgcolor": "#E5ECF6",
           "caxis": {
            "gridcolor": "white",
            "linecolor": "white",
            "ticks": ""
           }
          },
          "title": {
           "x": 0.05
          },
          "xaxis": {
           "automargin": true,
           "gridcolor": "white",
           "linecolor": "white",
           "ticks": "",
           "title": {
            "standoff": 15
           },
           "zerolinecolor": "white",
           "zerolinewidth": 2
          },
          "yaxis": {
           "automargin": true,
           "gridcolor": "white",
           "linecolor": "white",
           "ticks": "",
           "title": {
            "standoff": 15
           },
           "zerolinecolor": "white",
           "zerolinewidth": 2
          }
         }
        },
        "title": {
         "text": "Reading Proficiency (%) vs. Enrollment by School District"
        },
        "xaxis": {
         "anchor": "y",
         "domain": [
          0,
          1
         ],
         "title": {
          "text": "Enrollment"
         },
         "type": "log"
        },
        "yaxis": {
         "anchor": "x",
         "domain": [
          0,
          1
         ],
         "title": {
          "text": "Reading Proficiency"
         }
        }
       }
      },
      "text/html": [
       "<div>\n",
       "        \n",
       "        \n",
       "            <div id=\"d16ed920-19bd-499e-8cd8-056f0911b213\" class=\"plotly-graph-div\" style=\"height:525px; width:100%;\"></div>\n",
       "            <script type=\"text/javascript\">\n",
       "                require([\"plotly\"], function(Plotly) {\n",
       "                    window.PLOTLYENV=window.PLOTLYENV || {};\n",
       "                    \n",
       "                if (document.getElementById(\"d16ed920-19bd-499e-8cd8-056f0911b213\")) {\n",
       "                    Plotly.newPlot(\n",
       "                        'd16ed920-19bd-499e-8cd8-056f0911b213',\n",
       "                        [{\"customdata\": [[\"Aitkin Public School District\"], [\"Minneapolis Public School District\"], [\"Hill City Public School District\"], [\"McGregor Public School District\"], [\"South St. Paul Public School District\"], [\"Anoka-Hennepin Public School District\"], [\"Centennial Public School District\"], [\"Columbia Heights Public School District\"], [\"Fridley Public School District\"], [\"St. Francis Public School District\"], [\"Spring Lake Park Public Schools\"], [\"Detroit Lakes Public School District\"], [\"Frazee-Vergas Public School District\"], [\"Pine Point Public School District\"], [\"Bemidji Public School District\"], [\"Blackduck Public School District\"], [\"Kelliher Public School District\"], [\"Red Lake Public School District\"], [\"Sauk Rapids-Rice Public Schools\"], [\"Foley Public School District\"], [\"St. Clair Public School District\"], [\"Mankato Public School District\"], [\"Comfrey Public School District\"], [\"Sleepy Eye Public School District\"], [\"Springfield Public School District\"], [\"New Ulm Public School District\"], [\"Barnum Public School District\"], [\"Carlton Public School District\"], [\"Cloquet Public School District\"], [\"Cromwell-Wright Public Schools\"], [\"Moose Lake Public School District\"], [\"Esko Public School District\"], [\"Wrenshall Public School District\"], [\"Central Public School District\"], [\"Waconia Public School District\"], [\"Watertown-Mayer Public School District\"], [\"Eastern Carver County Public Schools\"], [\"Walker-Hackensack-Akeley School District\"], [\"Cass Lake-Bena Public Schools\"], [\"Pillager Public School District\"], [\"Northland Community Schools\"], [\"Montevideo Public School District\"], [\"North Branch Public Schools\"], [\"Rush City Public School District\"], [\"Barnesville Public School District\"], [\"Hawley Public School District\"], [\"Moorhead Public School District\"], [\"Bagley Public School District\"], [\"Cook County Public Schools\"], [\"Mountain Lake Public Schools\"], [\"Windom Public School District\"], [\"Brainerd Public School District\"], [\"Crosby-Ironton Public School District\"], [\"Pequot Lakes Public Schools\"], [\"Burnsville Public School District\"], [\"Farmington Public School District\"], [\"Lakeville Public School District\"], [\"Randolph Public School District\"], [\"Rosemount-Apple Valley-Eagan\"], [\"West St. Paul-Mendota Heights-Eagan\"], [\"Inver Grove Heights Schools\"], [\"Hastings Public School District\"], [\"Hayfield Public School District\"], [\"Kasson-Mantorville School District\"], [\"Alexandria Public School District\"], [\"Osakis Public School District\"], [\"Chatfield Public Schools\"], [\"Lanesboro Public School District\"], [\"Mabel-Canton Public School District\"], [\"Rushford-Peterson Public Schools\"], [\"Albert Lea Public School District\"], [\"Alden-Conger Public School District\"], [\"Cannon Falls Public School District\"], [\"Goodhue Public School District\"], [\"Pine Island Public School District\"], [\"Red Wing Public School District\"], [\"Ashby Public School District\"], [\"Herman-Norcross School District\"], [\"Hopkins Public School District\"], [\"Bloomington Public School District\"], [\"Eden Prairie Public School District\"], [\"Edina Public School District\"], [\"Minnetonka Public School District\"], [\"Westonka Public School District\"], [\"Orono Public School District\"], [\"Osseo Public School District\"], [\"Richfield Public School District\"], [\"Robbinsdale Public School District\"], [\"St. Anthony-New Brighton Schools\"], [\"St. Louis Park Public School District\"], [\"Wayzata Public School District\"], [\"Brooklyn Center School District\"], [\"Houston Public School District\"], [\"Spring Grove School District\"], [\"Caledonia Public School District\"], [\"La Crescent-Hokah School District\"], [\"Laporte Public School District\"], [\"Nevis Public School District\"], [\"Park Rapids Public School District\"], [\"Braham Public School District\"], [\"Greenway Public School District\"], [\"Deer River Public School District\"], [\"Grand Rapids Public School District\"], [\"Nashwauk-Keewatin School District\"], [\"Heron Lake-Okabena School District\"], [\"Mora Public School District\"], [\"Ogilvie Public School District\"], [\"New London-Spicer School District\"], [\"Willmar Public School District\"], [\"Lancaster Public School District\"], [\"International Falls School District\"], [\"Littlefork-Big Falls School District\"], [\"South Koochiching School District\"], [\"Dawson-Boyd Public School District\"], [\"Lake Superior Public School District\"], [\"Lake of The Woods School District\"], [\"Cleveland Public School District\"], [\"Hendricks Public School District\"], [\"Ivanhoe Public School District\"], [\"Lake Benton Public School District\"], [\"Marshall Public School District\"], [\"Minneota Public School District\"], [\"Lynd Public School District\"], [\"Hutchinson Public School District\"], [\"Lester Prairie Public School District\"], [\"Mahnomen Public School District\"], [\"Waubun-Ogema-White Earth Public Schools\"], [\"Marshall County Central Schools\"], [\"Grygla Public School District\"], [\"Truman Public School District\"], [\"Eden Valley-Watkins School District\"], [\"Litchfield Public School District\"], [\"Dassel-Cokato Public School District\"], [\"Isle Public School District\"], [\"Princeton Public School District\"], [\"Onamia Public School District\"], [\"Little Falls Public School District\"], [\"Pierz Public School District\"], [\"Royalton Public School District\"], [\"Swanville Public School District\"], [\"Upsala Public School District\"], [\"Austin Public School District\"], [\"Grand Meadow Public School District\"], [\"Lyle Public School District\"], [\"LeRoy-Ostrander Public Schools\"], [\"Southland Public School District\"], [\"Fulda Public School District\"], [\"Nicollet Public School District\"], [\"St. Peter Public School District\"], [\"Adrian Public School District\"], [\"Ellsworth Public School District\"], [\"Worthington Public School District\"], [\"Byron Public School District\"], [\"Dover-Eyota Public School District\"], [\"Stewartville Public School District\"], [\"Rochester Public School District\"], [\"Battle Lake Public School District\"], [\"Fergus Falls Public School District\"], [\"Henning Public School District\"], [\"Parkers Prairie Public School District\"], [\"Pelican Rapids Public School District\"], [\"Perham-Dent Public School District\"], [\"Underwood Public School District\"], [\"New York Mills Public School District\"], [\"Goodridge Public School District\"], [\"Thief River Falls School District\"], [\"Willow River Public School District\"], [\"Pine City Public School District\"], [\"Edgerton Public School District\"], [\"Climax-Shelly Public Schools\"], [\"Crookston Public School District\"], [\"East Grand Forks Public School District\"], [\"Fertile-Beltrami School District\"], [\"Fisher Public School District\"], [\"Fosston Public School District\"], [\"Mounds View Public School District\"], [\"North St. Paul-Maplewood-Oakdale School District\"], [\"Roseville Public School District\"], [\"White Bear Lake School District\"], [\"St. Paul Public School District\"], [\"Red Lake Falls Public School District\"], [\"Milroy Public School District\"], [\"Wabasso Public School District\"], [\"Faribault Public School District\"], [\"Northfield Public School District\"], [\"Hills-Beaver Creek School District\"], [\"Badger Public School District\"], [\"Roseau Public School District\"], [\"Warroad Public School District\"], [\"Chisholm Public School District\"], [\"Ely Public School District\"], [\"Floodwood Public School District\"], [\"Hermantown Public School District\"], [\"Hibbing Public School District\"], [\"Proctor Public School District\"], [\"Virginia Public School District\"], [\"Nett Lake Public School District\"], [\"Duluth Public School District\"], [\"Mountain Iron-Buhl School District\"], [\"Belle Plaine Public School District\"], [\"Jordan Public School District\"], [\"Prior Lake-Savage Area Schools\"], [\"Shakopee Public School District\"], [\"New Prague Area Schools\"], [\"Becker Public School District\"], [\"Big Lake Public School District\"], [\"Elk River Public School District\"], [\"Holdingford Public School District\"], [\"Kimball Public School District\"], [\"Melrose Public School District\"], [\"Paynesville Public School District\"], [\"St. Cloud Public School District\"], [\"Sauk Centre Public School District\"], [\"Albany Public School District\"], [\"Sartell-St. Stephen School District\"], [\"Rocori Public School District\"], [\"Blooming Prairie Public School District\"], [\"Owatonna Public School District\"], [\"Medford Public School District\"], [\"Hancock Public School District\"], [\"Chokio-Alberta Public School District\"], [\"Kerkhoven-Murdock-Sunburg\"], [\"Benson Public School District\"], [\"Bertha-Hewitt Public School District\"], [\"Browerville Public School District\"], [\"Browns Valley Public School District\"], [\"Wheaton Area Public School District\"], [\"Wabasha-Kellogg Public School District\"], [\"Lake City Public School District\"], [\"Verndale Public School District\"], [\"Sebeka Public School District\"], [\"Menahga Public School District\"], [\"Waseca Public School District\"], [\"Forest Lake Public School District\"], [\"Mahtomedi Public School District\"], [\"Fillmore Central\"], [\"South Washington County School District\"], [\"Stillwater Area Public School District\"], [\"Butterfield Public School District\"], [\"Madelia Public School District\"], [\"St. James Public School District\"], [\"Breckenridge Public School District\"], [\"Rothsay Public School District\"], [\"Campbell-Tintah Public School District\"], [\"Lewiston-Altura Public School District\"], [\"St. Charles Public School District\"], [\"Winona Area Public School District\"], [\"Annandale Public School District\"], [\"Buffalo-Hanover-Montrose Public Schools\"], [\"Delano Public School District\"], [\"Maple Lake Public School District\"], [\"Monticello Public School District\"], [\"Rockford Public School District\"], [\"St. Michael-Albertville School District\"], [\"Canby Public School District\"], [\"Cambridge-Isanti Public School District\"], [\"Milaca Public School District\"], [\"Ulen-Hitterdal Public School District\"], [\"Lake Crystal-Wellcome Memorial\"], [\"Triton School District\"], [\"United South Central School District\"], [\"Maple River School District\"], [\"Kingsland Public School District\"], [\"St. Louis County School District\"], [\"Waterville-Elysian-Morristown Public School District\"], [\"Chisago Lakes School District\"], [\"Minnewaska School District\"], [\"Eveleth-Gilbert School District\"], [\"Wadena-Deer Creek School District\"], [\"Buffalo Lake-Hector-Stewart Public Schools\"], [\"Dilworth-Glyndon-Felton\"], [\"Hinckley-Finlayson School District\"], [\"Lakeview School District\"], [\"NRHEG School District\"], [\"Murray County Central School District\"], [\"Staples-Motley School District\"], [\"Kittson Central School District\"], [\"Kenyon-Wanamingo School District\"], [\"Pine River-Backus Public School District\"], [\"Warren-Alvarado-Oslo School District\"], [\"MACCRAY School District\"], [\"Luverne Public School District\"], [\"Yellow Medicine East\"], [\"Norman County East School District\"], [\"Sibley East School District\"], [\"Clearbrook-Gonvick School District\"], [\"West Central Area\"], [\"Tri-County School District\"], [\"Belgrade-Brooten-Elrosa Public School District\"], [\"G.F.W. Public School District\"], [\"A.C.G.C. Public School District\"], [\"Le Sueur-Henderson School District\"], [\"Martin County West School District\"], [\"Norman County West School District\"], [\"Bird Island-Olivia-Lake Lillian Public School District\"], [\"Granada-Huntley-East Chain\"], [\"East Central School District\"], [\"Win-E-Mac School District\"], [\"Greenbush-Middle River School District\"], [\"Howard Lake-Waverly-Winsted\"], [\"Pipestone Area School District\"], [\"Mesabi East School District\"], [\"Fairmont Area School District\"], [\"Long Prairie-Grey Eagle School District\"], [\"Cedar Mountain School District\"], [\"Morris Area Public Schools\"], [\"Zumbrota-Mazeppa School District\"], [\"Janesville-Waldorf-Pemberton\"], [\"Lac qui Parle Valley School District\"], [\"Ada-Borup Public School District\"], [\"Stephen-Argyle Central Schools\"], [\"Glencoe-Silver Lake School District\"], [\"Blue Earth Area Public Schools\"], [\"Red Rock Central School District\"], [\"Glenville-Emmons School District\"], [\"Clinton-Graceville-Beardsley\"], [\"Lake Park Audubon School District\"], [\"Renville County West School District\"], [\"Jackson County Central School District\"], [\"Redwood Area School District\"], [\"Westbrook-Walnut Grove Schools\"], [\"Plainview-Elgin-Millville\"], [\"RTR Public Schools\"], [\"Ortonville Public Schools\"], [\"Tracy Area Public School District\"], [\"Tri-City United School District\"], [\"Red Lake County Central Public Schools\"], [\"Round Lake-Brewster Public Schools\"], [\"Brandon-Evansville Public Schools\"]], \"hovertemplate\": \"Enrollment=%{x}<br>Reading Proficiency=%{marker.color}<br>District=%{customdata[0]}<extra></extra>\", \"legendgroup\": \"\", \"marker\": {\"color\": [57.638571400000004, 46.48, 46.2828571, 49.2585714, 45.0614286, 65.0485714, 68.8528571, 35.0957143, 44.181428600000004, 60.72571429999999, 56.4728571, 61.02571429999999, 61.6714286, 28.635, 55.55571429999999, 48.21, 44.6985714, 24.03, 57.268571400000006, 69.26, 60.0714286, 64.1842857, 59.6433333, 58.3171429, 68.5971429, 57.73571429999999, 70.3485714, 56.575714299999994, 67.3271429, 55.3514286, 54.161428599999994, 80.6128571, 54.7228571, 63.698571400000006, 70.69428570000001, 64.5914286, 67.0157143, 53.9128571, 35.2757143, 59.75, 39.8033333, 58.5785714, 55.52, 67.0014286, 77.0514286, 69.0814286, 52.7485714, 49.7742857, 58.53, 56.58428570000001, 57.6328571, 67.92, 64.2871429, 70.4228571, 48.2771429, 57.5828571, 73.31, 51.1328571, 65.2914286, 59.68, 51.64, 65.1, 48.9057143, 66.5071429, 65.6257143, 62.0785714, 70.5128571, 63.2571429, 60.231428599999994, 62.105714299999995, 46.818571399999996, 58.605714299999995, 62.47428570000001, 56.1785714, 68.66571429999999, 54.838571400000006, 58.981428599999994, 60.0, 59.4985714, 53.51571429999999, 73.5371429, 77.43285709999999, 81.4842857, 77.6071429, 78.8314286, 54.94571429999999, 43.4857143, 48.7471429, 67.5614286, 58.918571400000005, 80.79571429999999, 22.4285714, 57.9471429, 68.2514286, 61.075714299999994, 55.13, 48.0328571, 68.3614286, 51.7957143, 59.8514286, 61.72428570000001, 53.5571429, 61.4971429, 50.7628571, 46.092857099999996, 65.78428570000001, 44.3028571, 69.03, 46.68, 71.958, 62.78, 60.871428599999994, 48.4671429, 64.4714286, 61.93, 47.2957143, 66.78428570000001, 73.2, 52.7366667, 78.1825, 58.6671429, 73.0571429, 40.548, 66.31428570000001, 55.715714299999995, 33.2942857, 40.8685714, 62.401428599999996, 52.5416667, 57.6085714, 67.6214286, 65.1457143, 72.5114286, 53.89, 63.41571429999999, 36.7657143, 48.0142857, 61.064285700000006, 52.4042857, 54.4328571, 53.244285700000006, 43.5071429, 53.91571429999999, 42.0285714, 63.8471429, 56.45428570000001, 53.465714299999995, 56.3871429, 59.4428571, 57.6014286, 65.7, 44.4442857, 76.0614286, 63.342857099999996, 61.1271429, 55.3985714, 72.18285709999999, 64.8671429, 64.71571429999999, 64.7771429, 57.25428570000001, 61.97428570000001, 59.61, 60.0085714, 48.214285700000005, 60.30571429999999, 58.0871429, 55.638571400000004, 52.6228571, 51.8114286, 55.4271429, 54.564285700000006, 71.70428570000001, 42.4128571, 66.3328571, 67.5314286, 50.79, 56.36428570000001, 64.88, 39.59, 59.0128571, 46.2, 55.738571400000005, 41.67, 68.4371429, 67.6771429, 69.2442857, 64.56857140000001, 66.94428570000001, 59.0128571, 63.22, 48.578, 71.1714286, 67.31, 59.70571429999999, 67.4685714, 56.6666667, 62.4971429, 63.2328571, 63.261428599999995, 66.2442857, 68.2771429, 62.3271429, 69.8828571, 64.8314286, 63.1128571, 70.02428570000001, 66.67428570000001, 69.8628571, 54.6128571, 59.9428571, 43.7257143, 62.33571429999999, 68.28428570000001, 72.1571429, 64.53, 63.7628571, 53.9128571, 52.7428571, 67.2771429, 48.0225, 53.4671429, 51.4814286, 59.574285700000004, 41.8114286, 39.31, 64.5514286, 65.0828571, 56.11571429999999, 52.7028571, 61.1185714, 57.52428570000001, 55.07, 60.82, 78.15, 60.035714299999995, 67.9471429, 68.0985714, 30.1866667, 53.2528571, 57.11, 55.05428570000001, 59.378571400000006, 54.7375, 63.0528571, 64.9857143, 48.8085714, 66.6757143, 65.1242857, 79.00857140000001, 58.98571429999999, 66.9028571, 67.9671429, 76.18285709999999, 66.8328571, 62.12571429999999, 58.3371429, 53.791428599999996, 62.4985714, 50.0985714, 60.744285700000006, 66.9857143, 62.0528571, 54.97571429999999, 67.18, 65.55, 61.4614286, 60.7171429, 55.878571400000006, 64.3071429, 62.005714299999994, 40.7828571, 64.71, 58.0628571, 65.6242857, 48.35, 70.4471429, 53.331428599999995, 55.38, 53.871428599999994, 52.9328571, 60.8528571, 53.58, 52.9871429, 50.6314286, 56.32, 69.4728571, 66.37, 63.77428570000001, 61.41, 56.511428599999995, 52.965714299999995, 57.52571429999999, 88.46, 58.15857140000001, 47.1428571, 51.1885714, 66.1842857, 59.464285700000005, 60.3914286, 55.47571429999999, 55.425714299999996, 58.14, 38.3971429, 57.30571429999999, 60.9228571, 66.02571429999999, 53.7428571, 52.48428570000001, 59.52428570000001, 62.0628571, 60.0785714, 54.34142859999999, 69.02428570000001, 46.8757143, 76.6585714, 60.8028571, 54.88, 54.3171429, 57.7514286, 54.8528571, 67.1542857, 60.691428599999995, 58.157142900000004, 65.64857140000001, 57.221428599999996, 57.55571429999999, 48.98, 62.244285700000006], \"coloraxis\": \"coloraxis\", \"symbol\": \"circle\"}, \"mode\": \"markers\", \"name\": \"\", \"showlegend\": false, \"type\": \"scatter\", \"x\": [1177.69, 34088.09, 264.67, 464.3, 3419.29, 38121.71, 6575.93, 3457.95, 2899.39, 4356.21, 5976.6, 2994.25, 912.34, 63.53, 5044.73, 655.95, 276.55, 1473.35, 4517.87, 1933.09, 661.98, 8656.15, 146.94, 578.7, 559.52, 2141.47, 706.79, 433.66, 2761.49, 323.59, 633.22, 1255.45, 364.46, 956.98, 4050.66, 1535.33, 9673.13, 769.62, 1158.74, 1166.01, 327.35, 1567.26, 2692.7, 848.18, 879.17, 987.42, 6857.35, 992.89, 463.8, 509.35, 1077.41, 6572.89, 1043.12, 1727.56, 8672.41, 7295.26, 11098.37, 679.42, 28563.45, 5175.48, 3583.2, 4346.71, 708.95, 2222.73, 4201.34, 840.41, 867.48, 352.39, 256.28, 693.09, 3491.22, 501.42, 1153.09, 682.9, 1360.77, 2724.27, 285.87, 97.45, 6858.37, 10466.54, 8916.38, 8412.2, 10926.92, 2440.68, 2876.85, 21072.86, 4231.02, 12236.62, 1816.12, 4616.9, 11911.97, 2487.32, 1923.5, 363.66, 717.07, 1108.1, 324.58, 592.15, 1670.67, 740.08, 1050.51, 921.64, 3998.92, 587.22, 277.5, 1616.46, 506.11, 1536.7, 4253.25, 163.1, 998.31, 322.84, 292.54, 565.34, 1375.69, 459.65, 509.65, 141.41, 141.59, 197.21, 2517.25, 479.65, 215.17, 2826.42, 464.87, 608.83, 660.56, 427.25, 150.23, 211.57, 960.06, 1555.53, 2213.05, 417.09, 3333.81, 590.37, 2466.39, 1174.65, 948.11, 313.54, 380.38, 5058.2, 439.87, 290.4, 267.05, 405.1, 344.56, 388.01, 2218.28, 570.78, 142.2, 3901.98, 2129.25, 1118.62, 2093.93, 17602.32, 431.41, 2925.35, 374.48, 544.22, 872.94, 1520.35, 559.99, 739.75, 232.21, 1970.23, 415.48, 1585.47, 408.35, 216.49, 1124.77, 1911.42, 477.62, 270.17, 615.05, 11656.29, 10635.99, 7579.82, 8707.45, 35937.23, 369.44, 81.48, 403.37, 3553.0, 4050.03, 367.61, 221.11, 1165.07, 992.99, 728.18, 567.79, 207.78, 2073.2, 2381.46, 1789.77, 1736.49, 95.98, 8229.16, 518.55, 1599.93, 1896.91, 8819.62, 8247.22, 4226.44, 2866.46, 3026.16, 13362.27, 1055.74, 758.4, 1334.42, 931.48, 9940.85, 1093.69, 1761.52, 4017.65, 2113.89, 760.07, 4943.21, 885.73, 359.77, 155.03, 732.42, 786.01, 491.95, 558.22, 159.99, 365.13, 524.51, 1236.6, 568.13, 500.1, 1038.58, 1852.86, 6058.87, 3303.22, 615.88, 18545.67, 8433.24, 205.52, 594.62, 1030.52, 634.76, 291.52, 130.12, 728.06, 991.46, 2778.21, 1953.52, 5801.21, 2480.59, 841.82, 4140.32, 1637.45, 6421.12, 567.36, 4962.52, 1756.12, 304.11, 935.54, 1099.54, 702.56, 899.91, 563.4, 1983.31, 777.49, 3432.12, 1247.56, 889.15, 1042.4, 505.7, 1605.92, 962.1, 635.32, 878.31, 736.95, 1125.59, 232.02, 774.45, 904.8, 479.1, 730.42, 1237.64, 695.39, 261.37, 1148.65, 460.15, 785.5, 190.77, 633.68, 713.67, 826.81, 1023.77, 723.32, 180.42, 663.87, 313.15, 739.97, 475.29, 284.1, 1255.38, 1150.65, 952.83, 1719.05, 955.64, 474.08, 1041.88, 1204.73, 678.53, 795.69, 570.29, 293.09, 1598.73, 1047.27, 431.4, 293.7, 318.43, 731.67, 568.38, 1186.54, 1130.54, 362.63, 1481.68, 585.41, 511.04, 708.0, 1859.45, 388.89, 386.85, 480.76], \"xaxis\": \"x\", \"y\": [57.638571400000004, 46.48, 46.2828571, 49.2585714, 45.0614286, 65.0485714, 68.8528571, 35.0957143, 44.181428600000004, 60.72571429999999, 56.4728571, 61.02571429999999, 61.6714286, 28.635, 55.55571429999999, 48.21, 44.6985714, 24.03, 57.268571400000006, 69.26, 60.0714286, 64.1842857, 59.6433333, 58.3171429, 68.5971429, 57.73571429999999, 70.3485714, 56.575714299999994, 67.3271429, 55.3514286, 54.161428599999994, 80.6128571, 54.7228571, 63.698571400000006, 70.69428570000001, 64.5914286, 67.0157143, 53.9128571, 35.2757143, 59.75, 39.8033333, 58.5785714, 55.52, 67.0014286, 77.0514286, 69.0814286, 52.7485714, 49.7742857, 58.53, 56.58428570000001, 57.6328571, 67.92, 64.2871429, 70.4228571, 48.2771429, 57.5828571, 73.31, 51.1328571, 65.2914286, 59.68, 51.64, 65.1, 48.9057143, 66.5071429, 65.6257143, 62.0785714, 70.5128571, 63.2571429, 60.231428599999994, 62.105714299999995, 46.818571399999996, 58.605714299999995, 62.47428570000001, 56.1785714, 68.66571429999999, 54.838571400000006, 58.981428599999994, 60.0, 59.4985714, 53.51571429999999, 73.5371429, 77.43285709999999, 81.4842857, 77.6071429, 78.8314286, 54.94571429999999, 43.4857143, 48.7471429, 67.5614286, 58.918571400000005, 80.79571429999999, 22.4285714, 57.9471429, 68.2514286, 61.075714299999994, 55.13, 48.0328571, 68.3614286, 51.7957143, 59.8514286, 61.72428570000001, 53.5571429, 61.4971429, 50.7628571, 46.092857099999996, 65.78428570000001, 44.3028571, 69.03, 46.68, 71.958, 62.78, 60.871428599999994, 48.4671429, 64.4714286, 61.93, 47.2957143, 66.78428570000001, 73.2, 52.7366667, 78.1825, 58.6671429, 73.0571429, 40.548, 66.31428570000001, 55.715714299999995, 33.2942857, 40.8685714, 62.401428599999996, 52.5416667, 57.6085714, 67.6214286, 65.1457143, 72.5114286, 53.89, 63.41571429999999, 36.7657143, 48.0142857, 61.064285700000006, 52.4042857, 54.4328571, 53.244285700000006, 43.5071429, 53.91571429999999, 42.0285714, 63.8471429, 56.45428570000001, 53.465714299999995, 56.3871429, 59.4428571, 57.6014286, 65.7, 44.4442857, 76.0614286, 63.342857099999996, 61.1271429, 55.3985714, 72.18285709999999, 64.8671429, 64.71571429999999, 64.7771429, 57.25428570000001, 61.97428570000001, 59.61, 60.0085714, 48.214285700000005, 60.30571429999999, 58.0871429, 55.638571400000004, 52.6228571, 51.8114286, 55.4271429, 54.564285700000006, 71.70428570000001, 42.4128571, 66.3328571, 67.5314286, 50.79, 56.36428570000001, 64.88, 39.59, 59.0128571, 46.2, 55.738571400000005, 41.67, 68.4371429, 67.6771429, 69.2442857, 64.56857140000001, 66.94428570000001, 59.0128571, 63.22, 48.578, 71.1714286, 67.31, 59.70571429999999, 67.4685714, 56.6666667, 62.4971429, 63.2328571, 63.261428599999995, 66.2442857, 68.2771429, 62.3271429, 69.8828571, 64.8314286, 63.1128571, 70.02428570000001, 66.67428570000001, 69.8628571, 54.6128571, 59.9428571, 43.7257143, 62.33571429999999, 68.28428570000001, 72.1571429, 64.53, 63.7628571, 53.9128571, 52.7428571, 67.2771429, 48.0225, 53.4671429, 51.4814286, 59.574285700000004, 41.8114286, 39.31, 64.5514286, 65.0828571, 56.11571429999999, 52.7028571, 61.1185714, 57.52428570000001, 55.07, 60.82, 78.15, 60.035714299999995, 67.9471429, 68.0985714, 30.1866667, 53.2528571, 57.11, 55.05428570000001, 59.378571400000006, 54.7375, 63.0528571, 64.9857143, 48.8085714, 66.6757143, 65.1242857, 79.00857140000001, 58.98571429999999, 66.9028571, 67.9671429, 76.18285709999999, 66.8328571, 62.12571429999999, 58.3371429, 53.791428599999996, 62.4985714, 50.0985714, 60.744285700000006, 66.9857143, 62.0528571, 54.97571429999999, 67.18, 65.55, 61.4614286, 60.7171429, 55.878571400000006, 64.3071429, 62.005714299999994, 40.7828571, 64.71, 58.0628571, 65.6242857, 48.35, 70.4471429, 53.331428599999995, 55.38, 53.871428599999994, 52.9328571, 60.8528571, 53.58, 52.9871429, 50.6314286, 56.32, 69.4728571, 66.37, 63.77428570000001, 61.41, 56.511428599999995, 52.965714299999995, 57.52571429999999, 88.46, 58.15857140000001, 47.1428571, 51.1885714, 66.1842857, 59.464285700000005, 60.3914286, 55.47571429999999, 55.425714299999996, 58.14, 38.3971429, 57.30571429999999, 60.9228571, 66.02571429999999, 53.7428571, 52.48428570000001, 59.52428570000001, 62.0628571, 60.0785714, 54.34142859999999, 69.02428570000001, 46.8757143, 76.6585714, 60.8028571, 54.88, 54.3171429, 57.7514286, 54.8528571, 67.1542857, 60.691428599999995, 58.157142900000004, 65.64857140000001, 57.221428599999996, 57.55571429999999, 48.98, 62.244285700000006], \"yaxis\": \"y\"}, {\"hovertemplate\": \"<b>OLS trendline</b><br>Reading Proficiency = 9.19467e-05 * Enrollment + 58.7576<br>R<sup>2</sup>=0.001947<br><br>Enrollment=%{x}<br>Reading Proficiency=%{y} <b>(trend)</b><extra></extra>\", \"legendgroup\": \"\", \"marker\": {\"symbol\": \"circle\"}, \"mode\": \"lines\", \"name\": \"\", \"showlegend\": false, \"type\": \"scatter\", \"x\": [63.53, 81.48, 95.98, 97.45, 130.12, 141.41, 141.59, 142.2, 146.94, 150.23, 155.03, 159.99, 163.1, 180.42, 190.77, 197.21, 205.52, 207.78, 211.57, 215.17, 216.49, 221.11, 232.02, 232.21, 256.28, 261.37, 264.67, 267.05, 270.17, 276.55, 277.5, 284.1, 285.87, 290.4, 291.52, 292.54, 293.09, 293.7, 304.11, 313.15, 313.54, 318.43, 322.84, 323.59, 324.58, 327.35, 344.56, 352.39, 359.77, 362.63, 363.66, 364.46, 365.13, 367.61, 369.44, 374.48, 380.38, 386.85, 388.01, 388.89, 403.37, 405.1, 408.35, 415.48, 417.09, 427.25, 431.4, 431.41, 433.66, 439.87, 459.65, 460.15, 463.8, 464.3, 464.87, 474.08, 475.29, 477.62, 479.1, 479.65, 480.76, 491.95, 500.1, 501.42, 505.7, 506.11, 509.35, 509.65, 511.04, 518.55, 524.51, 544.22, 558.22, 559.52, 559.99, 563.4, 565.34, 567.36, 567.79, 568.13, 568.38, 570.29, 570.78, 578.7, 585.41, 587.22, 590.37, 592.15, 594.62, 608.83, 615.05, 615.88, 633.22, 633.68, 634.76, 635.32, 655.95, 660.56, 661.98, 663.87, 678.53, 679.42, 682.9, 693.09, 695.39, 702.56, 706.79, 708.0, 708.95, 713.67, 717.07, 723.32, 728.06, 728.18, 730.42, 731.67, 732.42, 736.95, 739.75, 739.97, 740.08, 758.4, 760.07, 769.62, 774.45, 777.49, 785.5, 786.01, 795.69, 826.81, 840.41, 841.82, 848.18, 867.48, 872.94, 878.31, 879.17, 885.73, 889.15, 899.91, 904.8, 912.34, 921.64, 931.48, 935.54, 948.11, 952.83, 955.64, 956.98, 960.06, 962.1, 987.42, 991.46, 992.89, 992.99, 998.31, 1023.77, 1030.52, 1038.58, 1041.88, 1042.4, 1043.12, 1047.27, 1050.51, 1055.74, 1077.41, 1093.69, 1099.54, 1108.1, 1118.62, 1124.77, 1125.59, 1130.54, 1148.65, 1150.65, 1153.09, 1158.74, 1165.07, 1166.01, 1174.65, 1177.69, 1186.54, 1204.73, 1236.6, 1237.64, 1247.56, 1255.38, 1255.45, 1334.42, 1360.77, 1375.69, 1473.35, 1481.68, 1520.35, 1535.33, 1536.7, 1555.53, 1567.26, 1585.47, 1598.73, 1599.93, 1605.92, 1616.46, 1637.45, 1670.67, 1719.05, 1727.56, 1736.49, 1756.12, 1761.52, 1789.77, 1816.12, 1852.86, 1859.45, 1896.91, 1911.42, 1923.5, 1933.09, 1953.52, 1970.23, 1983.31, 2073.2, 2093.93, 2113.89, 2129.25, 2141.47, 2213.05, 2218.28, 2222.73, 2381.46, 2440.68, 2466.39, 2480.59, 2487.32, 2517.25, 2692.7, 2724.27, 2761.49, 2778.21, 2826.42, 2866.46, 2876.85, 2899.39, 2925.35, 2994.25, 3026.16, 3303.22, 3333.81, 3419.29, 3432.12, 3457.95, 3491.22, 3553.0, 3583.2, 3901.98, 3998.92, 4017.65, 4050.03, 4050.66, 4140.32, 4201.34, 4226.44, 4231.02, 4253.25, 4346.71, 4356.21, 4517.87, 4616.9, 4943.21, 4962.52, 5044.73, 5058.2, 5175.48, 5801.21, 5976.6, 6058.87, 6421.12, 6572.89, 6575.93, 6857.35, 6858.37, 7295.26, 7579.82, 8229.16, 8247.22, 8412.2, 8433.24, 8656.15, 8672.41, 8707.45, 8819.62, 8916.38, 9673.13, 9940.85, 10466.54, 10635.99, 10926.92, 11098.37, 11656.29, 11911.97, 12236.62, 13362.27, 17602.32, 18545.67, 21072.86, 28563.45, 34088.09, 35937.23, 38121.71], \"xaxis\": \"x\", \"y\": [58.76342329985804, 58.76507374299693, 58.76640697004506, 58.766542131683735, 58.76954603014322, 58.7705841083069, 58.770600658711636, 58.77065674619435, 58.77109257351905, 58.77139507813894, 58.77183642226521, 58.772292477862365, 58.772578432077516, 58.774170948799835, 58.77512259707213, 58.77571473377488, 58.7764788107935, 58.77668661031962, 58.777035088286, 58.7773660963807, 58.77748746601543, 58.77791225973697, 58.778915398157324, 58.778932868028996, 58.781146024928894, 58.78161403359613, 58.781917457682944, 58.782136290812225, 58.78242316449431, 58.78300978439549, 58.78309713375381, 58.783703981927445, 58.78386672757401, 58.78428324609318, 58.784386226389316, 58.78448001201615, 58.784530582697286, 58.78458667018, 58.78554383525387, 58.786375033358354, 58.78641089256862, 58.78686051189726, 58.78726599681328, 58.78733495683301, 58.787425984059055, 58.787680676398594, 58.78926307898469, 58.78998302159068, 58.79066158818483, 58.79092455572674, 58.791019260820505, 58.79109281817488, 58.79115442245917, 58.79138245025775, 58.7915507127059, 58.79201412403849, 58.79255660952704, 58.793151504630586, 58.79325816279444, 58.793339075884255, 58.79467046399852, 58.79482953177737, 58.79512835852954, 58.79578393845045, 58.795931972626136, 58.796866151026755, 58.7972477298026, 58.797248649269534, 58.79745552932872, 58.7980265182921, 58.79984522387913, 58.79989119722562, 58.800226802654976, 58.800272776001464, 58.80032518561646, 58.80117201465875, 58.801283270157256, 58.801497505951886, 58.80163358705749, 58.80168415773863, 58.80178621856783, 58.80281510206221, 58.80356446760996, 58.803685837244686, 58.804079369090616, 58.804117067234735, 58.80441497451997, 58.80444255852786, 58.8045703644311, 58.80526088409534, 58.80580888638546, 58.807621155704, 58.80890840940564, 58.8090279401065, 58.8090711550522, 58.80938469327525, 58.80956306985962, 58.80974880217943, 58.80978833925741, 58.809819601133015, 58.80984258780626, 58.81001820598984, 58.8100632598694, 58.81079147767776, 58.811408439987616, 58.8115748635019, 58.81186449558477, 58.81202816069827, 58.81225526902991, 58.813561831537086, 58.81413373996739, 58.814210055722555, 58.815804411378735, 58.8158467068575, 58.815946009285916, 58.81599749943398, 58.817894359710046, 58.81831823396466, 58.81844879826868, 58.818622577518404, 58.819970516037415, 58.82005234859416, 58.820372323085714, 58.82130925988712, 58.82152073728096, 58.82217999506959, 58.822568929580875, 58.82268018507937, 58.8227675344377, 58.82320152282854, 58.82351414158465, 58.824088808415745, 58.824524635740445, 58.824535669343604, 58.824741629935865, 58.824856563302085, 58.82492552332182, 58.82534204184099, 58.82559949258132, 58.82561972085377, 58.825629834989996, 58.82731429840529, 58.82746784938256, 58.828345940300466, 58.828790042827535, 58.82906956077418, 58.82980605378491, 58.82985294659832, 58.830742990586316, 58.83360437167168, 58.83485484669614, 58.834984491533234, 58.83556927250055, 58.837343843674965, 58.8378458726186, 58.838339626359875, 58.83841870051584, 58.839021870821746, 58.83933632851172, 58.84032567492813, 58.84077529425677, 58.8414685723218, 58.842323676566465, 58.843228432025334, 58.84360173559881, 58.8447575055295, 58.845191493920346, 58.8454498641276, 58.84557307269619, 58.84585626851055, 58.84604383976422, 58.84837193003033, 58.84874339466995, 58.8488748784409, 58.848884073110206, 58.84937322951683, 58.85171419231996, 58.85233483249754, 58.85307592284291, 58.85337934692973, 58.85342715921008, 58.85349336082902, 58.853874939604864, 58.8541728468901, 58.854653728094355, 58.85664621293112, 58.85814310509274, 58.858680993246644, 58.85946805693851, 58.8604353361486, 58.86100080831039, 58.86107620459863, 58.86153134072886, 58.86319649533863, 58.86338038872458, 58.86360473865543, 58.86412423747074, 58.86470626003727, 58.86479268992867, 58.865587109355964, 58.86586662730261, 58.866680355535436, 58.868352865880645, 58.871283206985744, 58.87137883154644, 58.87229094274075, 58.87300996587981, 58.873016402148316, 58.88027743249252, 58.882700227852396, 58.88407207251158, 58.89305158654748, 58.89381750249996, 58.89737308111729, 58.89875044257804, 58.89887640954742, 58.90060776577613, 58.90168630048472, 58.90336064976379, 58.904579862912634, 58.9046901989442, 58.90524095963512, 58.90621007777907, 58.90814003886461, 58.911194508005224, 58.91564288901134, 58.91642535536855, 58.917246439336814, 58.9190513529199, 58.919547865061965, 58.9221453591385, 58.92456815449838, 58.927946275998266, 58.92855220470497, 58.9319965278238, 58.933330674338855, 58.93444139038999, 58.93532315917562, 58.93720163011309, 58.938738059352694, 58.9399407220968, 58.94820581032829, 58.95011186527365, 58.95194712126543, 58.95335942246951, 58.95448301105766, 58.96106455534078, 58.961545436545045, 58.96195459932878, 58.97654929790463, 58.98199438106259, 58.98435833053897, 58.98566397357921, 58.986282774822925, 58.98903473934366, 59.00516678662605, 59.00806954372325, 59.01149179963577, 59.013029148342305, 59.01746189841061, 59.02114344399731, 59.02209877013732, 59.024171248596964, 59.026558184746584, 59.032893311892536, 59.03582733086535, 59.061302081620894, 59.06411473095899, 59.07197433427446, 59.07315401034532, 59.075528993424854, 59.07858805990012, 59.08426852659209, 59.08704531671992, 59.11635608350636, 59.12526939592332, 59.12699155748273, 59.129968791401254, 59.13002671781783, 59.13827065830993, 59.14388124551524, 59.146189107508896, 59.14661022336272, 59.14865419834755, 59.157247536272955, 59.15812102985621, 59.17298513224249, 59.18209061324776, 59.2120937386323, 59.213869229273634, 59.22142816690308, 59.222666688857444, 59.2334501970095, 59.2909840012045, 59.30711053168531, 59.31467498611633, 59.34798267564638, 59.361937425239134, 59.36221694318577, 59.388092581522685, 59.388186367149515, 59.428356957843185, 59.45452130879604, 59.51422597441216, 59.51588653168728, 59.53105589709423, 59.532990455514415, 59.553486292845385, 59.55498134607315, 59.55820315819498, 59.56851681874594, 59.57741358075816, 59.646994240666686, 59.67161020930984, 59.719945666339655, 59.7355260334642, 59.762276084851294, 59.77804034536179, 59.829339244306176, 59.85284817476592, 59.882698668640124, 59.98619846358697, 60.37605703913389, 60.46279495195147, 60.695161714969935, 61.383896693898485, 61.89186907177364, 62.06189137962068, 62.262747091489814], \"yaxis\": \"y\"}],\n",
       "                        {\"coloraxis\": {\"colorbar\": {\"title\": {\"text\": \"Reading Proficiency\"}}, \"colorscale\": [[0.0, \"#0d0887\"], [0.1111111111111111, \"#46039f\"], [0.2222222222222222, \"#7201a8\"], [0.3333333333333333, \"#9c179e\"], [0.4444444444444444, \"#bd3786\"], [0.5555555555555556, \"#d8576b\"], [0.6666666666666666, \"#ed7953\"], [0.7777777777777778, \"#fb9f3a\"], [0.8888888888888888, \"#fdca26\"], [1.0, \"#f0f921\"]]}, \"legend\": {\"tracegroupgap\": 0}, \"template\": {\"data\": {\"bar\": [{\"error_x\": {\"color\": \"#2a3f5f\"}, \"error_y\": {\"color\": \"#2a3f5f\"}, \"marker\": {\"line\": {\"color\": \"#E5ECF6\", \"width\": 0.5}}, \"type\": \"bar\"}], \"barpolar\": [{\"marker\": {\"line\": {\"color\": \"#E5ECF6\", \"width\": 0.5}}, \"type\": \"barpolar\"}], \"carpet\": [{\"aaxis\": {\"endlinecolor\": \"#2a3f5f\", \"gridcolor\": \"white\", \"linecolor\": \"white\", \"minorgridcolor\": \"white\", \"startlinecolor\": \"#2a3f5f\"}, \"baxis\": {\"endlinecolor\": \"#2a3f5f\", \"gridcolor\": \"white\", \"linecolor\": \"white\", \"minorgridcolor\": \"white\", \"startlinecolor\": \"#2a3f5f\"}, \"type\": \"carpet\"}], \"choropleth\": [{\"colorbar\": {\"outlinewidth\": 0, \"ticks\": \"\"}, \"type\": \"choropleth\"}], \"contour\": [{\"colorbar\": {\"outlinewidth\": 0, \"ticks\": \"\"}, \"colorscale\": [[0.0, \"#0d0887\"], [0.1111111111111111, \"#46039f\"], [0.2222222222222222, \"#7201a8\"], [0.3333333333333333, \"#9c179e\"], [0.4444444444444444, \"#bd3786\"], [0.5555555555555556, \"#d8576b\"], [0.6666666666666666, \"#ed7953\"], [0.7777777777777778, \"#fb9f3a\"], [0.8888888888888888, \"#fdca26\"], [1.0, \"#f0f921\"]], \"type\": \"contour\"}], \"contourcarpet\": [{\"colorbar\": {\"outlinewidth\": 0, \"ticks\": \"\"}, \"type\": \"contourcarpet\"}], \"heatmap\": [{\"colorbar\": {\"outlinewidth\": 0, \"ticks\": \"\"}, \"colorscale\": [[0.0, \"#0d0887\"], [0.1111111111111111, \"#46039f\"], [0.2222222222222222, \"#7201a8\"], [0.3333333333333333, \"#9c179e\"], [0.4444444444444444, \"#bd3786\"], [0.5555555555555556, \"#d8576b\"], [0.6666666666666666, \"#ed7953\"], [0.7777777777777778, \"#fb9f3a\"], [0.8888888888888888, \"#fdca26\"], [1.0, \"#f0f921\"]], \"type\": \"heatmap\"}], \"heatmapgl\": [{\"colorbar\": {\"outlinewidth\": 0, \"ticks\": \"\"}, \"colorscale\": [[0.0, \"#0d0887\"], [0.1111111111111111, \"#46039f\"], [0.2222222222222222, \"#7201a8\"], [0.3333333333333333, \"#9c179e\"], [0.4444444444444444, \"#bd3786\"], [0.5555555555555556, \"#d8576b\"], [0.6666666666666666, \"#ed7953\"], [0.7777777777777778, \"#fb9f3a\"], [0.8888888888888888, \"#fdca26\"], [1.0, \"#f0f921\"]], \"type\": \"heatmapgl\"}], \"histogram\": [{\"marker\": {\"colorbar\": {\"outlinewidth\": 0, \"ticks\": \"\"}}, \"type\": \"histogram\"}], \"histogram2d\": [{\"colorbar\": {\"outlinewidth\": 0, \"ticks\": \"\"}, \"colorscale\": [[0.0, \"#0d0887\"], [0.1111111111111111, \"#46039f\"], [0.2222222222222222, \"#7201a8\"], [0.3333333333333333, \"#9c179e\"], [0.4444444444444444, \"#bd3786\"], [0.5555555555555556, \"#d8576b\"], [0.6666666666666666, \"#ed7953\"], [0.7777777777777778, \"#fb9f3a\"], [0.8888888888888888, \"#fdca26\"], [1.0, \"#f0f921\"]], \"type\": \"histogram2d\"}], \"histogram2dcontour\": [{\"colorbar\": {\"outlinewidth\": 0, \"ticks\": \"\"}, \"colorscale\": [[0.0, \"#0d0887\"], [0.1111111111111111, \"#46039f\"], [0.2222222222222222, \"#7201a8\"], [0.3333333333333333, \"#9c179e\"], [0.4444444444444444, \"#bd3786\"], [0.5555555555555556, \"#d8576b\"], [0.6666666666666666, \"#ed7953\"], [0.7777777777777778, \"#fb9f3a\"], [0.8888888888888888, \"#fdca26\"], [1.0, \"#f0f921\"]], \"type\": \"histogram2dcontour\"}], \"mesh3d\": [{\"colorbar\": {\"outlinewidth\": 0, \"ticks\": \"\"}, \"type\": \"mesh3d\"}], \"parcoords\": [{\"line\": {\"colorbar\": {\"outlinewidth\": 0, \"ticks\": \"\"}}, \"type\": \"parcoords\"}], \"pie\": [{\"automargin\": true, \"type\": \"pie\"}], \"scatter\": [{\"marker\": {\"colorbar\": {\"outlinewidth\": 0, \"ticks\": \"\"}}, \"type\": \"scatter\"}], \"scatter3d\": [{\"line\": {\"colorbar\": {\"outlinewidth\": 0, \"ticks\": \"\"}}, \"marker\": {\"colorbar\": {\"outlinewidth\": 0, \"ticks\": \"\"}}, \"type\": \"scatter3d\"}], \"scattercarpet\": [{\"marker\": {\"colorbar\": {\"outlinewidth\": 0, \"ticks\": \"\"}}, \"type\": \"scattercarpet\"}], \"scattergeo\": [{\"marker\": {\"colorbar\": {\"outlinewidth\": 0, \"ticks\": \"\"}}, \"type\": \"scattergeo\"}], \"scattergl\": [{\"marker\": {\"colorbar\": {\"outlinewidth\": 0, \"ticks\": \"\"}}, \"type\": \"scattergl\"}], \"scattermapbox\": [{\"marker\": {\"colorbar\": {\"outlinewidth\": 0, \"ticks\": \"\"}}, \"type\": \"scattermapbox\"}], \"scatterpolar\": [{\"marker\": {\"colorbar\": {\"outlinewidth\": 0, \"ticks\": \"\"}}, \"type\": \"scatterpolar\"}], \"scatterpolargl\": [{\"marker\": {\"colorbar\": {\"outlinewidth\": 0, \"ticks\": \"\"}}, \"type\": \"scatterpolargl\"}], \"scatterternary\": [{\"marker\": {\"colorbar\": {\"outlinewidth\": 0, \"ticks\": \"\"}}, \"type\": \"scatterternary\"}], \"surface\": [{\"colorbar\": {\"outlinewidth\": 0, \"ticks\": \"\"}, \"colorscale\": [[0.0, \"#0d0887\"], [0.1111111111111111, \"#46039f\"], [0.2222222222222222, \"#7201a8\"], [0.3333333333333333, \"#9c179e\"], [0.4444444444444444, \"#bd3786\"], [0.5555555555555556, \"#d8576b\"], [0.6666666666666666, \"#ed7953\"], [0.7777777777777778, \"#fb9f3a\"], [0.8888888888888888, \"#fdca26\"], [1.0, \"#f0f921\"]], \"type\": \"surface\"}], \"table\": [{\"cells\": {\"fill\": {\"color\": \"#EBF0F8\"}, \"line\": {\"color\": \"white\"}}, \"header\": {\"fill\": {\"color\": \"#C8D4E3\"}, \"line\": {\"color\": \"white\"}}, \"type\": \"table\"}]}, \"layout\": {\"annotationdefaults\": {\"arrowcolor\": \"#2a3f5f\", \"arrowhead\": 0, \"arrowwidth\": 1}, \"coloraxis\": {\"colorbar\": {\"outlinewidth\": 0, \"ticks\": \"\"}}, \"colorscale\": {\"diverging\": [[0, \"#8e0152\"], [0.1, \"#c51b7d\"], [0.2, \"#de77ae\"], [0.3, \"#f1b6da\"], [0.4, \"#fde0ef\"], [0.5, \"#f7f7f7\"], [0.6, \"#e6f5d0\"], [0.7, \"#b8e186\"], [0.8, \"#7fbc41\"], [0.9, \"#4d9221\"], [1, \"#276419\"]], \"sequential\": [[0.0, \"#0d0887\"], [0.1111111111111111, \"#46039f\"], [0.2222222222222222, \"#7201a8\"], [0.3333333333333333, \"#9c179e\"], [0.4444444444444444, \"#bd3786\"], [0.5555555555555556, \"#d8576b\"], [0.6666666666666666, \"#ed7953\"], [0.7777777777777778, \"#fb9f3a\"], [0.8888888888888888, \"#fdca26\"], [1.0, \"#f0f921\"]], \"sequentialminus\": [[0.0, \"#0d0887\"], [0.1111111111111111, \"#46039f\"], [0.2222222222222222, \"#7201a8\"], [0.3333333333333333, \"#9c179e\"], [0.4444444444444444, \"#bd3786\"], [0.5555555555555556, \"#d8576b\"], [0.6666666666666666, \"#ed7953\"], [0.7777777777777778, \"#fb9f3a\"], [0.8888888888888888, \"#fdca26\"], [1.0, \"#f0f921\"]]}, \"colorway\": [\"#636efa\", \"#EF553B\", \"#00cc96\", \"#ab63fa\", \"#FFA15A\", \"#19d3f3\", \"#FF6692\", \"#B6E880\", \"#FF97FF\", \"#FECB52\"], \"font\": {\"color\": \"#2a3f5f\"}, \"geo\": {\"bgcolor\": \"white\", \"lakecolor\": \"white\", \"landcolor\": \"#E5ECF6\", \"showlakes\": true, \"showland\": true, \"subunitcolor\": \"white\"}, \"hoverlabel\": {\"align\": \"left\"}, \"hovermode\": \"closest\", \"mapbox\": {\"style\": \"light\"}, \"paper_bgcolor\": \"white\", \"plot_bgcolor\": \"#E5ECF6\", \"polar\": {\"angularaxis\": {\"gridcolor\": \"white\", \"linecolor\": \"white\", \"ticks\": \"\"}, \"bgcolor\": \"#E5ECF6\", \"radialaxis\": {\"gridcolor\": \"white\", \"linecolor\": \"white\", \"ticks\": \"\"}}, \"scene\": {\"xaxis\": {\"backgroundcolor\": \"#E5ECF6\", \"gridcolor\": \"white\", \"gridwidth\": 2, \"linecolor\": \"white\", \"showbackground\": true, \"ticks\": \"\", \"zerolinecolor\": \"white\"}, \"yaxis\": {\"backgroundcolor\": \"#E5ECF6\", \"gridcolor\": \"white\", \"gridwidth\": 2, \"linecolor\": \"white\", \"showbackground\": true, \"ticks\": \"\", \"zerolinecolor\": \"white\"}, \"zaxis\": {\"backgroundcolor\": \"#E5ECF6\", \"gridcolor\": \"white\", \"gridwidth\": 2, \"linecolor\": \"white\", \"showbackground\": true, \"ticks\": \"\", \"zerolinecolor\": \"white\"}}, \"shapedefaults\": {\"line\": {\"color\": \"#2a3f5f\"}}, \"ternary\": {\"aaxis\": {\"gridcolor\": \"white\", \"linecolor\": \"white\", \"ticks\": \"\"}, \"baxis\": {\"gridcolor\": \"white\", \"linecolor\": \"white\", \"ticks\": \"\"}, \"bgcolor\": \"#E5ECF6\", \"caxis\": {\"gridcolor\": \"white\", \"linecolor\": \"white\", \"ticks\": \"\"}}, \"title\": {\"x\": 0.05}, \"xaxis\": {\"automargin\": true, \"gridcolor\": \"white\", \"linecolor\": \"white\", \"ticks\": \"\", \"title\": {\"standoff\": 15}, \"zerolinecolor\": \"white\", \"zerolinewidth\": 2}, \"yaxis\": {\"automargin\": true, \"gridcolor\": \"white\", \"linecolor\": \"white\", \"ticks\": \"\", \"title\": {\"standoff\": 15}, \"zerolinecolor\": \"white\", \"zerolinewidth\": 2}}}, \"title\": {\"text\": \"Reading Proficiency (%) vs. Enrollment by School District\"}, \"xaxis\": {\"anchor\": \"y\", \"domain\": [0.0, 1.0], \"title\": {\"text\": \"Enrollment\"}, \"type\": \"log\"}, \"yaxis\": {\"anchor\": \"x\", \"domain\": [0.0, 1.0], \"title\": {\"text\": \"Reading Proficiency\"}}},\n",
       "                        {\"responsive\": true}\n",
       "                    ).then(function(){\n",
       "                            \n",
       "var gd = document.getElementById('d16ed920-19bd-499e-8cd8-056f0911b213');\n",
       "var x = new MutationObserver(function (mutations, observer) {{\n",
       "        var display = window.getComputedStyle(gd).display;\n",
       "        if (!display || display === 'none') {{\n",
       "            console.log([gd, 'removed!']);\n",
       "            Plotly.purge(gd);\n",
       "            observer.disconnect();\n",
       "        }}\n",
       "}});\n",
       "\n",
       "// Listen for the removal of the full notebook cells\n",
       "var notebookContainer = gd.closest('#notebook-container');\n",
       "if (notebookContainer) {{\n",
       "    x.observe(notebookContainer, {childList: true});\n",
       "}}\n",
       "\n",
       "// Listen for the clearing of the current output cell\n",
       "var outputEl = gd.closest('.output');\n",
       "if (outputEl) {{\n",
       "    x.observe(outputEl, {childList: true});\n",
       "}}\n",
       "\n",
       "                        })\n",
       "                };\n",
       "                });\n",
       "            </script>\n",
       "        </div>"
      ]
     },
     "metadata": {},
     "output_type": "display_data"
    },
    {
     "data": {
      "text/plain": [
       "<Figure size 432x288 with 0 Axes>"
      ]
     },
     "metadata": {},
     "output_type": "display_data"
    }
   ],
   "source": [
    "fig = px.scatter(mned_df, x=mned_df[\"Enrollment\"], y=mned_df[\"Reading Proficiency\"], color=mned_df[\"Reading Proficiency\"], hover_data=[mned_df[\"District\"]], title=\"Reading Proficiency (%) vs. Enrollment by School District\", log_x=True, trendline=\"ols\")\n",
    "fig.show()\n",
    "plt.savefig(\"static/images/readProfvsEnrollment.png\")"
   ]
  },
  {
   "cell_type": "code",
   "execution_count": 23,
   "metadata": {},
   "outputs": [],
   "source": [
    "with open('scatterplot3.html', 'w') as f:\n",
    "    f.write(fig.to_html(include_plotlyjs='cdn'))"
   ]
  },
  {
   "cell_type": "code",
   "execution_count": null,
   "metadata": {},
   "outputs": [],
   "source": []
  }
 ],
 "metadata": {
  "kernelspec": {
   "display_name": "Python 3",
   "language": "python",
   "name": "python3"
  },
  "language_info": {
   "codemirror_mode": {
    "name": "ipython",
    "version": 3
   },
   "file_extension": ".py",
   "mimetype": "text/x-python",
   "name": "python",
   "nbconvert_exporter": "python",
   "pygments_lexer": "ipython3",
   "version": "3.6.9"
  }
 },
 "nbformat": 4,
 "nbformat_minor": 2
}
